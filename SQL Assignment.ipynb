{
 "cells": [
  {
   "cell_type": "markdown",
   "metadata": {
    "id": "hmzI5oZ6E_Hp"
   },
   "source": [
    "# SQL Assignment"
   ]
  },
  {
   "cell_type": "code",
   "execution_count": 1,
   "metadata": {
    "id": "wso5pGwnE_Ht"
   },
   "outputs": [],
   "source": [
    "import pandas as pd\n",
    "import sqlite3\n",
    "\n",
    "from IPython.display import display, HTML"
   ]
  },
  {
   "cell_type": "code",
   "execution_count": 2,
   "metadata": {
    "id": "uMYMAPLm23sp"
   },
   "outputs": [],
   "source": [
    "# Note that this is not the same db we have used in course videos, please download from this link\n",
    "# https://drive.google.com/file/d/1O-1-L1DdNxEK6O6nG2jS31MbrMh-OnXM/view?usp=sharing"
   ]
  },
  {
   "cell_type": "code",
   "execution_count": 3,
   "metadata": {
    "id": "xrUl9ShkE_H0"
   },
   "outputs": [],
   "source": [
    "conn = sqlite3.connect(\"Db-IMDB-Assignment.db\")\n"
   ]
  },
  {
   "cell_type": "markdown",
   "metadata": {
    "id": "Z_ADQl2BE_H6"
   },
   "source": [
    "\n",
    "#### Overview of all tables"
   ]
  },
  {
   "cell_type": "code",
   "execution_count": 4,
   "metadata": {
    "id": "7ZfheusYE_H7",
    "scrolled": true
   },
   "outputs": [],
   "source": [
    "tables = pd.read_sql_query(\"SELECT NAME AS 'Table_Name' FROM sqlite_master WHERE type='table'\",conn)\n",
    "tables = tables[\"Table_Name\"].values.tolist()"
   ]
  },
  {
   "cell_type": "code",
   "execution_count": 6,
   "metadata": {
    "colab": {
     "base_uri": "https://localhost:8080/",
     "height": 1000
    },
    "executionInfo": {
     "elapsed": 1573,
     "status": "ok",
     "timestamp": 1609076958858,
     "user": {
      "displayName": "Applied AI Course",
      "photoUrl": "https://lh3.googleusercontent.com/a-/AOh14GhuSQ5tWcMSEyUXWi5GYagbq0BttLJf6r6PPxrB=s64",
      "userId": "00484516897554883881"
     },
     "user_tz": -330
    },
    "id": "f3zLh5FGE_H_",
    "outputId": "a443d072-a22f-4d15-bff8-0b8a4ee78d5c",
    "scrolled": true
   },
   "outputs": [
    {
     "name": "stdout",
     "output_type": "stream",
     "text": [
      "Schema of Movie\n"
     ]
    },
    {
     "data": {
      "text/html": [
       "<div>\n",
       "<style scoped>\n",
       "    .dataframe tbody tr th:only-of-type {\n",
       "        vertical-align: middle;\n",
       "    }\n",
       "\n",
       "    .dataframe tbody tr th {\n",
       "        vertical-align: top;\n",
       "    }\n",
       "\n",
       "    .dataframe thead th {\n",
       "        text-align: right;\n",
       "    }\n",
       "</style>\n",
       "<table border=\"1\" class=\"dataframe\">\n",
       "  <thead>\n",
       "    <tr style=\"text-align: right;\">\n",
       "      <th></th>\n",
       "      <th>cid</th>\n",
       "      <th>name</th>\n",
       "      <th>type</th>\n",
       "      <th>notnull</th>\n",
       "      <th>dflt_value</th>\n",
       "      <th>pk</th>\n",
       "    </tr>\n",
       "  </thead>\n",
       "  <tbody>\n",
       "    <tr>\n",
       "      <th>0</th>\n",
       "      <td>0</td>\n",
       "      <td>index</td>\n",
       "      <td>INTEGER</td>\n",
       "      <td>0</td>\n",
       "      <td>None</td>\n",
       "      <td>0</td>\n",
       "    </tr>\n",
       "    <tr>\n",
       "      <th>1</th>\n",
       "      <td>1</td>\n",
       "      <td>MID</td>\n",
       "      <td>TEXT</td>\n",
       "      <td>0</td>\n",
       "      <td>None</td>\n",
       "      <td>0</td>\n",
       "    </tr>\n",
       "    <tr>\n",
       "      <th>2</th>\n",
       "      <td>2</td>\n",
       "      <td>title</td>\n",
       "      <td>TEXT</td>\n",
       "      <td>0</td>\n",
       "      <td>None</td>\n",
       "      <td>0</td>\n",
       "    </tr>\n",
       "    <tr>\n",
       "      <th>3</th>\n",
       "      <td>3</td>\n",
       "      <td>year</td>\n",
       "      <td>TEXT</td>\n",
       "      <td>0</td>\n",
       "      <td>None</td>\n",
       "      <td>0</td>\n",
       "    </tr>\n",
       "    <tr>\n",
       "      <th>4</th>\n",
       "      <td>4</td>\n",
       "      <td>rating</td>\n",
       "      <td>REAL</td>\n",
       "      <td>0</td>\n",
       "      <td>None</td>\n",
       "      <td>0</td>\n",
       "    </tr>\n",
       "    <tr>\n",
       "      <th>5</th>\n",
       "      <td>5</td>\n",
       "      <td>num_votes</td>\n",
       "      <td>INTEGER</td>\n",
       "      <td>0</td>\n",
       "      <td>None</td>\n",
       "      <td>0</td>\n",
       "    </tr>\n",
       "  </tbody>\n",
       "</table>\n",
       "</div>"
      ],
      "text/plain": [
       "   cid       name     type  notnull dflt_value  pk\n",
       "0    0      index  INTEGER        0       None   0\n",
       "1    1        MID     TEXT        0       None   0\n",
       "2    2      title     TEXT        0       None   0\n",
       "3    3       year     TEXT        0       None   0\n",
       "4    4     rating     REAL        0       None   0\n",
       "5    5  num_votes  INTEGER        0       None   0"
      ]
     },
     "metadata": {},
     "output_type": "display_data"
    },
    {
     "name": "stdout",
     "output_type": "stream",
     "text": [
      "----------------------------------------------------------------------------------------------------\n",
      "\n",
      "\n",
      "Schema of Genre\n"
     ]
    },
    {
     "data": {
      "text/html": [
       "<div>\n",
       "<style scoped>\n",
       "    .dataframe tbody tr th:only-of-type {\n",
       "        vertical-align: middle;\n",
       "    }\n",
       "\n",
       "    .dataframe tbody tr th {\n",
       "        vertical-align: top;\n",
       "    }\n",
       "\n",
       "    .dataframe thead th {\n",
       "        text-align: right;\n",
       "    }\n",
       "</style>\n",
       "<table border=\"1\" class=\"dataframe\">\n",
       "  <thead>\n",
       "    <tr style=\"text-align: right;\">\n",
       "      <th></th>\n",
       "      <th>cid</th>\n",
       "      <th>name</th>\n",
       "      <th>type</th>\n",
       "      <th>notnull</th>\n",
       "      <th>dflt_value</th>\n",
       "      <th>pk</th>\n",
       "    </tr>\n",
       "  </thead>\n",
       "  <tbody>\n",
       "    <tr>\n",
       "      <th>0</th>\n",
       "      <td>0</td>\n",
       "      <td>index</td>\n",
       "      <td>INTEGER</td>\n",
       "      <td>0</td>\n",
       "      <td>None</td>\n",
       "      <td>0</td>\n",
       "    </tr>\n",
       "    <tr>\n",
       "      <th>1</th>\n",
       "      <td>1</td>\n",
       "      <td>Name</td>\n",
       "      <td>TEXT</td>\n",
       "      <td>0</td>\n",
       "      <td>None</td>\n",
       "      <td>0</td>\n",
       "    </tr>\n",
       "    <tr>\n",
       "      <th>2</th>\n",
       "      <td>2</td>\n",
       "      <td>GID</td>\n",
       "      <td>INTEGER</td>\n",
       "      <td>0</td>\n",
       "      <td>None</td>\n",
       "      <td>0</td>\n",
       "    </tr>\n",
       "  </tbody>\n",
       "</table>\n",
       "</div>"
      ],
      "text/plain": [
       "   cid   name     type  notnull dflt_value  pk\n",
       "0    0  index  INTEGER        0       None   0\n",
       "1    1   Name     TEXT        0       None   0\n",
       "2    2    GID  INTEGER        0       None   0"
      ]
     },
     "metadata": {},
     "output_type": "display_data"
    },
    {
     "name": "stdout",
     "output_type": "stream",
     "text": [
      "----------------------------------------------------------------------------------------------------\n",
      "\n",
      "\n",
      "Schema of Language\n"
     ]
    },
    {
     "data": {
      "text/html": [
       "<div>\n",
       "<style scoped>\n",
       "    .dataframe tbody tr th:only-of-type {\n",
       "        vertical-align: middle;\n",
       "    }\n",
       "\n",
       "    .dataframe tbody tr th {\n",
       "        vertical-align: top;\n",
       "    }\n",
       "\n",
       "    .dataframe thead th {\n",
       "        text-align: right;\n",
       "    }\n",
       "</style>\n",
       "<table border=\"1\" class=\"dataframe\">\n",
       "  <thead>\n",
       "    <tr style=\"text-align: right;\">\n",
       "      <th></th>\n",
       "      <th>cid</th>\n",
       "      <th>name</th>\n",
       "      <th>type</th>\n",
       "      <th>notnull</th>\n",
       "      <th>dflt_value</th>\n",
       "      <th>pk</th>\n",
       "    </tr>\n",
       "  </thead>\n",
       "  <tbody>\n",
       "    <tr>\n",
       "      <th>0</th>\n",
       "      <td>0</td>\n",
       "      <td>index</td>\n",
       "      <td>INTEGER</td>\n",
       "      <td>0</td>\n",
       "      <td>None</td>\n",
       "      <td>0</td>\n",
       "    </tr>\n",
       "    <tr>\n",
       "      <th>1</th>\n",
       "      <td>1</td>\n",
       "      <td>Name</td>\n",
       "      <td>TEXT</td>\n",
       "      <td>0</td>\n",
       "      <td>None</td>\n",
       "      <td>0</td>\n",
       "    </tr>\n",
       "    <tr>\n",
       "      <th>2</th>\n",
       "      <td>2</td>\n",
       "      <td>LAID</td>\n",
       "      <td>INTEGER</td>\n",
       "      <td>0</td>\n",
       "      <td>None</td>\n",
       "      <td>0</td>\n",
       "    </tr>\n",
       "  </tbody>\n",
       "</table>\n",
       "</div>"
      ],
      "text/plain": [
       "   cid   name     type  notnull dflt_value  pk\n",
       "0    0  index  INTEGER        0       None   0\n",
       "1    1   Name     TEXT        0       None   0\n",
       "2    2   LAID  INTEGER        0       None   0"
      ]
     },
     "metadata": {},
     "output_type": "display_data"
    },
    {
     "name": "stdout",
     "output_type": "stream",
     "text": [
      "----------------------------------------------------------------------------------------------------\n",
      "\n",
      "\n",
      "Schema of Country\n"
     ]
    },
    {
     "data": {
      "text/html": [
       "<div>\n",
       "<style scoped>\n",
       "    .dataframe tbody tr th:only-of-type {\n",
       "        vertical-align: middle;\n",
       "    }\n",
       "\n",
       "    .dataframe tbody tr th {\n",
       "        vertical-align: top;\n",
       "    }\n",
       "\n",
       "    .dataframe thead th {\n",
       "        text-align: right;\n",
       "    }\n",
       "</style>\n",
       "<table border=\"1\" class=\"dataframe\">\n",
       "  <thead>\n",
       "    <tr style=\"text-align: right;\">\n",
       "      <th></th>\n",
       "      <th>cid</th>\n",
       "      <th>name</th>\n",
       "      <th>type</th>\n",
       "      <th>notnull</th>\n",
       "      <th>dflt_value</th>\n",
       "      <th>pk</th>\n",
       "    </tr>\n",
       "  </thead>\n",
       "  <tbody>\n",
       "    <tr>\n",
       "      <th>0</th>\n",
       "      <td>0</td>\n",
       "      <td>index</td>\n",
       "      <td>INTEGER</td>\n",
       "      <td>0</td>\n",
       "      <td>None</td>\n",
       "      <td>0</td>\n",
       "    </tr>\n",
       "    <tr>\n",
       "      <th>1</th>\n",
       "      <td>1</td>\n",
       "      <td>Name</td>\n",
       "      <td>TEXT</td>\n",
       "      <td>0</td>\n",
       "      <td>None</td>\n",
       "      <td>0</td>\n",
       "    </tr>\n",
       "    <tr>\n",
       "      <th>2</th>\n",
       "      <td>2</td>\n",
       "      <td>CID</td>\n",
       "      <td>INTEGER</td>\n",
       "      <td>0</td>\n",
       "      <td>None</td>\n",
       "      <td>0</td>\n",
       "    </tr>\n",
       "  </tbody>\n",
       "</table>\n",
       "</div>"
      ],
      "text/plain": [
       "   cid   name     type  notnull dflt_value  pk\n",
       "0    0  index  INTEGER        0       None   0\n",
       "1    1   Name     TEXT        0       None   0\n",
       "2    2    CID  INTEGER        0       None   0"
      ]
     },
     "metadata": {},
     "output_type": "display_data"
    },
    {
     "name": "stdout",
     "output_type": "stream",
     "text": [
      "----------------------------------------------------------------------------------------------------\n",
      "\n",
      "\n",
      "Schema of Location\n"
     ]
    },
    {
     "data": {
      "text/html": [
       "<div>\n",
       "<style scoped>\n",
       "    .dataframe tbody tr th:only-of-type {\n",
       "        vertical-align: middle;\n",
       "    }\n",
       "\n",
       "    .dataframe tbody tr th {\n",
       "        vertical-align: top;\n",
       "    }\n",
       "\n",
       "    .dataframe thead th {\n",
       "        text-align: right;\n",
       "    }\n",
       "</style>\n",
       "<table border=\"1\" class=\"dataframe\">\n",
       "  <thead>\n",
       "    <tr style=\"text-align: right;\">\n",
       "      <th></th>\n",
       "      <th>cid</th>\n",
       "      <th>name</th>\n",
       "      <th>type</th>\n",
       "      <th>notnull</th>\n",
       "      <th>dflt_value</th>\n",
       "      <th>pk</th>\n",
       "    </tr>\n",
       "  </thead>\n",
       "  <tbody>\n",
       "    <tr>\n",
       "      <th>0</th>\n",
       "      <td>0</td>\n",
       "      <td>index</td>\n",
       "      <td>INTEGER</td>\n",
       "      <td>0</td>\n",
       "      <td>None</td>\n",
       "      <td>0</td>\n",
       "    </tr>\n",
       "    <tr>\n",
       "      <th>1</th>\n",
       "      <td>1</td>\n",
       "      <td>Name</td>\n",
       "      <td>TEXT</td>\n",
       "      <td>0</td>\n",
       "      <td>None</td>\n",
       "      <td>0</td>\n",
       "    </tr>\n",
       "    <tr>\n",
       "      <th>2</th>\n",
       "      <td>2</td>\n",
       "      <td>LID</td>\n",
       "      <td>INTEGER</td>\n",
       "      <td>0</td>\n",
       "      <td>None</td>\n",
       "      <td>0</td>\n",
       "    </tr>\n",
       "  </tbody>\n",
       "</table>\n",
       "</div>"
      ],
      "text/plain": [
       "   cid   name     type  notnull dflt_value  pk\n",
       "0    0  index  INTEGER        0       None   0\n",
       "1    1   Name     TEXT        0       None   0\n",
       "2    2    LID  INTEGER        0       None   0"
      ]
     },
     "metadata": {},
     "output_type": "display_data"
    },
    {
     "name": "stdout",
     "output_type": "stream",
     "text": [
      "----------------------------------------------------------------------------------------------------\n",
      "\n",
      "\n",
      "Schema of M_Location\n"
     ]
    },
    {
     "data": {
      "text/html": [
       "<div>\n",
       "<style scoped>\n",
       "    .dataframe tbody tr th:only-of-type {\n",
       "        vertical-align: middle;\n",
       "    }\n",
       "\n",
       "    .dataframe tbody tr th {\n",
       "        vertical-align: top;\n",
       "    }\n",
       "\n",
       "    .dataframe thead th {\n",
       "        text-align: right;\n",
       "    }\n",
       "</style>\n",
       "<table border=\"1\" class=\"dataframe\">\n",
       "  <thead>\n",
       "    <tr style=\"text-align: right;\">\n",
       "      <th></th>\n",
       "      <th>cid</th>\n",
       "      <th>name</th>\n",
       "      <th>type</th>\n",
       "      <th>notnull</th>\n",
       "      <th>dflt_value</th>\n",
       "      <th>pk</th>\n",
       "    </tr>\n",
       "  </thead>\n",
       "  <tbody>\n",
       "    <tr>\n",
       "      <th>0</th>\n",
       "      <td>0</td>\n",
       "      <td>index</td>\n",
       "      <td>INTEGER</td>\n",
       "      <td>0</td>\n",
       "      <td>None</td>\n",
       "      <td>0</td>\n",
       "    </tr>\n",
       "    <tr>\n",
       "      <th>1</th>\n",
       "      <td>1</td>\n",
       "      <td>MID</td>\n",
       "      <td>TEXT</td>\n",
       "      <td>0</td>\n",
       "      <td>None</td>\n",
       "      <td>0</td>\n",
       "    </tr>\n",
       "    <tr>\n",
       "      <th>2</th>\n",
       "      <td>2</td>\n",
       "      <td>LID</td>\n",
       "      <td>REAL</td>\n",
       "      <td>0</td>\n",
       "      <td>None</td>\n",
       "      <td>0</td>\n",
       "    </tr>\n",
       "    <tr>\n",
       "      <th>3</th>\n",
       "      <td>3</td>\n",
       "      <td>ID</td>\n",
       "      <td>INTEGER</td>\n",
       "      <td>0</td>\n",
       "      <td>None</td>\n",
       "      <td>0</td>\n",
       "    </tr>\n",
       "  </tbody>\n",
       "</table>\n",
       "</div>"
      ],
      "text/plain": [
       "   cid   name     type  notnull dflt_value  pk\n",
       "0    0  index  INTEGER        0       None   0\n",
       "1    1    MID     TEXT        0       None   0\n",
       "2    2    LID     REAL        0       None   0\n",
       "3    3     ID  INTEGER        0       None   0"
      ]
     },
     "metadata": {},
     "output_type": "display_data"
    },
    {
     "name": "stdout",
     "output_type": "stream",
     "text": [
      "----------------------------------------------------------------------------------------------------\n",
      "\n",
      "\n",
      "Schema of M_Country\n"
     ]
    },
    {
     "data": {
      "text/html": [
       "<div>\n",
       "<style scoped>\n",
       "    .dataframe tbody tr th:only-of-type {\n",
       "        vertical-align: middle;\n",
       "    }\n",
       "\n",
       "    .dataframe tbody tr th {\n",
       "        vertical-align: top;\n",
       "    }\n",
       "\n",
       "    .dataframe thead th {\n",
       "        text-align: right;\n",
       "    }\n",
       "</style>\n",
       "<table border=\"1\" class=\"dataframe\">\n",
       "  <thead>\n",
       "    <tr style=\"text-align: right;\">\n",
       "      <th></th>\n",
       "      <th>cid</th>\n",
       "      <th>name</th>\n",
       "      <th>type</th>\n",
       "      <th>notnull</th>\n",
       "      <th>dflt_value</th>\n",
       "      <th>pk</th>\n",
       "    </tr>\n",
       "  </thead>\n",
       "  <tbody>\n",
       "    <tr>\n",
       "      <th>0</th>\n",
       "      <td>0</td>\n",
       "      <td>index</td>\n",
       "      <td>INTEGER</td>\n",
       "      <td>0</td>\n",
       "      <td>None</td>\n",
       "      <td>0</td>\n",
       "    </tr>\n",
       "    <tr>\n",
       "      <th>1</th>\n",
       "      <td>1</td>\n",
       "      <td>MID</td>\n",
       "      <td>TEXT</td>\n",
       "      <td>0</td>\n",
       "      <td>None</td>\n",
       "      <td>0</td>\n",
       "    </tr>\n",
       "    <tr>\n",
       "      <th>2</th>\n",
       "      <td>2</td>\n",
       "      <td>CID</td>\n",
       "      <td>REAL</td>\n",
       "      <td>0</td>\n",
       "      <td>None</td>\n",
       "      <td>0</td>\n",
       "    </tr>\n",
       "    <tr>\n",
       "      <th>3</th>\n",
       "      <td>3</td>\n",
       "      <td>ID</td>\n",
       "      <td>INTEGER</td>\n",
       "      <td>0</td>\n",
       "      <td>None</td>\n",
       "      <td>0</td>\n",
       "    </tr>\n",
       "  </tbody>\n",
       "</table>\n",
       "</div>"
      ],
      "text/plain": [
       "   cid   name     type  notnull dflt_value  pk\n",
       "0    0  index  INTEGER        0       None   0\n",
       "1    1    MID     TEXT        0       None   0\n",
       "2    2    CID     REAL        0       None   0\n",
       "3    3     ID  INTEGER        0       None   0"
      ]
     },
     "metadata": {},
     "output_type": "display_data"
    },
    {
     "name": "stdout",
     "output_type": "stream",
     "text": [
      "----------------------------------------------------------------------------------------------------\n",
      "\n",
      "\n",
      "Schema of M_Language\n"
     ]
    },
    {
     "data": {
      "text/html": [
       "<div>\n",
       "<style scoped>\n",
       "    .dataframe tbody tr th:only-of-type {\n",
       "        vertical-align: middle;\n",
       "    }\n",
       "\n",
       "    .dataframe tbody tr th {\n",
       "        vertical-align: top;\n",
       "    }\n",
       "\n",
       "    .dataframe thead th {\n",
       "        text-align: right;\n",
       "    }\n",
       "</style>\n",
       "<table border=\"1\" class=\"dataframe\">\n",
       "  <thead>\n",
       "    <tr style=\"text-align: right;\">\n",
       "      <th></th>\n",
       "      <th>cid</th>\n",
       "      <th>name</th>\n",
       "      <th>type</th>\n",
       "      <th>notnull</th>\n",
       "      <th>dflt_value</th>\n",
       "      <th>pk</th>\n",
       "    </tr>\n",
       "  </thead>\n",
       "  <tbody>\n",
       "    <tr>\n",
       "      <th>0</th>\n",
       "      <td>0</td>\n",
       "      <td>index</td>\n",
       "      <td>INTEGER</td>\n",
       "      <td>0</td>\n",
       "      <td>None</td>\n",
       "      <td>0</td>\n",
       "    </tr>\n",
       "    <tr>\n",
       "      <th>1</th>\n",
       "      <td>1</td>\n",
       "      <td>MID</td>\n",
       "      <td>TEXT</td>\n",
       "      <td>0</td>\n",
       "      <td>None</td>\n",
       "      <td>0</td>\n",
       "    </tr>\n",
       "    <tr>\n",
       "      <th>2</th>\n",
       "      <td>2</td>\n",
       "      <td>LAID</td>\n",
       "      <td>INTEGER</td>\n",
       "      <td>0</td>\n",
       "      <td>None</td>\n",
       "      <td>0</td>\n",
       "    </tr>\n",
       "    <tr>\n",
       "      <th>3</th>\n",
       "      <td>3</td>\n",
       "      <td>ID</td>\n",
       "      <td>INTEGER</td>\n",
       "      <td>0</td>\n",
       "      <td>None</td>\n",
       "      <td>0</td>\n",
       "    </tr>\n",
       "  </tbody>\n",
       "</table>\n",
       "</div>"
      ],
      "text/plain": [
       "   cid   name     type  notnull dflt_value  pk\n",
       "0    0  index  INTEGER        0       None   0\n",
       "1    1    MID     TEXT        0       None   0\n",
       "2    2   LAID  INTEGER        0       None   0\n",
       "3    3     ID  INTEGER        0       None   0"
      ]
     },
     "metadata": {},
     "output_type": "display_data"
    },
    {
     "name": "stdout",
     "output_type": "stream",
     "text": [
      "----------------------------------------------------------------------------------------------------\n",
      "\n",
      "\n",
      "Schema of M_Genre\n"
     ]
    },
    {
     "data": {
      "text/html": [
       "<div>\n",
       "<style scoped>\n",
       "    .dataframe tbody tr th:only-of-type {\n",
       "        vertical-align: middle;\n",
       "    }\n",
       "\n",
       "    .dataframe tbody tr th {\n",
       "        vertical-align: top;\n",
       "    }\n",
       "\n",
       "    .dataframe thead th {\n",
       "        text-align: right;\n",
       "    }\n",
       "</style>\n",
       "<table border=\"1\" class=\"dataframe\">\n",
       "  <thead>\n",
       "    <tr style=\"text-align: right;\">\n",
       "      <th></th>\n",
       "      <th>cid</th>\n",
       "      <th>name</th>\n",
       "      <th>type</th>\n",
       "      <th>notnull</th>\n",
       "      <th>dflt_value</th>\n",
       "      <th>pk</th>\n",
       "    </tr>\n",
       "  </thead>\n",
       "  <tbody>\n",
       "    <tr>\n",
       "      <th>0</th>\n",
       "      <td>0</td>\n",
       "      <td>index</td>\n",
       "      <td>INTEGER</td>\n",
       "      <td>0</td>\n",
       "      <td>None</td>\n",
       "      <td>0</td>\n",
       "    </tr>\n",
       "    <tr>\n",
       "      <th>1</th>\n",
       "      <td>1</td>\n",
       "      <td>MID</td>\n",
       "      <td>TEXT</td>\n",
       "      <td>0</td>\n",
       "      <td>None</td>\n",
       "      <td>0</td>\n",
       "    </tr>\n",
       "    <tr>\n",
       "      <th>2</th>\n",
       "      <td>2</td>\n",
       "      <td>GID</td>\n",
       "      <td>INTEGER</td>\n",
       "      <td>0</td>\n",
       "      <td>None</td>\n",
       "      <td>0</td>\n",
       "    </tr>\n",
       "    <tr>\n",
       "      <th>3</th>\n",
       "      <td>3</td>\n",
       "      <td>ID</td>\n",
       "      <td>INTEGER</td>\n",
       "      <td>0</td>\n",
       "      <td>None</td>\n",
       "      <td>0</td>\n",
       "    </tr>\n",
       "  </tbody>\n",
       "</table>\n",
       "</div>"
      ],
      "text/plain": [
       "   cid   name     type  notnull dflt_value  pk\n",
       "0    0  index  INTEGER        0       None   0\n",
       "1    1    MID     TEXT        0       None   0\n",
       "2    2    GID  INTEGER        0       None   0\n",
       "3    3     ID  INTEGER        0       None   0"
      ]
     },
     "metadata": {},
     "output_type": "display_data"
    },
    {
     "name": "stdout",
     "output_type": "stream",
     "text": [
      "----------------------------------------------------------------------------------------------------\n",
      "\n",
      "\n",
      "Schema of Person\n"
     ]
    },
    {
     "data": {
      "text/html": [
       "<div>\n",
       "<style scoped>\n",
       "    .dataframe tbody tr th:only-of-type {\n",
       "        vertical-align: middle;\n",
       "    }\n",
       "\n",
       "    .dataframe tbody tr th {\n",
       "        vertical-align: top;\n",
       "    }\n",
       "\n",
       "    .dataframe thead th {\n",
       "        text-align: right;\n",
       "    }\n",
       "</style>\n",
       "<table border=\"1\" class=\"dataframe\">\n",
       "  <thead>\n",
       "    <tr style=\"text-align: right;\">\n",
       "      <th></th>\n",
       "      <th>cid</th>\n",
       "      <th>name</th>\n",
       "      <th>type</th>\n",
       "      <th>notnull</th>\n",
       "      <th>dflt_value</th>\n",
       "      <th>pk</th>\n",
       "    </tr>\n",
       "  </thead>\n",
       "  <tbody>\n",
       "    <tr>\n",
       "      <th>0</th>\n",
       "      <td>0</td>\n",
       "      <td>index</td>\n",
       "      <td>INTEGER</td>\n",
       "      <td>0</td>\n",
       "      <td>None</td>\n",
       "      <td>0</td>\n",
       "    </tr>\n",
       "    <tr>\n",
       "      <th>1</th>\n",
       "      <td>1</td>\n",
       "      <td>PID</td>\n",
       "      <td>TEXT</td>\n",
       "      <td>0</td>\n",
       "      <td>None</td>\n",
       "      <td>0</td>\n",
       "    </tr>\n",
       "    <tr>\n",
       "      <th>2</th>\n",
       "      <td>2</td>\n",
       "      <td>Name</td>\n",
       "      <td>TEXT</td>\n",
       "      <td>0</td>\n",
       "      <td>None</td>\n",
       "      <td>0</td>\n",
       "    </tr>\n",
       "    <tr>\n",
       "      <th>3</th>\n",
       "      <td>3</td>\n",
       "      <td>Gender</td>\n",
       "      <td>TEXT</td>\n",
       "      <td>0</td>\n",
       "      <td>None</td>\n",
       "      <td>0</td>\n",
       "    </tr>\n",
       "  </tbody>\n",
       "</table>\n",
       "</div>"
      ],
      "text/plain": [
       "   cid    name     type  notnull dflt_value  pk\n",
       "0    0   index  INTEGER        0       None   0\n",
       "1    1     PID     TEXT        0       None   0\n",
       "2    2    Name     TEXT        0       None   0\n",
       "3    3  Gender     TEXT        0       None   0"
      ]
     },
     "metadata": {},
     "output_type": "display_data"
    },
    {
     "name": "stdout",
     "output_type": "stream",
     "text": [
      "----------------------------------------------------------------------------------------------------\n",
      "\n",
      "\n",
      "Schema of M_Producer\n"
     ]
    },
    {
     "data": {
      "text/html": [
       "<div>\n",
       "<style scoped>\n",
       "    .dataframe tbody tr th:only-of-type {\n",
       "        vertical-align: middle;\n",
       "    }\n",
       "\n",
       "    .dataframe tbody tr th {\n",
       "        vertical-align: top;\n",
       "    }\n",
       "\n",
       "    .dataframe thead th {\n",
       "        text-align: right;\n",
       "    }\n",
       "</style>\n",
       "<table border=\"1\" class=\"dataframe\">\n",
       "  <thead>\n",
       "    <tr style=\"text-align: right;\">\n",
       "      <th></th>\n",
       "      <th>cid</th>\n",
       "      <th>name</th>\n",
       "      <th>type</th>\n",
       "      <th>notnull</th>\n",
       "      <th>dflt_value</th>\n",
       "      <th>pk</th>\n",
       "    </tr>\n",
       "  </thead>\n",
       "  <tbody>\n",
       "    <tr>\n",
       "      <th>0</th>\n",
       "      <td>0</td>\n",
       "      <td>index</td>\n",
       "      <td>INTEGER</td>\n",
       "      <td>0</td>\n",
       "      <td>None</td>\n",
       "      <td>0</td>\n",
       "    </tr>\n",
       "    <tr>\n",
       "      <th>1</th>\n",
       "      <td>1</td>\n",
       "      <td>MID</td>\n",
       "      <td>TEXT</td>\n",
       "      <td>0</td>\n",
       "      <td>None</td>\n",
       "      <td>0</td>\n",
       "    </tr>\n",
       "    <tr>\n",
       "      <th>2</th>\n",
       "      <td>2</td>\n",
       "      <td>PID</td>\n",
       "      <td>TEXT</td>\n",
       "      <td>0</td>\n",
       "      <td>None</td>\n",
       "      <td>0</td>\n",
       "    </tr>\n",
       "    <tr>\n",
       "      <th>3</th>\n",
       "      <td>3</td>\n",
       "      <td>ID</td>\n",
       "      <td>INTEGER</td>\n",
       "      <td>0</td>\n",
       "      <td>None</td>\n",
       "      <td>0</td>\n",
       "    </tr>\n",
       "  </tbody>\n",
       "</table>\n",
       "</div>"
      ],
      "text/plain": [
       "   cid   name     type  notnull dflt_value  pk\n",
       "0    0  index  INTEGER        0       None   0\n",
       "1    1    MID     TEXT        0       None   0\n",
       "2    2    PID     TEXT        0       None   0\n",
       "3    3     ID  INTEGER        0       None   0"
      ]
     },
     "metadata": {},
     "output_type": "display_data"
    },
    {
     "name": "stdout",
     "output_type": "stream",
     "text": [
      "----------------------------------------------------------------------------------------------------\n",
      "\n",
      "\n",
      "Schema of M_Director\n"
     ]
    },
    {
     "data": {
      "text/html": [
       "<div>\n",
       "<style scoped>\n",
       "    .dataframe tbody tr th:only-of-type {\n",
       "        vertical-align: middle;\n",
       "    }\n",
       "\n",
       "    .dataframe tbody tr th {\n",
       "        vertical-align: top;\n",
       "    }\n",
       "\n",
       "    .dataframe thead th {\n",
       "        text-align: right;\n",
       "    }\n",
       "</style>\n",
       "<table border=\"1\" class=\"dataframe\">\n",
       "  <thead>\n",
       "    <tr style=\"text-align: right;\">\n",
       "      <th></th>\n",
       "      <th>cid</th>\n",
       "      <th>name</th>\n",
       "      <th>type</th>\n",
       "      <th>notnull</th>\n",
       "      <th>dflt_value</th>\n",
       "      <th>pk</th>\n",
       "    </tr>\n",
       "  </thead>\n",
       "  <tbody>\n",
       "    <tr>\n",
       "      <th>0</th>\n",
       "      <td>0</td>\n",
       "      <td>index</td>\n",
       "      <td>INTEGER</td>\n",
       "      <td>0</td>\n",
       "      <td>None</td>\n",
       "      <td>0</td>\n",
       "    </tr>\n",
       "    <tr>\n",
       "      <th>1</th>\n",
       "      <td>1</td>\n",
       "      <td>MID</td>\n",
       "      <td>TEXT</td>\n",
       "      <td>0</td>\n",
       "      <td>None</td>\n",
       "      <td>0</td>\n",
       "    </tr>\n",
       "    <tr>\n",
       "      <th>2</th>\n",
       "      <td>2</td>\n",
       "      <td>PID</td>\n",
       "      <td>TEXT</td>\n",
       "      <td>0</td>\n",
       "      <td>None</td>\n",
       "      <td>0</td>\n",
       "    </tr>\n",
       "    <tr>\n",
       "      <th>3</th>\n",
       "      <td>3</td>\n",
       "      <td>ID</td>\n",
       "      <td>INTEGER</td>\n",
       "      <td>0</td>\n",
       "      <td>None</td>\n",
       "      <td>0</td>\n",
       "    </tr>\n",
       "  </tbody>\n",
       "</table>\n",
       "</div>"
      ],
      "text/plain": [
       "   cid   name     type  notnull dflt_value  pk\n",
       "0    0  index  INTEGER        0       None   0\n",
       "1    1    MID     TEXT        0       None   0\n",
       "2    2    PID     TEXT        0       None   0\n",
       "3    3     ID  INTEGER        0       None   0"
      ]
     },
     "metadata": {},
     "output_type": "display_data"
    },
    {
     "name": "stdout",
     "output_type": "stream",
     "text": [
      "----------------------------------------------------------------------------------------------------\n",
      "\n",
      "\n",
      "Schema of M_Cast\n"
     ]
    },
    {
     "data": {
      "text/html": [
       "<div>\n",
       "<style scoped>\n",
       "    .dataframe tbody tr th:only-of-type {\n",
       "        vertical-align: middle;\n",
       "    }\n",
       "\n",
       "    .dataframe tbody tr th {\n",
       "        vertical-align: top;\n",
       "    }\n",
       "\n",
       "    .dataframe thead th {\n",
       "        text-align: right;\n",
       "    }\n",
       "</style>\n",
       "<table border=\"1\" class=\"dataframe\">\n",
       "  <thead>\n",
       "    <tr style=\"text-align: right;\">\n",
       "      <th></th>\n",
       "      <th>cid</th>\n",
       "      <th>name</th>\n",
       "      <th>type</th>\n",
       "      <th>notnull</th>\n",
       "      <th>dflt_value</th>\n",
       "      <th>pk</th>\n",
       "    </tr>\n",
       "  </thead>\n",
       "  <tbody>\n",
       "    <tr>\n",
       "      <th>0</th>\n",
       "      <td>0</td>\n",
       "      <td>index</td>\n",
       "      <td>INTEGER</td>\n",
       "      <td>0</td>\n",
       "      <td>None</td>\n",
       "      <td>0</td>\n",
       "    </tr>\n",
       "    <tr>\n",
       "      <th>1</th>\n",
       "      <td>1</td>\n",
       "      <td>MID</td>\n",
       "      <td>TEXT</td>\n",
       "      <td>0</td>\n",
       "      <td>None</td>\n",
       "      <td>0</td>\n",
       "    </tr>\n",
       "    <tr>\n",
       "      <th>2</th>\n",
       "      <td>2</td>\n",
       "      <td>PID</td>\n",
       "      <td>TEXT</td>\n",
       "      <td>0</td>\n",
       "      <td>None</td>\n",
       "      <td>0</td>\n",
       "    </tr>\n",
       "    <tr>\n",
       "      <th>3</th>\n",
       "      <td>3</td>\n",
       "      <td>ID</td>\n",
       "      <td>INTEGER</td>\n",
       "      <td>0</td>\n",
       "      <td>None</td>\n",
       "      <td>0</td>\n",
       "    </tr>\n",
       "  </tbody>\n",
       "</table>\n",
       "</div>"
      ],
      "text/plain": [
       "   cid   name     type  notnull dflt_value  pk\n",
       "0    0  index  INTEGER        0       None   0\n",
       "1    1    MID     TEXT        0       None   0\n",
       "2    2    PID     TEXT        0       None   0\n",
       "3    3     ID  INTEGER        0       None   0"
      ]
     },
     "metadata": {},
     "output_type": "display_data"
    },
    {
     "name": "stdout",
     "output_type": "stream",
     "text": [
      "----------------------------------------------------------------------------------------------------\n",
      "\n",
      "\n"
     ]
    }
   ],
   "source": [
    "for table in tables:\n",
    "    query = \"PRAGMA TABLE_INFO({})\".format(table)\n",
    "    schema = pd.read_sql_query(query,conn)\n",
    "    print(\"Schema of\",table)\n",
    "    display(schema)\n",
    "    print(\"-\"*100)\n",
    "    print(\"\\n\")"
   ]
  },
  {
   "cell_type": "markdown",
   "metadata": {
    "id": "O4Cj0Wdz23tA"
   },
   "source": [
    "## Useful tips:\n",
    "\n",
    "1. the year column in 'Movie' table, will have few chracters other than numbers which you need to be preprocessed, you need to get a substring of last 4 characters, its better if you convert it as int type, ex: CAST(SUBSTR(TRIM(m.year),-4) AS INTEGER)\n",
    "\n",
    "2. For almost all the TEXT columns we have show, please try to remove trailing spaces, you need to use TRIM() function\n",
    "\n",
    "3. When you are doing count(coulmn) it won't consider the \"NULL\" values, you might need to explore other alternatives like Count(*)"
   ]
  },
  {
   "cell_type": "markdown",
   "metadata": {
    "id": "jL9AmM3oE_IZ"
   },
   "source": [
    "## Q1 --- List all the directors who directed a 'Comedy' movie in a leap year. (You need to check that the genre is 'Comedy’ and year is a leap year) Your query should return director name, the movie name, and the year."
   ]
  },
  {
   "cell_type": "markdown",
   "metadata": {
    "id": "1jglmxDuE_Ib"
   },
   "source": [
    "<h4>To determine whether a year is a leap year, follow these steps:</h4>\n",
    "\n",
    "<ul>\n",
    "    <li><b>STEP-1:</b> If the year is evenly divisible by 4, go to step 2. Otherwise, go to step 5.</li>\n",
    "    <li><b>STEP-2:</b> If the year is evenly divisible by 100, go to step 3. Otherwise, go to step 4.</li>\n",
    "    <li><b>STEP-3:</b> If the year is evenly divisible by 400, go to step 4. Otherwise, go to step 5.</li>\n",
    "    <li><b>STEP-4:</b> The year is a leap year (it has 366 days).</li>\n",
    "    <li><b>STEP-5:</b> The year is not a leap year (it has 365 days).</li>\n",
    "</ul>\n",
    "\n",
    "Year 1900 is divisible by 4 and 100 but it is not divisible by 400, so it is not a leap year."
   ]
  },
  {
   "cell_type": "code",
   "execution_count": 164,
   "metadata": {
    "colab": {
     "base_uri": "https://localhost:8080/",
     "height": 606
    },
    "executionInfo": {
     "elapsed": 1695,
     "status": "error",
     "timestamp": 1600088797006,
     "user": {
      "displayName": "Applied AI Course",
      "photoUrl": "https://lh3.googleusercontent.com/a-/AOh14GhuSQ5tWcMSEyUXWi5GYagbq0BttLJf6r6PPxrB=s64",
      "userId": "00484516897554883881"
     },
     "user_tz": -330
    },
    "id": "yBo_pMrH23tD",
    "outputId": "cebe75ec-12f2-499f-854d-d33f2ab3a766",
    "scrolled": true
   },
   "outputs": [
    {
     "name": "stdout",
     "output_type": "stream",
     "text": [
      "       Director_name                         Movie_name  year\n",
      "0       Milap Zaveri                         Mastizaade  2016\n",
      "1       Danny Leiner  Harold & Kumar Go to White Castle  2004\n",
      "2     Anurag Kashyap                 Gangs of Wasseypur  2012\n",
      "3       Frank Coraci        Around the World in 80 Days  2004\n",
      "4      Griffin Dunne             The Accidental Husband  2008\n",
      "5        Anurag Basu                             Barfi!  2012\n",
      "6    Gurinder Chadha                  Bride & Prejudice  2004\n",
      "7         Mike Judge    Beavis and Butt-Head Do America  1996\n",
      "8   Tarun Mansukhani                            Dostana  2008\n",
      "9       Shakun Batra                      Kapoor & Sons  2016\n",
      "Wall time: 72.9 ms\n"
     ]
    }
   ],
   "source": [
    "%%time\n",
    "def grader_1(q1):\n",
    "    q1_results  = pd.read_sql_query(q1,conn)\n",
    "    print(q1_results.head(10))\n",
    "    assert (q1_results.shape == (232,3))\n",
    "\n",
    "query1 = \"\"\" SELECT p.Name as Director_name, m.title as Movie_name, CAST(SUBSTR(TRIM(m.year),-4) AS INTEGER) as year \n",
    "             FROM Person p \n",
    "             JOIN M_Director md ON p.PID = md.PID\n",
    "             JOIN Movie m ON md.MID = m.MID \n",
    "             JOIN M_Genre mg ON m.MID = mg.MID\n",
    "             JOIN Genre g ON mg.GID = g.GID\n",
    "            \n",
    "             WHERE g.Name LIKE '%Comedy%' AND\n",
    "            \n",
    "             (CAST(SUBSTR(TRIM(m.year),-4) AS INTEGER) %4 = 0 AND  \n",
    "             CAST(SUBSTR(TRIM(m.year),-4) AS INTEGER) %100 <> 0\n",
    "             OR CAST(SUBSTR(TRIM(m.year),-4) AS INTEGER) %400 = 0)\n",
    "             \n",
    "            \"\"\"\n",
    "grader_1(query1)"
   ]
  },
  {
   "cell_type": "markdown",
   "metadata": {
    "id": "LHFSrIJlE_Ih"
   },
   "source": [
    "## Q2 --- List the names of all the actors who played in the movie 'Anand' (1971)"
   ]
  },
  {
   "cell_type": "code",
   "execution_count": 181,
   "metadata": {},
   "outputs": [
    {
     "name": "stdout",
     "output_type": "stream",
     "text": [
      "                Name\n",
      "0   Amitabh Bachchan\n",
      "1      Rajesh Khanna\n",
      "2     Brahm Bhardwaj\n",
      "3         Ramesh Deo\n",
      "4          Seema Deo\n",
      "5         Dev Kishan\n",
      "6        Durga Khote\n",
      "7      Lalita Kumari\n",
      "8       Lalita Pawar\n",
      "9       Atam Prakash\n",
      "Wall time: 217 ms\n"
     ]
    }
   ],
   "source": [
    "%%time\n",
    "def grader_2(q2):\n",
    "    q2_results  = pd.read_sql_query(q2,conn)\n",
    "    print(q2_results.head(10))\n",
    "    assert (q2_results.shape == (17,1))\n",
    "\n",
    "\n",
    "query2 = \"\"\" SELECT p.Name FROM Person p\n",
    "             JOIN M_Cast mc ON p.PID = TRIM(mc.PID)\n",
    "             JOIN Movie m ON mc.MID=m.MID \n",
    "             WHERE m.title='Anand'  \"\"\"\n",
    "\n",
    "grader_2(query2)"
   ]
  },
  {
   "cell_type": "markdown",
   "metadata": {
    "id": "bJ-mAUMmE_Il"
   },
   "source": [
    "## Q3 --- List all the actors who acted in a film before 1970 and in a film after 1990. (That is: < 1970 and > 1990.)"
   ]
  },
  {
   "cell_type": "code",
   "execution_count": 166,
   "metadata": {
    "colab": {
     "base_uri": "https://localhost:8080/"
    },
    "executionInfo": {
     "elapsed": 1054,
     "status": "ok",
     "timestamp": 1609074911453,
     "user": {
      "displayName": "Applied AI Course",
      "photoUrl": "https://lh3.googleusercontent.com/a-/AOh14GhuSQ5tWcMSEyUXWi5GYagbq0BttLJf6r6PPxrB=s64",
      "userId": "00484516897554883881"
     },
     "user_tz": -330
    },
    "id": "HARXLaJ623tY",
    "outputId": "8f4788df-84e8-42b9-b535-520f546e3348"
   },
   "outputs": [
    {
     "name": "stdout",
     "output_type": "stream",
     "text": [
      "(4942, 1)\n",
      "(62570, 1)\n",
      "True\n",
      "Wall time: 315 ms\n"
     ]
    }
   ],
   "source": [
    "%%time\n",
    "\n",
    "def grader_3a(query_less_1970, query_more_1990):\n",
    "    q3_a = pd.read_sql_query(query_less_1970,conn)\n",
    "    print(q3_a.shape)\n",
    "    q3_b = pd.read_sql_query(query_more_1990,conn)\n",
    "    print(q3_b.shape)\n",
    "    return (q3_a.shape == (4942,1)) and (q3_b.shape == (62570,1))\n",
    "\n",
    "query_less_1970 =\"\"\" \n",
    "Select p.PID from Person p \n",
    "inner join \n",
    "(\n",
    "    select trim(mc.PID) PD, mc.MID from M_cast mc \n",
    "where mc.MID \n",
    "in \n",
    "(\n",
    "    select mv.MID from Movie mv where CAST(SUBSTR(mv.year,-4) AS Integer)<1970\n",
    ")\n",
    ") r1 \n",
    "on r1.PD=p.PID \n",
    "\"\"\"\n",
    "query_more_1990 =\"\"\" \n",
    "Select p.PID from Person p \n",
    "inner join \n",
    "(\n",
    "    select trim(mc.PID) PD, mc.MID from M_cast mc \n",
    "where mc.MID \n",
    "in \n",
    "(\n",
    "    select mv.MID from Movie mv where CAST(SUBSTR(mv.year,-4) AS Integer)>1990\n",
    ")\n",
    ") r1 \n",
    "on r1.PD=p.PID \"\"\"\n",
    "print(grader_3a(query_less_1970, query_more_1990))\n",
    "\n",
    "# using the above two queries, you can find the answer to the given question "
   ]
  },
  {
   "cell_type": "code",
   "execution_count": 167,
   "metadata": {},
   "outputs": [
    {
     "name": "stdout",
     "output_type": "stream",
     "text": [
      "                Name\n",
      "0       Rishi Kapoor\n",
      "1   Amitabh Bachchan\n",
      "2             Asrani\n",
      "3       Zohra Sehgal\n",
      "4    Parikshat Sahni\n",
      "5      Rakesh Sharma\n",
      "6        Sanjay Dutt\n",
      "7          Ric Young\n",
      "8              Yusuf\n",
      "9     Suhasini Mulay\n",
      "Wall time: 351 ms\n"
     ]
    }
   ],
   "source": [
    "%%time\n",
    "def grader_3(q3):\n",
    "    q3_results  = pd.read_sql_query(q3,conn)\n",
    "    print(q3_results.head(10))\n",
    "    assert (q3_results.shape == (300,1))\n",
    "\n",
    "query3 = \"\"\" SELECT p.Name FROM Person p JOIN\n",
    "            (\n",
    "                SELECT p.PID FROM Person p \n",
    "                INNER JOIN \n",
    "                (\n",
    "                    SELECT trim(mc.PID) PD, mc.MID FROM M_cast mc \n",
    "                    WHERE mc.MID \n",
    "                    IN \n",
    "                    (\n",
    "                        SELECT mv.MID FROM Movie mv WHERE CAST(SUBSTR(mv.year,-4) AS Integer)<1970\n",
    "                    )\n",
    "                ) r1 \n",
    "                ON r1.PD=p.PID  \n",
    "\n",
    "                INTERSECT\n",
    "            \n",
    "                SELECT p.PID FROM Person p \n",
    "                INNER JOIN \n",
    "                (\n",
    "                    SELECT trim(mc.PID) PD, mc.MID FROM M_cast mc \n",
    "                    WHERE mc.MID \n",
    "                    IN \n",
    "                    (\n",
    "                        SELECT mv.MID FROM Movie mv WHERE CAST(SUBSTR(mv.year,-4) AS Integer)>1990\n",
    "                    )\n",
    "                ) r1 \n",
    "                ON r1.PD=p.PID  \n",
    "            ) r2 \n",
    "            ON p.PID = r2.PID\n",
    "\"\"\"\n",
    "            \n",
    "grader_3(query3)"
   ]
  },
  {
   "cell_type": "markdown",
   "metadata": {
    "id": "wd3tqFxaE_Ir"
   },
   "source": [
    "## Q4 --- List all directors who directed 10 movies or more, in descending order of the number of movies they directed. Return the directors' names and the number of movies each of them directed."
   ]
  },
  {
   "cell_type": "code",
   "execution_count": 178,
   "metadata": {
    "id": "aGgqAYk723th",
    "outputId": "8451f009-5585-43c6-f3bd-ae9aef0ede4a"
   },
   "outputs": [
    {
     "name": "stdout",
     "output_type": "stream",
     "text": [
      "  Director_Id  Movie_Count\n",
      "0   nm0223522           39\n",
      "1   nm0080315           35\n",
      "2   nm0890060           30\n",
      "3   nm0698184           30\n",
      "4   nm0080333           29\n",
      "5   nm0611531           27\n",
      "6   nm0007181           21\n",
      "7   nm0759662           19\n",
      "8   nm0154113           19\n",
      "9   nm0007131           18\n",
      "True\n",
      "Wall time: 14 ms\n"
     ]
    }
   ],
   "source": [
    "%%time\n",
    "\n",
    "def grader_4a(query_4a):\n",
    "    query_4a = pd.read_sql_query(query_4a,conn)\n",
    "    print(query_4a.head(10)) \n",
    "    return (query_4a.shape == (1462,2))\n",
    "\n",
    "## *** Write a query, which will return all the directors(id's) along with the number of movies they directed ***\n",
    "\n",
    "query_4a =\"\"\" SELECT md.PID as Director_Id ,COUNT(md.PID) as Movie_Count \n",
    "              FROM M_Director md JOIN Movie m ON md.MID = m.MID \n",
    "              GROUP BY md.PID \n",
    "              ORDER BY Movie_count DESC  \"\"\"\n",
    "\n",
    "print(grader_4a(query_4a))\n",
    "\n",
    "# using the above query, you can write the answer to the given question"
   ]
  },
  {
   "cell_type": "code",
   "execution_count": 183,
   "metadata": {},
   "outputs": [
    {
     "name": "stdout",
     "output_type": "stream",
     "text": [
      "           Director_Name  Movie_Count\n",
      "0           David Dhawan           39\n",
      "1           Mahesh Bhatt           35\n",
      "2        Ram Gopal Varma           30\n",
      "3           Priyadarshan           30\n",
      "4           Vikram Bhatt           29\n",
      "5   Hrishikesh Mukherjee           27\n",
      "6            Yash Chopra           21\n",
      "7         Shakti Samanta           19\n",
      "8        Basu Chatterjee           19\n",
      "9           Subhash Ghai           18\n",
      "Wall time: 41.1 ms\n"
     ]
    }
   ],
   "source": [
    "%%time\n",
    "def grader_4(q4):\n",
    "    q4_results  = pd.read_sql_query(q4,conn)\n",
    "    print(q4_results.head(10))\n",
    "    assert (q4_results.shape == (58,2))\n",
    "\n",
    "query4 = \"\"\"   SELECT p.Name as Director_Name ,COUNT(*) as Movie_Count \n",
    "               FROM Person p JOIN M_Director md ON p.PID = md.PID\n",
    "               JOIN Movie m ON md.MID = m.MID \n",
    "               GROUP BY md.PID HAVING Movie_Count >= 10 \n",
    "               ORDER BY Movie_Count DESC  \"\"\"\n",
    "\n",
    "grader_4(query4)"
   ]
  },
  {
   "cell_type": "markdown",
   "metadata": {
    "id": "OnulNpiOE_Iw"
   },
   "source": [
    "## Q5.a --- For each year, count the number of movies in that year that had only female actors."
   ]
  },
  {
   "cell_type": "code",
   "execution_count": 170,
   "metadata": {},
   "outputs": [
    {
     "name": "stdout",
     "output_type": "stream",
     "text": [
      "         MID  Gender  count\n",
      "0  tt0021594    None      1\n",
      "1  tt0021594  Female      3\n",
      "2  tt0021594    Male      5\n",
      "3  tt0026274    None      2\n",
      "4  tt0026274  Female     11\n",
      "5  tt0026274    Male      9\n",
      "6  tt0027256    None      2\n",
      "7  tt0027256  Female      5\n",
      "8  tt0027256    Male      8\n",
      "9  tt0028217  Female      3\n",
      "True\n",
      "         MID Gender  count\n",
      "0  tt0021594   Male      5\n",
      "1  tt0026274   Male      9\n",
      "2  tt0027256   Male      8\n",
      "3  tt0028217   Male      7\n",
      "4  tt0031580   Male     27\n",
      "5  tt0033616   Male     46\n",
      "6  tt0036077   Male     11\n",
      "7  tt0038491   Male      7\n",
      "8  tt0039654   Male      6\n",
      "9  tt0040067   Male     10\n",
      "True\n",
      "Wall time: 768 ms\n"
     ]
    }
   ],
   "source": [
    "%%time\n",
    "\n",
    "# note that you don't need TRIM for person table\n",
    "\n",
    "def grader_5aa(query_5aa):\n",
    "    query_5aa = pd.read_sql_query(query_5aa,conn)\n",
    "    print(query_5aa.head(10)) \n",
    "    return (query_5aa.shape == (8846,3))\n",
    "\n",
    "# *** Write your query that will get movie id, and number of people for each geneder ***\n",
    "\n",
    "query_5aa = \"\"\" SELECT m.MID as MID, p.Gender as Gender, COUNT(*) as count FROM\n",
    "                Movie m JOIN M_Cast mc ON m.MID = mc.MID\n",
    "                JOIN Person p ON TRIM(mc.PID) = p.PID \n",
    "                GROUP BY mc.MID, p.Gender \"\"\"\n",
    "\n",
    "print(grader_5aa(query_5aa))\n",
    "\n",
    "def grader_5ab(query_5ab):\n",
    "    query_5ab = pd.read_sql_query(query_5ab,conn)\n",
    "    print(query_5ab.head(10)) \n",
    "    return (query_5ab.shape == (3469, 3))\n",
    "\n",
    "# *** Write your query that will have at least one male actor try to use query that you have written above **\n",
    "\n",
    "query_5ab = \"\"\" SELECT m.MID as MID, p.Gender as Gender, COUNT(*) as count FROM\n",
    "                Movie m JOIN M_Cast mc ON m.MID = mc.MID\n",
    "                JOIN Person p ON TRIM(mc.PID) = p.PID \n",
    "                GROUP BY mc.MID, p.Gender \n",
    "                HAVING p.Gender = 'Male' \"\"\"\n",
    "\n",
    "print(grader_5ab(query_5ab))\n",
    "\n",
    "\n",
    "# using the above queries, you can write the answer to the given question"
   ]
  },
  {
   "cell_type": "code",
   "execution_count": 171,
   "metadata": {
    "colab": {
     "base_uri": "https://localhost:8080/",
     "height": 153
    },
    "id": "zQOIawPME_Ix",
    "outputId": "48450a58-61f0-4bc6-f71e-ff7df4ab7f80"
   },
   "outputs": [
    {
     "name": "stdout",
     "output_type": "stream",
     "text": [
      "   Year  Female_Cast_Only_Movies\n",
      "0  1939                        1\n",
      "1  1999                        1\n",
      "2  2000                        1\n",
      "3  2018                        1\n",
      "Wall time: 558 ms\n"
     ]
    }
   ],
   "source": [
    "%%time\n",
    "def grader_5a(q5a):\n",
    "    q5a_results  = pd.read_sql_query(q5a,conn)\n",
    "    print(q5a_results)\n",
    "    assert (q5a_results.shape == (4,2))\n",
    "\n",
    "query5a = \"\"\" SELECT CAST(SUBSTR(m.year,-4) AS Integer) as Year, COUNT(DISTINCT m.title) as Female_Cast_Only_Movies FROM\n",
    "              Movie m JOIN M_Cast mc ON m.MID = mc.MID\n",
    "              JOIN Person p ON TRIM(mc.PID) = p.PID \n",
    "              WHERE m.title \n",
    "              NOT IN\n",
    "\n",
    "              (SELECT  m.title FROM\n",
    "              Movie m JOIN M_Cast mc ON m.MID = mc.MID\n",
    "              JOIN Person p ON TRIM(mc.PID) = p.PID \n",
    "              WHERE p.Gender = 'Male')\n",
    "              \n",
    "              GROUP BY Year  \n",
    "              \"\"\"\n",
    "grader_5a(query5a)\n",
    "\n"
   ]
  },
  {
   "cell_type": "markdown",
   "metadata": {
    "id": "cTiKejUfE_I1"
   },
   "source": [
    "## Q5.b --- Now include a small change: report for each year the percentage of movies in that year with only female actors, and the total number of movies made that year. For example, one answer will be: 1990 31.81 13522 meaning that in 1990 there were 13,522 movies, and 31.81% had only female actors. You do not need to round your answer."
   ]
  },
  {
   "cell_type": "code",
   "execution_count": 172,
   "metadata": {},
   "outputs": [
    {
     "name": "stdout",
     "output_type": "stream",
     "text": [
      "   Year  Percentage_Female_Only_Movie  Total_movies\n",
      "0  1939                      0.500000             2\n",
      "1  1999                      0.015152            66\n",
      "2  2000                      0.015625            64\n",
      "3  2018                      0.009615           104\n",
      "Wall time: 574 ms\n"
     ]
    }
   ],
   "source": [
    "\n",
    "%%time\n",
    "def grader_5b(q5b):\n",
    "    q5b_results  = pd.read_sql_query(q5b,conn)\n",
    "    print(q5b_results.head(10))\n",
    "    assert (q5b_results.shape == (4,3))\n",
    "\n",
    "query5b = \"\"\" SELECT Female_only_Movie.Year,\n",
    "              CAST(Female_only_Movie.Female_Cast_Only_Movies AS FLOAT)/Total_Movies.Total_movies as Percentage_Female_Only_Movie,\n",
    "              Total_movies.Total_Movies FROM\n",
    "              \n",
    "              (SELECT Year,COUNT(m.title) as Total_movies\n",
    "              FROM Movie m GROUP BY CAST(SUBSTR(m.year,-4) AS Integer) ) Total_Movies\n",
    "              \n",
    "              JOIN\n",
    "              \n",
    "              (SELECT CAST(SUBSTR(m.year,-4) AS Integer) as Year,COUNT(DISTINCT m.title) as Female_Cast_Only_Movies FROM\n",
    "              Movie m JOIN M_Cast mc ON m.MID = mc.MID\n",
    "              JOIN Person p ON TRIM(mc.PID) = p.PID \n",
    "              WHERE m.title \n",
    "              NOT IN\n",
    "\n",
    "              (SELECT  m.title FROM\n",
    "              Movie m JOIN M_Cast mc ON m.MID = mc.MID\n",
    "              JOIN Person p ON TRIM(mc.PID) = p.PID \n",
    "              WHERE p.Gender = 'Male')\n",
    "              \n",
    "              GROUP BY Year  ) Female_only_Movie\n",
    "              \n",
    "              ON Total_Movies.Year = Female_only_Movie.year\n",
    "              \n",
    "              \"\"\"\n",
    "\n",
    "grader_5b(query5b)"
   ]
  },
  {
   "cell_type": "markdown",
   "metadata": {
    "id": "d5mvJcHDE_I6"
   },
   "source": [
    "## Q6 --- Find the film(s) with the largest cast. Return the movie title and the size of the cast. By \"cast size\" we mean the number of distinct actors that played in that movie: if an actor played multiple roles, or if it simply occurs multiple times in casts, we still count her/him only once."
   ]
  },
  {
   "cell_type": "code",
   "execution_count": 185,
   "metadata": {
    "colab": {
     "base_uri": "https://localhost:8080/",
     "height": 255
    },
    "id": "vpr9gGg6E_I7",
    "outputId": "bceec796-502e-4bb1-ce5e-0f8eb703e2f5"
   },
   "outputs": [
    {
     "name": "stdout",
     "output_type": "stream",
     "text": [
      "                        title  Count_of_Cast\n",
      "0               Ocean's Eight            238\n",
      "1                    Apaharan            233\n",
      "2                        Gold            215\n",
      "3             My Name Is Khan            213\n",
      "4  Captain America: Civil War            191\n",
      "5                    Geostorm            170\n",
      "6                     Striker            165\n",
      "7                        2012            154\n",
      "8                      Pixels            144\n",
      "9       Yamla Pagla Deewana 2            140\n",
      "Wall time: 272 ms\n"
     ]
    }
   ],
   "source": [
    "%%time\n",
    "def grader_6(q6):\n",
    "    q6_results  = pd.read_sql_query(q6,conn)\n",
    "    print(q6_results.head(10))\n",
    "    assert (q6_results.shape == (3473, 2))\n",
    "\n",
    "query6 = \"\"\" SELECT m.title,COUNT(DISTINCT TRIM(mc.PID)) as Count_of_Cast FROM Movie m \n",
    "             JOIN M_Cast mc ON M.MID = mc.MID\n",
    "             GROUP BY m.MID \n",
    "             ORDER BY COUNT(TRIM(mc.PID)) DESC  \"\"\" \n",
    "\n",
    "grader_6(query6)"
   ]
  },
  {
   "cell_type": "markdown",
   "metadata": {
    "id": "E6mOLxNgTby6"
   },
   "source": [
    "### Q7 --- A decade is a sequence of 10 consecutive years. \n",
    "### For example, say in your database you have movie information starting from 1931. \n",
    "### the first decade is 1931, 1932, ..., 1940,\n",
    "### the second decade is 1932, 1933, ..., 1941 and so on. \n",
    "### Find the decade D with the largest number of films and the total number of films in D"
   ]
  },
  {
   "cell_type": "code",
   "execution_count": 187,
   "metadata": {
    "id": "ZfOWt8IW23uE",
    "outputId": "2f06e789-9f45-44ed-d1d7-d628170bb6c5"
   },
   "outputs": [
    {
     "name": "stdout",
     "output_type": "stream",
     "text": [
      "   Movie_year  Total_Movies\n",
      "0        1931             1\n",
      "1        1936             3\n",
      "2        1939             2\n",
      "3        1941             1\n",
      "4        1943             1\n",
      "5        1946             2\n",
      "6        1947             2\n",
      "7        1948             3\n",
      "8        1949             3\n",
      "9        1950             2\n",
      "Wall time: 3.99 ms\n"
     ]
    }
   ],
   "source": [
    "%%time\n",
    "def grader_7a(q7a):\n",
    "    q7a_results  = pd.read_sql_query(q7a,conn)\n",
    "    print(q7a_results.head(10))\n",
    "    assert (q7a_results.shape == (78, 2))\n",
    "\n",
    "# *** Write a query that computes number of movies in each year ***    \n",
    "    \n",
    "query7a = \"\"\" SELECT CAST(SUBSTR(m.year,-4) AS INTEGER) as Movie_year, COUNT(*) as Total_Movies \n",
    "              FROM Movie m \n",
    "              GROUP BY CAST(SUBSTR(m.year,-4) AS INTEGER) \"\"\"\n",
    "\n",
    "grader_7a(query7a)\n",
    "\n",
    "# using the above query, you can write the answer to the given question"
   ]
  },
  {
   "cell_type": "code",
   "execution_count": 189,
   "metadata": {
    "id": "sBMzLrIY23uJ",
    "outputId": "6f40ad73-684a-44f9-a7ce-c0ec253df7e7"
   },
   "outputs": [
    {
     "name": "stdout",
     "output_type": "stream",
     "text": [
      "   Movie_year  Total_Movies  Movie_year  Total_Movies\n",
      "0        1931             1        1931             1\n",
      "1        1931             1        1936             3\n",
      "2        1931             1        1939             2\n",
      "3        1936             3        1936             3\n",
      "4        1936             3        1939             2\n",
      "5        1936             3        1941             1\n",
      "6        1936             3        1943             1\n",
      "7        1939             2        1939             2\n",
      "8        1939             2        1941             1\n",
      "9        1939             2        1943             1\n",
      "Wall time: 8 ms\n"
     ]
    }
   ],
   "source": [
    "%%time\n",
    "def grader_7b(q7b):\n",
    "    q7b_results  = pd.read_sql_query(q7b,conn)\n",
    "    print(q7b_results.head(10))\n",
    "    assert (q7b_results.shape == (713, 4))\n",
    "\n",
    "#  Write a query that will do joining of the above table(7a) with itself \n",
    "#  such that you will join with only rows if the second tables year is <= current_year+9 and more than or equal current_year\n",
    "    \n",
    "query7b = \"\"\" SELECT * FROM\n",
    "\n",
    "              (SELECT CAST(SUBSTR(m.year,-4) AS INTEGER) as Movie_year, COUNT(*) as Total_Movies \n",
    "              FROM Movie m \n",
    "              GROUP BY CAST(SUBSTR(m.year,-4) AS INTEGER) ) t1 \n",
    "              \n",
    "              JOIN\n",
    "              \n",
    "              (SELECT CAST(SUBSTR(m.year,-4) AS INTEGER) as Movie_year, COUNT(*) as Total_Movies \n",
    "              FROM Movie m \n",
    "              GROUP BY CAST(SUBSTR(m.year,-4) AS INTEGER) ) t2 \n",
    "              \n",
    "              WHERE t2.Movie_year  <= t1.Movie_year + 9  AND t2.Movie_year >= t1.Movie_year                \n",
    "             \n",
    "          \"\"\"\n",
    "\n",
    "grader_7b(query7b)\n",
    "# if you see the below results the first movie year is less than 2nd movie year and \n",
    "# 2nd movie year is less or equal to the first movie year+9\n",
    "\n",
    "# using the above query, you can write the answer to the given question"
   ]
  },
  {
   "cell_type": "code",
   "execution_count": 176,
   "metadata": {},
   "outputs": [
    {
     "name": "stdout",
     "output_type": "stream",
     "text": [
      "   Decade_Movie_Count  Decade\n",
      "0                1203    2008\n",
      "Wall time: 8.01 ms\n"
     ]
    }
   ],
   "source": [
    "%%time\n",
    "def grader_7(q7):\n",
    "    q7_results  = pd.read_sql_query(q7,conn)\n",
    "    print(q7_results.head(20))\n",
    "    assert (q7_results.shape == (1, 2))\n",
    "\n",
    "query7 = \"\"\"   SELECT MAX(Sum_of_Movies_in_every_Decade) as Decade_Movie_Count, Movie_year as Decade FROM\n",
    "\n",
    "              ( SELECT t2.Movie_year,SUM(t2.Total_Movies) as Sum_of_Movies_in_every_Decade FROM\n",
    "\n",
    "              (SELECT CAST(SUBSTR(m.year,-4) AS INTEGER) as Movie_year, COUNT(*) as Total_Movies \n",
    "              FROM Movie m \n",
    "              GROUP BY CAST(SUBSTR(m.year,-4) AS INTEGER) ) t1 \n",
    "              \n",
    "              JOIN\n",
    "              \n",
    "              (SELECT CAST(SUBSTR(m.year,-4) AS INTEGER) as Movie_year, COUNT(*) as Total_Movies \n",
    "              FROM Movie m \n",
    "              GROUP BY CAST(SUBSTR(m.year,-4) AS INTEGER) ) t2 \n",
    "              \n",
    "              WHERE t2.Movie_year  <= t1.Movie_year+9  AND t2.Movie_year >= t1.Movie_year   \n",
    "              GROUP BY t1.Movie_year ) \n",
    "              \n",
    "             \"\"\"\n",
    "\n",
    "grader_7(query7)\n",
    "# if you check the output we are printinng all the year in that decade, its fine you can print 2008 or 2008-2017"
   ]
  },
  {
   "cell_type": "markdown",
   "metadata": {
    "id": "Jbm3Oy3hT8d9"
   },
   "source": [
    "## Q8 --- Find all the actors that made more movies with Yash Chopra than any other director."
   ]
  },
  {
   "cell_type": "code",
   "execution_count": 192,
   "metadata": {
    "id": "DZJ7WMrk23uR",
    "outputId": "6f379ab4-bfb0-4a2f-dc6a-ae221cb65a0e"
   },
   "outputs": [
    {
     "name": "stdout",
     "output_type": "stream",
     "text": [
      "        Actor   Director  movies\n",
      "0   nm0000002  nm0496746       1\n",
      "1   nm0000027  nm0000180       1\n",
      "2   nm0000039  nm0896533       1\n",
      "3   nm0000042  nm0896533       1\n",
      "4   nm0000047  nm0004292       1\n",
      "5   nm0000073  nm0485943       1\n",
      "6   nm0000076  nm0000229       1\n",
      "7   nm0000092  nm0178997       1\n",
      "8   nm0000093  nm0000269       1\n",
      "9   nm0000096  nm0149446       1\n",
      "Wall time: 645 ms\n"
     ]
    }
   ],
   "source": [
    "%%time\n",
    "def grader_8a(q8a):\n",
    "    q8a_results  = pd.read_sql_query(q8a,conn)\n",
    "    print(q8a_results.head(10))\n",
    "\n",
    "    assert (q8a_results.shape == (73408, 3))\n",
    "\n",
    "# *** Write a query that will results in number of movies actor-director worked together ***    \n",
    "    \n",
    "query8a = \"\"\" SELECT distinct  mc.PID as Actor,md.PID as Director,COUNT(*) as movies FROM Movie m \n",
    "              JOIN M_Cast mc ON m.MID=mc.MID\n",
    "              JOIN M_Director md ON m.MID = md.MID \n",
    "              GROUP BY mc.ID\n",
    "              ORDER BY actor  \"\"\"\n",
    "\n",
    "grader_8a(query8a)\n",
    "\n",
    "# using the above query, you can write the answer to the given question"
   ]
  },
  {
   "cell_type": "code",
   "execution_count": 193,
   "metadata": {},
   "outputs": [
    {
     "name": "stdout",
     "output_type": "stream",
     "text": [
      "                Name  movies_with_yc\n",
      "0        Jagdish Raj              11\n",
      "1   Manmohan Krishna              10\n",
      "2           Iftekhar               9\n",
      "3      Shashi Kapoor               7\n",
      "4      Rakhee Gulzar               5\n",
      "5     Waheeda Rehman               5\n",
      "6           Ravikant               4\n",
      "7     Achala Sachdev               4\n",
      "8        Neetu Singh               4\n",
      "9      Leela Chitnis               3\n",
      "(245, 2)\n",
      "Wall time: 872 ms\n"
     ]
    }
   ],
   "source": [
    "%%time\n",
    "\n",
    "def grader_8(q8):\n",
    "    q8_results  = pd.read_sql_query(q8,conn)\n",
    "    print(q8_results.head(10))\n",
    "    print(q8_results.shape)\n",
    "    assert (q8_results.shape == (245, 2))\n",
    "\n",
    "    \n",
    "query8 = \"\"\"  SELECT Name,movies_with_yc FROM\n",
    "              (\n",
    "                  SELECT pa.Name,pa.PID,COUNT(m.MID) as movies_with_yc FROM Movie m \n",
    "                  JOIN M_Cast mc ON m.MID=mc.MID\n",
    "                  JOIN M_Director md ON m.MID = md.MID \n",
    "                  JOIN Person pa ON TRIM(mc.PID) = pa.PID\n",
    "                  JOIN Person pd ON (md.PID) = pd.PID\n",
    "                  WHERE TRIM(pd.Name) = 'Yash Chopra'\n",
    "                  GROUP BY (pa.PID)\n",
    "              ) withyc\n",
    "              \n",
    "              LEFT OUTER JOIN\n",
    "              \n",
    "              (\n",
    "                  SELECT  PID,MAX(movies_with_others) as max_movies_with_others FROM \n",
    "                  (\n",
    "                      SELECT pa.PID,COUNT(m.MID) as movies_with_others FROM Movie m \n",
    "                      JOIN M_Cast mc ON m.MID=mc.MID\n",
    "                      JOIN M_Director md ON m.MID = md.MID \n",
    "                      JOIN Person pa ON TRIM(mc.PID) = pa.PID\n",
    "                      JOIN Person pd ON md.PID = pd.PID\n",
    "                      WHERE TRIM(pd.Name) != 'Yash Chopra'\n",
    "                      GROUP BY pa.PID,TRIM(pd.Name)\n",
    "                  ) GROUP BY PID\n",
    "              ) withothers \n",
    "              \n",
    "              ON withyc.PID = withothers.PID\n",
    "              \n",
    "              WHERE withyc.movies_with_yc >= withothers.max_movies_with_others \n",
    "              OR withothers.PID IS NULL\n",
    "              ORDER BY withyc.movies_with_yc DESC\n",
    "             \n",
    "              \"\"\"\n",
    "#WHERE withyc.a > withoutyc.b \n",
    "grader_8(query8)"
   ]
  },
  {
   "cell_type": "markdown",
   "metadata": {
    "id": "2j8Fc9jUUJ9C"
   },
   "source": [
    "## Q9 --- The Shahrukh number of an actor is the length of the shortest path between the actor and Shahrukh Khan in the \"co-acting\" graph. That is, Shahrukh Khan has Shahrukh number 0; all actors who acted in the same film as Shahrukh have Shahrukh number 1; all actors who acted in the same film as some actor with Shahrukh number 1 have Shahrukh number 2, etc. Return all actors whose Shahrukh number is 2."
   ]
  },
  {
   "cell_type": "code",
   "execution_count": 194,
   "metadata": {},
   "outputs": [
    {
     "name": "stdout",
     "output_type": "stream",
     "text": [
      "      S1_PID\n",
      "0  nm0004418\n",
      "1  nm1995953\n",
      "2  nm2778261\n",
      "3  nm0631373\n",
      "4  nm0241935\n",
      "5  nm0792116\n",
      "6  nm1300111\n",
      "7  nm0196375\n",
      "8  nm1464837\n",
      "9  nm2868019\n",
      "(2382, 1)\n",
      "Wall time: 445 ms\n"
     ]
    }
   ],
   "source": [
    "%%time\n",
    "def grader_9a(q9a):\n",
    "    q9a_results  = pd.read_sql_query(q9a,conn)\n",
    "    print(q9a_results.head(10))\n",
    "    print(q9a_results.shape)\n",
    "    assert (q9a_results.shape == (2382, 1))\n",
    "\n",
    "query9a = \"\"\" \n",
    "                  SELECT distinct p2.PID as S1_PID FROM Person p2 \n",
    "                      JOIN M_Cast mc2 ON p2.PID = TRIM(mc2.PID)\n",
    "                      JOIN Movie m2 ON TRIM(mc2.MID) = m2.MID\n",
    "                      WHERE TRIM(p2.Name) != 'Shah Rukh Khan'\n",
    "                      AND m2.MID IN\n",
    "                      (\n",
    "                          SELECT DISTINCT m1.MID as srk_movies FROM Person p1 \n",
    "                          JOIN M_Cast mc1 ON p1.PID = TRIM(mc1.PID)\n",
    "                          JOIN Movie m1 ON TRIM(mc1.MID) = m1.MID\n",
    "                          WHERE TRIM(p1.Name) = 'Shah Rukh Khan'  )\n",
    " \n",
    "                \"\"\"\n",
    "grader_9a(query9a)\n",
    "# using the above query, you can write the answer to the given question\n",
    "\n",
    "# selecting actors who acted with srk (S1)\n",
    "# selecting all movies where S1 actors acted, this forms S2 movies list\n",
    "# selecting all actors who acted in S2 movies, this gives us S2 actors along with S1 actors\n",
    "# removing S1 actors from the combined list of S1 & S2 actors, so that we get only S2 actors"
   ]
  },
  {
   "cell_type": "code",
   "execution_count": 195,
   "metadata": {},
   "outputs": [
    {
     "name": "stdout",
     "output_type": "stream",
     "text": [
      "             Actor_name\n",
      "0       Alicia Vikander\n",
      "1          Dominic West\n",
      "2        Walton Goggins\n",
      "3             Daniel Wu\n",
      "4  Kristin Scott Thomas\n",
      "5          Derek Jacobi\n",
      "6    Alexandre Willaume\n",
      "7          Tamer Burjaq\n",
      "8        Adrian Collins\n",
      "9        Keenan Arrison\n",
      "(25698, 1)\n",
      "Wall time: 1.58 s\n"
     ]
    }
   ],
   "source": [
    "%%time\n",
    "def grader_9(q9):\n",
    "    q9_results  = pd.read_sql_query(q9,conn)\n",
    "    print(q9_results.head(10))\n",
    "    print(q9_results.shape)\n",
    "    assert (q9_results.shape == (25698, 1))\n",
    "\n",
    "query9 = \"\"\"  SELECT p5.s1_s2_actors as Actor_name FROM \n",
    "             ( \n",
    "              SELECT DISTINCT (p4.PID) as s1_s2_PID ,TRIM(p4.Name) as s1_s2_actors FROM Person p4 \n",
    "              JOIN M_Cast mc4 ON p4.PID = TRIM(mc4.PID)\n",
    "              JOIN Movie m4 ON TRIM(mc4.MID) = m4.MID \n",
    "              WHERE TRIM(p4.Name) != 'Shah Rukh Khan'\n",
    "              AND m4.MID IN \n",
    "              (\n",
    "                  SELECT DISTINCT m3.MID as s2_movies FROM Person p3\n",
    "                  JOIN M_Cast mc3 ON p3.PID = TRIM(mc3.PID)\n",
    "                  JOIN Movie m3 ON TRIM(mc3.MID) = m3.MID\n",
    "                  WHERE (p3.PID) IN\n",
    "                  (\n",
    "                      SELECT DISTINCT (p2.PID) as s1_actors FROM Person p2 \n",
    "                      JOIN M_Cast mc2 ON p2.PID = TRIM(mc2.PID)\n",
    "                      JOIN Movie m2 ON TRIM(mc2.MID) = m2.MID\n",
    "                      WHERE TRIM(p2.Name) != 'Shah Rukh Khan'\n",
    "                      AND m2.MID IN\n",
    "                      (\n",
    "                          SELECT m1.MID as srk_movies FROM Person p1   \n",
    "                          JOIN M_Cast mc1 ON p1.PID = TRIM(mc1.PID)\n",
    "                          JOIN Movie m1 ON TRIM(mc1.MID) = m1.MID\n",
    "                          WHERE TRIM(p1.Name) = 'Shah Rukh Khan'  )))\n",
    "                          ) p5\n",
    "                          \n",
    "                          \n",
    "                          WHERE p5.s1_s2_PID NOT IN \n",
    "                          \n",
    "                          \n",
    "                          (    \n",
    "                              SELECT distinct p6.PID as S1_PID FROM Person p6 \n",
    "                              JOIN M_Cast mc6 ON p6.PID = TRIM(mc6.PID)\n",
    "                              JOIN Movie m6 ON TRIM(mc6.MID) = m6.MID\n",
    "                              WHERE TRIM(p6.Name) != 'Shah Rukh Khan'\n",
    "                              AND m6.MID IN\n",
    "                              (\n",
    "                                  SELECT DISTINCT m7.MID as srk_movies FROM Person p7 \n",
    "                                  JOIN M_Cast mc7 ON p7.PID = TRIM(mc7.PID)\n",
    "                                  JOIN Movie m7 ON TRIM(mc7.MID) = m7.MID\n",
    "                                  WHERE TRIM(p7.Name) = 'Shah Rukh Khan'  ))\n",
    "\n",
    "                            \"\"\"\n",
    "grader_9(query9)"
   ]
  },
  {
   "cell_type": "code",
   "execution_count": null,
   "metadata": {},
   "outputs": [],
   "source": []
  }
 ],
 "metadata": {
  "colab": {
   "collapsed_sections": [],
   "name": "SQL sample queries.ipynb",
   "provenance": [],
   "toc_visible": true
  },
  "kernelspec": {
   "display_name": "Python 3",
   "language": "python",
   "name": "python3"
  },
  "language_info": {
   "codemirror_mode": {
    "name": "ipython",
    "version": 3
   },
   "file_extension": ".py",
   "mimetype": "text/x-python",
   "name": "python",
   "nbconvert_exporter": "python",
   "pygments_lexer": "ipython3",
   "version": "3.6.13"
  }
 },
 "nbformat": 4,
 "nbformat_minor": 1
}
