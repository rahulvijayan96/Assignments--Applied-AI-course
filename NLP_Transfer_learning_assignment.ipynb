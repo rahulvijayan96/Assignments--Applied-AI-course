{
 "cells": [
  {
   "cell_type": "markdown",
   "metadata": {
    "id": "5el_8SqFqVAT"
   },
   "source": [
    "\n",
    "In this notebook, You will do amazon review classification with BERT.[Download data from [this](https://www.kaggle.com/snap/amazon-fine-food-reviews/data) link]\n",
    "<pre> \n",
    "It contains 5 parts as below.  Detailed instrctions are given in the each cell. please read every comment we have written. \n",
    "    1. Preprocessing \n",
    "    2. Creating a BERT model from the Tensorflow HUB.\n",
    "    3. Tokenization\n",
    "    4. getting the pretrained embedding Vector for a given review from the BERT.\n",
    "    5. Using the embedding data apply NN and classify the reviews.\n",
    "    6. Creating a Data pipeline for BERT Model. \n",
    "\n",
    "<font size=5>instructions:</font>\n",
    "\n",
    "    1. Don't change any Grader Functions. Don't manipulate any Grader functions. \n",
    "    If you manipulate any, it will be considered as plagiarised. \n",
    "    \n",
    "    2. Please read the instructions on the code cells and markdown cells. We will explain what to write. \n",
    "    \n",
    "    3. please return outputs in the same format what we asked. Eg. Don't return List if we are asking for a numpy array.\n",
    "    \n",
    "    4. Please read the external links that we are given so that you will learn the concept behind the code that you are writing.\n",
    "    \n",
    "    5. We are giving instructions at each section if necessary, please follow them. \n",
    "\n",
    "<font size=5>Every Grader function has to return True. </font>\n",
    "</pre>"
   ]
  },
  {
   "cell_type": "code",
   "execution_count": null,
   "metadata": {
    "id": "E6JSKPjKwOLP"
   },
   "outputs": [],
   "source": [
    "#in this assignment you need two files reviews.csv and tokenization file\n",
    "#you can use gdown module to import both the files in colab from Google drive\n",
    "#the syntax is for gdown is !gdown --id file_id\n",
    "#please run the below cell to import the required files\n"
   ]
  },
  {
   "cell_type": "code",
   "execution_count": 1,
   "metadata": {
    "colab": {
     "base_uri": "https://localhost:8080/"
    },
    "id": "NUGbEZafwwzX",
    "outputId": "84e65666-ecdd-4616-9d83-bb502ac7ade6"
   },
   "outputs": [
    {
     "name": "stdout",
     "output_type": "stream",
     "text": [
      "Downloading...\n",
      "From: https://drive.google.com/uc?id=1GsD8JlAc_0yJ-1151LNr6rLw83RRUPgt\n",
      "To: /content/Reviews.csv\n",
      "100% 301M/301M [00:02<00:00, 116MB/s]\n",
      "Downloading...\n",
      "From: https://drive.google.com/uc?id=13exfXiyiByluh1PfYK1EyZyizqxeCVG9\n",
      "To: /content/tokenization.py\n",
      "100% 17.3k/17.3k [00:00<00:00, 29.5MB/s]\n"
     ]
    }
   ],
   "source": [
    "# !gdown --id 1GsD8JlAc_0yJ-1151LNr6rLw83RRUPgt\n",
    "# !gdown --id 13exfXiyiByluh1PfYK1EyZyizqxeCVG9"
   ]
  },
  {
   "cell_type": "code",
   "execution_count": 1,
   "metadata": {
    "id": "wOtG4cf0qVAZ"
   },
   "outputs": [],
   "source": [
    "#all imports\n",
    "import numpy as np\n",
    "import pandas as pd\n",
    "import tensorflow as tf\n",
    "import tensorflow_hub as hub\n",
    "import matplotlib.pyplot as plt\n",
    "import re\n",
    "from tqdm import tqdm\n",
    "from tensorflow.keras.models import Model"
   ]
  },
  {
   "cell_type": "code",
   "execution_count": 2,
   "metadata": {
    "id": "OcmiHdAJqVAi"
   },
   "outputs": [
    {
     "data": {
      "text/plain": [
       "'/device:GPU:0'"
      ]
     },
     "execution_count": 2,
     "metadata": {},
     "output_type": "execute_result"
    }
   ],
   "source": [
    "tf.test.gpu_device_name()"
   ]
  },
  {
   "cell_type": "markdown",
   "metadata": {
    "id": "LBsay58AqVAo"
   },
   "source": [
    "<font size=4>Grader function 1 </font>"
   ]
  },
  {
   "cell_type": "code",
   "execution_count": 18,
   "metadata": {
    "id": "aTBvOKFeqVAq"
   },
   "outputs": [
    {
     "data": {
      "text/plain": [
       "True"
      ]
     },
     "execution_count": 18,
     "metadata": {},
     "output_type": "execute_result"
    }
   ],
   "source": [
    "def grader_tf_version():\n",
    "    assert((tf.__version__)>'2')\n",
    "    return True\n",
    "grader_tf_version()"
   ]
  },
  {
   "cell_type": "markdown",
   "metadata": {
    "id": "ZTWRqbrBqVAu"
   },
   "source": [
    "<pre><font size=6>Part-1: Preprocessing</font></pre>"
   ]
  },
  {
   "cell_type": "code",
   "execution_count": 87,
   "metadata": {
    "id": "B3csZKDrqVAv"
   },
   "outputs": [
    {
     "name": "stdout",
     "output_type": "stream",
     "text": [
      "<class 'pandas.core.frame.DataFrame'>\n",
      "RangeIndex: 568454 entries, 0 to 568453\n",
      "Data columns (total 10 columns):\n",
      " #   Column                  Non-Null Count   Dtype \n",
      "---  ------                  --------------   ----- \n",
      " 0   Id                      568454 non-null  int64 \n",
      " 1   ProductId               568454 non-null  object\n",
      " 2   UserId                  568454 non-null  object\n",
      " 3   ProfileName             568438 non-null  object\n",
      " 4   HelpfulnessNumerator    568454 non-null  int64 \n",
      " 5   HelpfulnessDenominator  568454 non-null  int64 \n",
      " 6   Score                   568454 non-null  int64 \n",
      " 7   Time                    568454 non-null  int64 \n",
      " 8   Summary                 568427 non-null  object\n",
      " 9   Text                    568454 non-null  object\n",
      "dtypes: int64(5), object(5)\n",
      "memory usage: 43.4+ MB\n"
     ]
    }
   ],
   "source": [
    "#Read the dataset - Amazon fine food reviews\n",
    "reviews = pd.read_csv(r\"Reviews.csv\")\n",
    "#check the info of the dataset\n",
    "reviews.info()"
   ]
  },
  {
   "cell_type": "code",
   "execution_count": 88,
   "metadata": {
    "id": "xokNn7qZqVAz"
   },
   "outputs": [
    {
     "data": {
      "text/html": [
       "<div>\n",
       "<style scoped>\n",
       "    .dataframe tbody tr th:only-of-type {\n",
       "        vertical-align: middle;\n",
       "    }\n",
       "\n",
       "    .dataframe tbody tr th {\n",
       "        vertical-align: top;\n",
       "    }\n",
       "\n",
       "    .dataframe thead th {\n",
       "        text-align: right;\n",
       "    }\n",
       "</style>\n",
       "<table border=\"1\" class=\"dataframe\">\n",
       "  <thead>\n",
       "    <tr style=\"text-align: right;\">\n",
       "      <th></th>\n",
       "      <th>Score</th>\n",
       "      <th>Text</th>\n",
       "    </tr>\n",
       "  </thead>\n",
       "  <tbody>\n",
       "    <tr>\n",
       "      <th>0</th>\n",
       "      <td>5</td>\n",
       "      <td>I have bought several of the Vitality canned d...</td>\n",
       "    </tr>\n",
       "    <tr>\n",
       "      <th>1</th>\n",
       "      <td>1</td>\n",
       "      <td>Product arrived labeled as Jumbo Salted Peanut...</td>\n",
       "    </tr>\n",
       "    <tr>\n",
       "      <th>2</th>\n",
       "      <td>4</td>\n",
       "      <td>This is a confection that has been around a fe...</td>\n",
       "    </tr>\n",
       "    <tr>\n",
       "      <th>3</th>\n",
       "      <td>2</td>\n",
       "      <td>If you are looking for the secret ingredient i...</td>\n",
       "    </tr>\n",
       "    <tr>\n",
       "      <th>4</th>\n",
       "      <td>5</td>\n",
       "      <td>Great taffy at a great price.  There was a wid...</td>\n",
       "    </tr>\n",
       "  </tbody>\n",
       "</table>\n",
       "</div>"
      ],
      "text/plain": [
       "   Score                                               Text\n",
       "0      5  I have bought several of the Vitality canned d...\n",
       "1      1  Product arrived labeled as Jumbo Salted Peanut...\n",
       "2      4  This is a confection that has been around a fe...\n",
       "3      2  If you are looking for the secret ingredient i...\n",
       "4      5  Great taffy at a great price.  There was a wid..."
      ]
     },
     "execution_count": 88,
     "metadata": {},
     "output_type": "execute_result"
    }
   ],
   "source": [
    "#get only 2 columns - Text, Score\n",
    "#drop the NAN values\n",
    "\n",
    "reviews = reviews.drop(['Id','ProductId','UserId','ProfileName','HelpfulnessNumerator',\n",
    "                     'HelpfulnessDenominator','Time','Summary'],axis=1)\n",
    "reviews.dropna(subset = [\"Text\"], inplace=True)\n",
    "\n",
    "reviews.head(5)"
   ]
  },
  {
   "cell_type": "markdown",
   "metadata": {},
   "source": [
    "<h4>PREPROCESSING</h4>"
   ]
  },
  {
   "cell_type": "code",
   "execution_count": 89,
   "metadata": {
    "id": "5GZt7pVkqVA4"
   },
   "outputs": [
    {
     "data": {
      "text/html": [
       "<div>\n",
       "<style scoped>\n",
       "    .dataframe tbody tr th:only-of-type {\n",
       "        vertical-align: middle;\n",
       "    }\n",
       "\n",
       "    .dataframe tbody tr th {\n",
       "        vertical-align: top;\n",
       "    }\n",
       "\n",
       "    .dataframe thead th {\n",
       "        text-align: right;\n",
       "    }\n",
       "</style>\n",
       "<table border=\"1\" class=\"dataframe\">\n",
       "  <thead>\n",
       "    <tr style=\"text-align: right;\">\n",
       "      <th></th>\n",
       "      <th>Score</th>\n",
       "      <th>Text</th>\n",
       "    </tr>\n",
       "  </thead>\n",
       "  <tbody>\n",
       "    <tr>\n",
       "      <th>0</th>\n",
       "      <td>1</td>\n",
       "      <td>I have bought several of the Vitality canned d...</td>\n",
       "    </tr>\n",
       "    <tr>\n",
       "      <th>1</th>\n",
       "      <td>0</td>\n",
       "      <td>Product arrived labeled as Jumbo Salted Peanut...</td>\n",
       "    </tr>\n",
       "    <tr>\n",
       "      <th>2</th>\n",
       "      <td>1</td>\n",
       "      <td>This is a confection that has been around a fe...</td>\n",
       "    </tr>\n",
       "    <tr>\n",
       "      <th>3</th>\n",
       "      <td>0</td>\n",
       "      <td>If you are looking for the secret ingredient i...</td>\n",
       "    </tr>\n",
       "    <tr>\n",
       "      <th>4</th>\n",
       "      <td>1</td>\n",
       "      <td>Great taffy at a great price.  There was a wid...</td>\n",
       "    </tr>\n",
       "  </tbody>\n",
       "</table>\n",
       "</div>"
      ],
      "text/plain": [
       "   Score                                               Text\n",
       "0      1  I have bought several of the Vitality canned d...\n",
       "1      0  Product arrived labeled as Jumbo Salted Peanut...\n",
       "2      1  This is a confection that has been around a fe...\n",
       "3      0  If you are looking for the secret ingredient i...\n",
       "4      1  Great taffy at a great price.  There was a wid..."
      ]
     },
     "execution_count": 89,
     "metadata": {},
     "output_type": "execute_result"
    }
   ],
   "source": [
    "\n",
    "#if score == 3, remove the rows. \n",
    "reviews = reviews.loc[ (reviews['Score']<=2) | (reviews['Score']>3) ]\n",
    "\n",
    "#if score<=2, set score = 0\n",
    "reviews['Score'] = reviews['Score'].replace([1,2], 0)\n",
    "\n",
    "#if score> 3, set score = 1\n",
    "reviews['Score'] = reviews['Score'].replace([4,5], 1)\n",
    "\n",
    "reviews.head(5)"
   ]
  },
  {
   "cell_type": "markdown",
   "metadata": {
    "id": "oVe8LlkrqVA6"
   },
   "source": [
    "<font size=4>Grader function 2 </font>"
   ]
  },
  {
   "cell_type": "code",
   "execution_count": 90,
   "metadata": {
    "id": "7mDXSiJpqVA7"
   },
   "outputs": [
    {
     "data": {
      "text/plain": [
       "True"
      ]
     },
     "execution_count": 90,
     "metadata": {},
     "output_type": "execute_result"
    }
   ],
   "source": [
    "def grader_reviews():\n",
    "    temp_shape = (reviews.shape == (525814, 2)) and (reviews.Score.value_counts()[1]==443777)\n",
    "    assert(temp_shape == True)\n",
    "    return True\n",
    "grader_reviews()"
   ]
  },
  {
   "cell_type": "code",
   "execution_count": 91,
   "metadata": {
    "id": "xYZ-UB9UqVA-"
   },
   "outputs": [],
   "source": [
    "def get_wordlen(x):\n",
    "    return len(x.split())\n",
    "reviews['len'] = reviews.Text.apply(get_wordlen)\n",
    "reviews = reviews[reviews.len<50]\n",
    "reviews = reviews.sample(n=100000, random_state=30)"
   ]
  },
  {
   "cell_type": "code",
   "execution_count": 92,
   "metadata": {
    "id": "CvldQriGqVBB"
   },
   "outputs": [],
   "source": [
    "#remove HTML from the Text column and save in the Text column only\n",
    "\n",
    "reviews['Text'] = reviews['Text'].str.replace(r'<[^<>]*>', '', regex=True)\n"
   ]
  },
  {
   "cell_type": "code",
   "execution_count": 93,
   "metadata": {
    "id": "AhfN1s2mqVBD"
   },
   "outputs": [
    {
     "data": {
      "text/html": [
       "<div>\n",
       "<style scoped>\n",
       "    .dataframe tbody tr th:only-of-type {\n",
       "        vertical-align: middle;\n",
       "    }\n",
       "\n",
       "    .dataframe tbody tr th {\n",
       "        vertical-align: top;\n",
       "    }\n",
       "\n",
       "    .dataframe thead th {\n",
       "        text-align: right;\n",
       "    }\n",
       "</style>\n",
       "<table border=\"1\" class=\"dataframe\">\n",
       "  <thead>\n",
       "    <tr style=\"text-align: right;\">\n",
       "      <th></th>\n",
       "      <th>Score</th>\n",
       "      <th>Text</th>\n",
       "      <th>len</th>\n",
       "    </tr>\n",
       "  </thead>\n",
       "  <tbody>\n",
       "    <tr>\n",
       "      <th>64117</th>\n",
       "      <td>1</td>\n",
       "      <td>The tea was of great quality and it tasted lik...</td>\n",
       "      <td>30</td>\n",
       "    </tr>\n",
       "    <tr>\n",
       "      <th>418112</th>\n",
       "      <td>1</td>\n",
       "      <td>My cat loves this.  The pellets are nice and s...</td>\n",
       "      <td>31</td>\n",
       "    </tr>\n",
       "    <tr>\n",
       "      <th>357829</th>\n",
       "      <td>1</td>\n",
       "      <td>Great product. Does not completely get rid of ...</td>\n",
       "      <td>41</td>\n",
       "    </tr>\n",
       "    <tr>\n",
       "      <th>175872</th>\n",
       "      <td>1</td>\n",
       "      <td>This gum is my favorite!  I would advise every...</td>\n",
       "      <td>27</td>\n",
       "    </tr>\n",
       "    <tr>\n",
       "      <th>178716</th>\n",
       "      <td>1</td>\n",
       "      <td>I also found out about this product because of...</td>\n",
       "      <td>22</td>\n",
       "    </tr>\n",
       "  </tbody>\n",
       "</table>\n",
       "</div>"
      ],
      "text/plain": [
       "        Score                                               Text  len\n",
       "64117       1  The tea was of great quality and it tasted lik...   30\n",
       "418112      1  My cat loves this.  The pellets are nice and s...   31\n",
       "357829      1  Great product. Does not completely get rid of ...   41\n",
       "175872      1  This gum is my favorite!  I would advise every...   27\n",
       "178716      1  I also found out about this product because of...   22"
      ]
     },
     "execution_count": 93,
     "metadata": {},
     "output_type": "execute_result"
    }
   ],
   "source": [
    "#print head 5\n",
    "\n",
    "reviews.head(5)"
   ]
  },
  {
   "cell_type": "code",
   "execution_count": 94,
   "metadata": {
    "id": "NsYDd3okqVBF"
   },
   "outputs": [
    {
     "name": "stdout",
     "output_type": "stream",
     "text": [
      "(80000, 1)\n",
      "(20000, 1)\n"
     ]
    }
   ],
   "source": [
    "#split the data into train and test data(20%) with Stratify sampling, random state 33, \n",
    "\n",
    "from sklearn.model_selection import train_test_split\n",
    "\n",
    "X = reviews.drop(['Score','len'],axis=1)\n",
    "Y = reviews['Score'].values\n",
    "\n",
    "X_train, X_test, Y_train, Y_test = train_test_split(X, Y, test_size=0.2, stratify=Y, random_state=23)\n",
    "\n",
    "print(X_train.shape)\n",
    "print(X_test.shape)"
   ]
  },
  {
   "cell_type": "code",
   "execution_count": 95,
   "metadata": {},
   "outputs": [],
   "source": [
    "## reset index values\n",
    "\n",
    "X_train.reset_index(drop=True, inplace=True)\n",
    "X_test.reset_index(drop=True, inplace=True)"
   ]
  },
  {
   "cell_type": "code",
   "execution_count": 96,
   "metadata": {
    "id": "-Q6OAcrOqVBI",
    "scrolled": false
   },
   "outputs": [
    {
     "data": {
      "image/png": "[encoded data removed]",
      "text/plain": [
       "<Figure size 720x360 with 2 Axes>"
      ]
     },
     "metadata": {
      "needs_background": "light"
     },
     "output_type": "display_data"
    }
   ],
   "source": [
    "#plot bar graphs of y_train and y_test\n",
    "\n",
    "y_tr = list(np.unique(Y_train,return_counts=True)[1])  ## no. of train datapoints with class label 1 and 0\n",
    "y_ts = list(np.unique(Y_test,return_counts=True)[1])   ## no. of test datapoints with class label 1 and 0\n",
    "\n",
    "fig = plt.figure(figsize = (10, 5))\n",
    "plt.subplot(1,2,1)\n",
    "plt.bar(['0','1'],y_tr)\n",
    "plt.title('Distribution of classes in Y_train')\n",
    "plt.xlabel('Classes')\n",
    "plt.ylabel('No. of points')\n",
    "\n",
    "plt.subplot(1,2,2,)\n",
    "plt.subplots_adjust(left=0.01)\n",
    "plt.bar(['0','1'],y_ts)\n",
    "plt.title('Distribution of classes in Y_test')\n",
    "plt.xlabel('Classes')\n",
    "plt.ylabel('No. of points')\n",
    "\n",
    "plt.show()"
   ]
  },
  {
   "cell_type": "markdown",
   "metadata": {},
   "source": [
    "From the 2 bar graph we can see that the dataset is imbalanced"
   ]
  },
  {
   "cell_type": "code",
   "execution_count": 29,
   "metadata": {
    "id": "Up-z5boWqVBK"
   },
   "outputs": [],
   "source": [
    "#saving to disk. if we need, we can load preprocessed data directly. \n",
    "reviews.to_csv('preprocessed.csv', index=False)"
   ]
  },
  {
   "cell_type": "code",
   "execution_count": 139,
   "metadata": {},
   "outputs": [
    {
     "data": {
      "text/html": [
       "<div>\n",
       "<style scoped>\n",
       "    .dataframe tbody tr th:only-of-type {\n",
       "        vertical-align: middle;\n",
       "    }\n",
       "\n",
       "    .dataframe tbody tr th {\n",
       "        vertical-align: top;\n",
       "    }\n",
       "\n",
       "    .dataframe thead th {\n",
       "        text-align: right;\n",
       "    }\n",
       "</style>\n",
       "<table border=\"1\" class=\"dataframe\">\n",
       "  <thead>\n",
       "    <tr style=\"text-align: right;\">\n",
       "      <th></th>\n",
       "      <th>Score</th>\n",
       "      <th>Text</th>\n",
       "      <th>len</th>\n",
       "    </tr>\n",
       "  </thead>\n",
       "  <tbody>\n",
       "    <tr>\n",
       "      <th>0</th>\n",
       "      <td>1</td>\n",
       "      <td>The tea was of great quality and it tasted lik...</td>\n",
       "      <td>30</td>\n",
       "    </tr>\n",
       "    <tr>\n",
       "      <th>1</th>\n",
       "      <td>1</td>\n",
       "      <td>My cat loves this.  The pellets are nice and s...</td>\n",
       "      <td>31</td>\n",
       "    </tr>\n",
       "    <tr>\n",
       "      <th>2</th>\n",
       "      <td>1</td>\n",
       "      <td>Great product. Does not completely get rid of ...</td>\n",
       "      <td>41</td>\n",
       "    </tr>\n",
       "    <tr>\n",
       "      <th>3</th>\n",
       "      <td>1</td>\n",
       "      <td>This gum is my favorite!  I would advise every...</td>\n",
       "      <td>27</td>\n",
       "    </tr>\n",
       "    <tr>\n",
       "      <th>4</th>\n",
       "      <td>1</td>\n",
       "      <td>I also found out about this product because of...</td>\n",
       "      <td>22</td>\n",
       "    </tr>\n",
       "  </tbody>\n",
       "</table>\n",
       "</div>"
      ],
      "text/plain": [
       "   Score                                               Text  len\n",
       "0      1  The tea was of great quality and it tasted lik...   30\n",
       "1      1  My cat loves this.  The pellets are nice and s...   31\n",
       "2      1  Great product. Does not completely get rid of ...   41\n",
       "3      1  This gum is my favorite!  I would advise every...   27\n",
       "4      1  I also found out about this product because of...   22"
      ]
     },
     "execution_count": 139,
     "metadata": {},
     "output_type": "execute_result"
    }
   ],
   "source": [
    "reviews = pd.read_csv('preprocessed.csv')\n",
    "reviews.head(5)"
   ]
  },
  {
   "cell_type": "markdown",
   "metadata": {
    "id": "bBtqNGN9qVBM"
   },
   "source": [
    "<pre><font size=6>Part-2: Creating BERT Model</font> \n",
    "\n",
    "If you want to know more about BERT, You can watch live sessions on Transformers and BERt. \n",
    "we will strongly recommend you to read <a href=\"https://jalammar.github.io/illustrated-transformer/\">Transformers</a>, <a href=\"https://arxiv.org/abs/1810.04805\">BERT Paper</a> and, <a href=\"https://jalammar.github.io/a-visual-guide-to-using-bert-for-the-first-time/\">This blog</a>.\n",
    "\n",
    "\n",
    "For this assignment, we are using <a href=\"https://tfhub.dev/tensorflow/bert_en_uncased_L-12_H-768_A-12/1\">BERT uncased Base model</a>. \n",
    "It uses L=12 hidden layers (i.e., Transformer blocks), a hidden size of H=768, and A=12 attention heads. </pre>"
   ]
  },
  {
   "cell_type": "code",
   "execution_count": 3,
   "metadata": {
    "id": "i8xd2HejqVBN"
   },
   "outputs": [],
   "source": [
    "## Loading the Pretrained Model from tensorflow HUB\n",
    "tf.keras.backend.clear_session()\n",
    "\n",
    "# maximum length of a seq in the data we have, for now i am making it as 55. You can change this\n",
    "max_seq_length = 55\n",
    "\n",
    "#BERT takes 3 inputs\n",
    "\n",
    "#this is input words. Sequence of words represented as integers\n",
    "input_word_ids = tf.keras.layers.Input(shape=(max_seq_length,), dtype=tf.int32, name=\"input_word_ids\")\n",
    "\n",
    "#mask vector if you are padding anything\n",
    "input_mask = tf.keras.layers.Input(shape=(max_seq_length,), dtype=tf.int32, name=\"input_mask\")\n",
    "\n",
    "#segment vectors. If you are giving only one sentence for the classification, total seg vector is 0. \n",
    "#If you are giving two sentenced with [sep] token separated, first seq segment vectors are zeros and \n",
    "#second seq segment vector are 1's\n",
    "segment_ids = tf.keras.layers.Input(shape=(max_seq_length,), dtype=tf.int32, name=\"segment_ids\")\n",
    "\n",
    "#bert layer \n",
    "bert_layer = hub.KerasLayer(\"https://tfhub.dev/tensorflow/bert_en_uncased_L-12_H-768_A-12/1\", trainable=False)\n",
    "pooled_output, sequence_output = bert_layer([input_word_ids, input_mask, segment_ids])\n",
    "\n",
    "#Bert model\n",
    "#We are using only pooled output not sequence out. \n",
    "#If you want to know about those, please read https://www.kaggle.com/questions-and-answers/86510\n",
    "bert_model = Model(inputs=[input_word_ids, input_mask, segment_ids], outputs=pooled_output)\n"
   ]
  },
  {
   "cell_type": "code",
   "execution_count": 4,
   "metadata": {
    "id": "lQJsjg6fqVBQ",
    "scrolled": true
   },
   "outputs": [
    {
     "name": "stdout",
     "output_type": "stream",
     "text": [
      "Model: \"model\"\n",
      "__________________________________________________________________________________________________\n",
      "Layer (type)                    Output Shape         Param #     Connected to                     \n",
      "==================================================================================================\n",
      "input_word_ids (InputLayer)     [(None, 55)]         0                                            \n",
      "__________________________________________________________________________________________________\n",
      "input_mask (InputLayer)         [(None, 55)]         0                                            \n",
      "__________________________________________________________________________________________________\n",
      "segment_ids (InputLayer)        [(None, 55)]         0                                            \n",
      "__________________________________________________________________________________________________\n",
      "keras_layer (KerasLayer)        [(None, 768), (None, 109482241   input_word_ids[0][0]             \n",
      "                                                                 input_mask[0][0]                 \n",
      "                                                                 segment_ids[0][0]                \n",
      "==================================================================================================\n",
      "Total params: 109,482,241\n",
      "Trainable params: 0\n",
      "Non-trainable params: 109,482,241\n",
      "__________________________________________________________________________________________________\n"
     ]
    }
   ],
   "source": [
    "bert_model.summary()"
   ]
  },
  {
   "cell_type": "code",
   "execution_count": 97,
   "metadata": {},
   "outputs": [
    {
     "data": {
      "image/png": "[encoded data removed]",
      "text/plain": [
       "<IPython.core.display.Image object>"
      ]
     },
     "execution_count": 97,
     "metadata": {},
     "output_type": "execute_result"
    }
   ],
   "source": [
    "dot_img_file = 'image/bert.png'\n",
    "plot_model(bert_model, to_file=dot_img_file, show_shapes=True)"
   ]
  },
  {
   "cell_type": "code",
   "execution_count": 5,
   "metadata": {
    "id": "w3z0OMA5qVBS"
   },
   "outputs": [
    {
     "data": {
      "text/plain": [
       "<KerasTensor: shape=(None, 768) dtype=float32 (created by layer 'keras_layer')>"
      ]
     },
     "execution_count": 5,
     "metadata": {},
     "output_type": "execute_result"
    }
   ],
   "source": [
    "bert_model.output"
   ]
  },
  {
   "cell_type": "markdown",
   "metadata": {
    "id": "Ewv4hFCsqVBU"
   },
   "source": [
    "<pre><font size=6>Part-3: Tokenization</font></pre>"
   ]
  },
  {
   "cell_type": "code",
   "execution_count": 6,
   "metadata": {
    "id": "tX3VEFjiqVBU"
   },
   "outputs": [],
   "source": [
    "#getting Vocab file\n",
    "\n",
    "vocab_file = bert_layer.resolved_object.vocab_file.asset_path.numpy()\n",
    "do_lower_case = bert_layer.resolved_object.do_lower_case.numpy()"
   ]
  },
  {
   "cell_type": "code",
   "execution_count": 140,
   "metadata": {
    "id": "Y_iPwa99qVBW",
    "scrolled": true
   },
   "outputs": [],
   "source": [
    "import tokenization  #We have given tokenization.py file\n",
    "\n",
    "tokenizer=tokenization.FullTokenizer(vocab_file,do_lower_case )"
   ]
  },
  {
   "cell_type": "markdown",
   "metadata": {
    "id": "KKkGLhR-qVBd"
   },
   "source": [
    "<font size=4>Grader function 3 </font>"
   ]
  },
  {
   "cell_type": "code",
   "execution_count": 40,
   "metadata": {
    "id": "2CPu850xqVBe"
   },
   "outputs": [
    {
     "data": {
      "text/plain": [
       "True"
      ]
     },
     "execution_count": 40,
     "metadata": {},
     "output_type": "execute_result"
    }
   ],
   "source": [
    "#it has to give no error \n",
    "def grader_tokenize(tokenizer):\n",
    "    out = False\n",
    "    try:\n",
    "        out=('[CLS]' in tokenizer.vocab) and ('[SEP]' in tokenizer.vocab)\n",
    "    except:\n",
    "        out = False\n",
    "    assert(out==True)\n",
    "    return out\n",
    "grader_tokenize(tokenizer)"
   ]
  },
  {
   "cell_type": "code",
   "execution_count": 112,
   "metadata": {},
   "outputs": [],
   "source": [
    "### FUNCTION FOR CREATING INPUTS TO BERT MODEL ###\n",
    "\n",
    "def Bert_inputs(input_data,tokenizer):\n",
    "\n",
    "    input_data_tokens  = []\n",
    "    input_data_mask    = []\n",
    "    input_data_segment = []\n",
    "\n",
    "    for reviews in input_data.Text:\n",
    "  \n",
    "        tokens = tokenizer.tokenize(reviews)                     # split words in review\n",
    "        if len(tokens) >= 54:                                    # if length of sentence is greater than 54, truncate\n",
    "            tokens = tokens[:53]\n",
    "        tokens = ['[CLS]',*tokens,'[SEP]']                       # add ['CLS'] to start and ['SEP'] to the end\n",
    "        \n",
    "        if len(tokens)<55:                                       # if length of sentence is less than 55           \n",
    "            while len(tokens) < 55:                              # add the word ['PAD'] in remaining places\n",
    "                tokens.append('[PAD]')                                            \n",
    "        \n",
    "        masked=[]\n",
    "        for i in tokens:\n",
    "            if i!='[PAD]':                                       # fill mask_array with 0 in place of ['PAD'] and 1 otherwise\n",
    "                masked.append(1)\n",
    "            else:\n",
    "                masked.append(0)\n",
    "        input_data_mask.append(masked)\n",
    "    \n",
    "        tokens = tokenizer.convert_tokens_to_ids(tokens)         # adding positional encoding to words\n",
    "        input_data_tokens.append(tokens)    \n",
    "    \n",
    "        segment = [0]*55                                         # since inputting only 1 sentence giving segments as all zeroes\n",
    "        input_data_segment.append(segment)\n",
    "\n",
    "    input_data_tokens  =  np.array(input_data_tokens)\n",
    "    input_data_mask    =  np.array(input_data_mask)\n",
    "    input_data_segment =  np.array(input_data_segment)\n",
    "\n",
    "    return input_data_tokens,input_data_mask,input_data_segment\n",
    "\n"
   ]
  },
  {
   "cell_type": "code",
   "execution_count": 113,
   "metadata": {},
   "outputs": [],
   "source": [
    "\n",
    "X_train_tokens,X_train_mask,X_train_segment = Bert_inputs(X_train,tokenizer)  ## Train_data inputs for BERT\n",
    "\n",
    "X_test_tokens,X_test_mask,X_test_segment    = Bert_inputs(X_test,tokenizer)   ## Test_data inputs for BERT\n"
   ]
  },
  {
   "cell_type": "markdown",
   "metadata": {
    "id": "kv1-t4OjqVBj"
   },
   "source": [
    "#### Example\n",
    "<img src='https://i.imgur.com/5AhhmgU.png'>"
   ]
  },
  {
   "cell_type": "code",
   "execution_count": 13,
   "metadata": {
    "id": "dxhggBxwqVBj"
   },
   "outputs": [],
   "source": [
    "import pickle"
   ]
  },
  {
   "cell_type": "code",
   "execution_count": 308,
   "metadata": {
    "id": "xF0idMRDqVBm"
   },
   "outputs": [],
   "source": [
    "##save all your results to disk so that, no need to run all again. \n",
    "pickle.dump((X_train, X_train_tokens, X_train_mask, X_train_segment, Y_train),open('train_data.pkl','wb'))\n",
    "pickle.dump((X_test, X_test_tokens, X_test_mask, X_test_segment, Y_test),open('test_data.pkl','wb'))"
   ]
  },
  {
   "cell_type": "code",
   "execution_count": 14,
   "metadata": {
    "id": "Leu1URGzqVBo"
   },
   "outputs": [],
   "source": [
    "#you can load from disk\n",
    "X_train, X_train_tokens, X_train_mask, X_train_segment, Y_train = pickle.load(open(\"train_data.pkl\", 'rb')) \n",
    "X_test, X_test_tokens, X_test_mask, X_test_segment, Y_test = pickle.load(open(\"test_data.pkl\", 'rb')) "
   ]
  },
  {
   "cell_type": "markdown",
   "metadata": {
    "id": "sjPv8VkJqVBr"
   },
   "source": [
    "<font size=4>Grader function 4 </font>"
   ]
  },
  {
   "cell_type": "code",
   "execution_count": 44,
   "metadata": {},
   "outputs": [
    {
     "data": {
      "text/plain": [
       "True"
      ]
     },
     "execution_count": 44,
     "metadata": {},
     "output_type": "execute_result"
    }
   ],
   "source": [
    "def grader_alltokens_train():\n",
    "    out = False\n",
    "    \n",
    "    if type(X_train_tokens) == np.ndarray:\n",
    "        \n",
    "        temp_shapes = (X_train_tokens.shape[1]==max_seq_length) and (X_train_mask.shape[1]==max_seq_length) and \\\n",
    "        (X_train_segment.shape[1]==max_seq_length)\n",
    "        \n",
    "        segment_temp = not np.any(X_train_segment)\n",
    "        \n",
    "        mask_temp = np.sum(X_train_mask==0) == np.sum(X_train_tokens==0)\n",
    "        \n",
    "        no_cls = np.sum(X_train_tokens==tokenizer.vocab['[CLS]'])==X_train_tokens.shape[0]\n",
    "        \n",
    "        no_sep = np.sum(X_train_tokens==tokenizer.vocab['[SEP]'])==X_train_tokens.shape[0]\n",
    "        \n",
    "        out = temp_shapes and segment_temp and mask_temp and no_cls and no_sep\n",
    "      \n",
    "    else:\n",
    "        print('Type of all above token arrays should be numpy array not list')\n",
    "        out = False\n",
    "    assert(out==True)\n",
    "    return out\n",
    "\n",
    "grader_alltokens_train()"
   ]
  },
  {
   "cell_type": "markdown",
   "metadata": {
    "id": "KnvC6X_wqVBu"
   },
   "source": [
    "<font size=4>Grader function 5 </font>"
   ]
  },
  {
   "cell_type": "code",
   "execution_count": 45,
   "metadata": {
    "id": "Av4SRMPSqVBv"
   },
   "outputs": [
    {
     "data": {
      "text/plain": [
       "True"
      ]
     },
     "execution_count": 45,
     "metadata": {},
     "output_type": "execute_result"
    }
   ],
   "source": [
    "def grader_alltokens_test():\n",
    "    out = False\n",
    "    if type(X_test_tokens) == np.ndarray:\n",
    "        \n",
    "        temp_shapes = (X_test_tokens.shape[1]==max_seq_length) and (X_test_mask.shape[1]==max_seq_length) and \\\n",
    "        (X_test_segment.shape[1]==max_seq_length)\n",
    "        \n",
    "        segment_temp = not np.any(X_test_segment)\n",
    "        \n",
    "        mask_temp = np.sum(X_test_mask==0) == np.sum(X_test_tokens==0)\n",
    "        \n",
    "        no_cls = np.sum(X_test_tokens==tokenizer.vocab['[CLS]'])==X_test_tokens.shape[0]\n",
    "        \n",
    "        no_sep = np.sum(X_test_tokens==tokenizer.vocab['[SEP]'])==X_test_tokens.shape[0]\n",
    "        \n",
    "        out = temp_shapes and segment_temp and mask_temp and no_cls and no_sep\n",
    "      \n",
    "    else:\n",
    "        print('Type of all above token arrays should be numpy array not list')\n",
    "        out = False\n",
    "    assert(out==True)\n",
    "    return out\n",
    "grader_alltokens_test()"
   ]
  },
  {
   "cell_type": "markdown",
   "metadata": {
    "id": "SEj-Eua5qVBx"
   },
   "source": [
    "<pre><font size=6>Part-4: Getting Embeddings from BERT Model</font>\n",
    "We already created the BERT model in the part-2 and input data in the part-3. \n",
    "We will utlize those two and will get the embeddings for each sentence in the \n",
    "Train and test data.</pre>"
   ]
  },
  {
   "cell_type": "code",
   "execution_count": 309,
   "metadata": {
    "id": "QwOVgQFDqVBy"
   },
   "outputs": [
    {
     "data": {
      "text/plain": [
       "[<KerasTensor: shape=(None, 55) dtype=int32 (created by layer 'input_word_ids')>,\n",
       " <KerasTensor: shape=(None, 55) dtype=int32 (created by layer 'input_mask')>,\n",
       " <KerasTensor: shape=(None, 55) dtype=int32 (created by layer 'segment_ids')>]"
      ]
     },
     "execution_count": 309,
     "metadata": {},
     "output_type": "execute_result"
    }
   ],
   "source": [
    "bert_model.input"
   ]
  },
  {
   "cell_type": "code",
   "execution_count": 310,
   "metadata": {
    "id": "ZcpkQq1OqVB0"
   },
   "outputs": [
    {
     "data": {
      "text/plain": [
       "<KerasTensor: shape=(None, 768) dtype=float32 (created by layer 'keras_layer')>"
      ]
     },
     "execution_count": 310,
     "metadata": {},
     "output_type": "execute_result"
    }
   ],
   "source": [
    "bert_model.output"
   ]
  },
  {
   "cell_type": "code",
   "execution_count": 313,
   "metadata": {
    "id": "IxdIlOIBlm7j"
   },
   "outputs": [],
   "source": [
    "X_train_pooled_output=bert_model.predict([X_train_tokens,X_train_mask,X_train_segment])\n",
    "\n",
    "X_test_pooled_output=bert_model.predict([X_test_tokens,X_test_mask,X_test_segment])"
   ]
  },
  {
   "cell_type": "code",
   "execution_count": 315,
   "metadata": {
    "id": "DL6JVojfqVB8"
   },
   "outputs": [],
   "source": [
    "##save all your results to disk so that, no need to run all again. \n",
    "pickle.dump((X_train_pooled_output, X_test_pooled_output),open('final_output.pkl','wb'))"
   ]
  },
  {
   "cell_type": "code",
   "execution_count": 15,
   "metadata": {
    "id": "oSQcBdROqVB9"
   },
   "outputs": [],
   "source": [
    "X_train_pooled_output, X_test_pooled_output= pickle.load(open('final_output.pkl', 'rb'))"
   ]
  },
  {
   "cell_type": "markdown",
   "metadata": {
    "id": "ulEXFE7aqVCA"
   },
   "source": [
    "<font size=4>Grader function 6 </font>"
   ]
  },
  {
   "cell_type": "code",
   "execution_count": 318,
   "metadata": {
    "id": "oHCsW0IvqVCB"
   },
   "outputs": [
    {
     "data": {
      "text/plain": [
       "True"
      ]
     },
     "execution_count": 318,
     "metadata": {},
     "output_type": "execute_result"
    }
   ],
   "source": [
    "#now we have X_train_pooled_output, y_train\n",
    "#X_test_pooled_ouput, y_test\n",
    "\n",
    "#please use this grader to evaluate\n",
    "def greader_output():\n",
    "    assert(X_train_pooled_output.shape[1]==768)\n",
    "    assert(len(Y_train)==len(X_train_pooled_output))\n",
    "    assert(X_test_pooled_output.shape[1]==768)\n",
    "    assert(len(Y_test)==len(X_test_pooled_output))\n",
    "    assert(len(Y_train.shape)==1)\n",
    "    assert(len(X_train_pooled_output.shape)==2)\n",
    "    assert(len(Y_test.shape)==1)\n",
    "    assert(len(X_test_pooled_output.shape)==2)\n",
    "    return True\n",
    "greader_output()"
   ]
  },
  {
   "cell_type": "markdown",
   "metadata": {
    "id": "oYwS1QbAqVCD"
   },
   "source": [
    "<pre><font size=6>Part-5: Training a NN with 768 features</font>\n",
    "\n",
    "Create a NN and train the NN. \n",
    "1.<b> You have to use AUC as metric. Do not use tf.keras.metrics.AUC</b> \n",
    "<b> You have to write custom code for AUC and print it at the end of each epoch</b> \n",
    "2. You can use any architecture you want. \n",
    "3. You have to use tensorboard to log all your metrics and Losses. You have to send those logs. \n",
    "4. Print the loss and metric at every epoch. \n",
    "5. You have to submit without overfitting and underfitting. \n",
    "</pre>"
   ]
  },
  {
   "cell_type": "code",
   "execution_count": 45,
   "metadata": {
    "id": "od8PQlYRqVCE"
   },
   "outputs": [],
   "source": [
    "##imports\n",
    "from tensorflow.keras.layers import Input, Dense, Activation, Dropout, LSTM, BatchNormalization, Embedding, Conv1D\n",
    "from tensorflow.keras.models import Model\n",
    "from tensorflow.keras.regularizers import l2"
   ]
  },
  {
   "cell_type": "code",
   "execution_count": 69,
   "metadata": {
    "id": "DSnmX3WnqVCG",
    "scrolled": true
   },
   "outputs": [
    {
     "name": "stdout",
     "output_type": "stream",
     "text": [
      "Model: \"model_10\"\n",
      "_________________________________________________________________\n",
      "Layer (type)                 Output Shape              Param #   \n",
      "=================================================================\n",
      "input_10 (InputLayer)        [(None, 768)]             0         \n",
      "_________________________________________________________________\n",
      "dense_45 (Dense)             (None, 256)               196864    \n",
      "_________________________________________________________________\n",
      "dense_46 (Dense)             (None, 128)               32896     \n",
      "_________________________________________________________________\n",
      "dense_47 (Dense)             (None, 64)                8256      \n",
      "_________________________________________________________________\n",
      "dense_48 (Dense)             (None, 32)                2080      \n",
      "_________________________________________________________________\n",
      "dense_49 (Dense)             (None, 2)                 66        \n",
      "=================================================================\n",
      "Total params: 240,162\n",
      "Trainable params: 240,162\n",
      "Non-trainable params: 0\n",
      "_________________________________________________________________\n"
     ]
    }
   ],
   "source": [
    "## create an Neural Network and train your model on X_train_pooled_output and y_train\n",
    "\n",
    "\n",
    "input_layer=Input(shape=(X_train_pooled_output.shape[1],))\n",
    "\n",
    "dense_1 = Dense(256,activation='leaky_relu',kernel_initializer = 'he_normal',kernel_regularizer=l2(0.01))(input_layer)\n",
    "dense_2 = Dense(128,activation='leaky_relu',kernel_initializer = 'he_normal',kernel_regularizer=l2(0.01))(dense_1)\n",
    "dense_3 = Dense(64,activation='leaky_relu',kernel_initializer = 'he_normal',kernel_regularizer=l2(0.01))(dense_2)\n",
    "dense_4 = Dense(32,activation='leaky_relu',kernel_initializer = 'he_normal',kernel_regularizer=l2(0.01))(dense_3)\n",
    "\n",
    "output = Dense(2,activation='softmax')(dense_4)\n",
    "\n",
    "model = Model(inputs=input_layer,outputs=output)\n",
    "model.summary()\n"
   ]
  },
  {
   "cell_type": "code",
   "execution_count": 70,
   "metadata": {},
   "outputs": [
    {
     "data": {
      "image/png": "[encoded data removed]",
      "text/plain": [
       "<IPython.core.display.Image object>"
      ]
     },
     "execution_count": 70,
     "metadata": {},
     "output_type": "execute_result"
    }
   ],
   "source": [
    "from tensorflow.keras.utils import plot_model\n",
    "dot_img_file = 'image/model_1.png'\n",
    "plot_model(model, to_file=dot_img_file, show_shapes=True)"
   ]
  },
  {
   "cell_type": "code",
   "execution_count": 73,
   "metadata": {
    "scrolled": true
   },
   "outputs": [
    {
     "name": "stdout",
     "output_type": "stream",
     "text": [
      "Epoch 1/12\n",
      "625/625 [==============================] - 6s 9ms/step - loss: 1.7982 - accuracy: 0.8746 - aucroc: 0.8358 - val_loss: 0.4172 - val_accuracy: 0.8824 - val_aucroc: 0.9151\n",
      "Epoch 2/12\n",
      "625/625 [==============================] - 5s 9ms/step - loss: 0.3465 - accuracy: 0.9021 - aucroc: 0.9313 - val_loss: 0.2927 - val_accuracy: 0.9183 - val_aucroc: 0.9394\n",
      "Epoch 3/12\n",
      "625/625 [==============================] - 5s 8ms/step - loss: 0.2970 - accuracy: 0.9088 - aucroc: 0.9407 - val_loss: 0.2699 - val_accuracy: 0.9208 - val_aucroc: 0.9418\n",
      "Epoch 4/12\n",
      "625/625 [==============================] - 5s 9ms/step - loss: 0.2855 - accuracy: 0.9115 - aucroc: 0.9430 - val_loss: 0.2925 - val_accuracy: 0.9166 - val_aucroc: 0.9441\n",
      "Epoch 5/12\n",
      "625/625 [==============================] - 5s 9ms/step - loss: 0.2725 - accuracy: 0.9145 - aucroc: 0.9452 - val_loss: 0.3034 - val_accuracy: 0.8942 - val_aucroc: 0.9451\n",
      "Epoch 6/12\n",
      "625/625 [==============================] - 5s 8ms/step - loss: 0.2621 - accuracy: 0.9180 - aucroc: 0.9473 - val_loss: 0.2905 - val_accuracy: 0.9131 - val_aucroc: 0.9447\n",
      "Epoch 7/12\n",
      "625/625 [==============================] - 5s 9ms/step - loss: 0.2598 - accuracy: 0.9179 - aucroc: 0.9476 - val_loss: 0.2417 - val_accuracy: 0.9291 - val_aucroc: 0.9485\n",
      "Epoch 8/12\n",
      "625/625 [==============================] - 5s 8ms/step - loss: 0.2644 - accuracy: 0.9154 - aucroc: 0.9480 - val_loss: 0.2393 - val_accuracy: 0.9251 - val_aucroc: 0.9485\n",
      "Epoch 9/12\n",
      "625/625 [==============================] - 5s 8ms/step - loss: 0.2524 - accuracy: 0.9199 - aucroc: 0.9491 - val_loss: 0.2348 - val_accuracy: 0.9279 - val_aucroc: 0.9499\n",
      "Epoch 10/12\n",
      "625/625 [==============================] - 5s 8ms/step - loss: 0.2550 - accuracy: 0.9179 - aucroc: 0.9491 - val_loss: 0.2355 - val_accuracy: 0.9266 - val_aucroc: 0.9487\n",
      "Epoch 11/12\n",
      "625/625 [==============================] - 5s 8ms/step - loss: 0.2496 - accuracy: 0.9202 - aucroc: 0.9503 - val_loss: 0.2370 - val_accuracy: 0.9218 - val_aucroc: 0.9489\n",
      "Epoch 12/12\n",
      "625/625 [==============================] - 5s 8ms/step - loss: 0.2492 - accuracy: 0.9204 - aucroc: 0.9501 - val_loss: 0.2304 - val_accuracy: 0.9287 - val_aucroc: 0.9512\n"
     ]
    },
    {
     "data": {
      "text/plain": [
       "<keras.callbacks.History at 0x20e5fec8ef0>"
      ]
     },
     "execution_count": 73,
     "metadata": {},
     "output_type": "execute_result"
    }
   ],
   "source": [
    "import tensorflow \n",
    "from tensorflow.keras.callbacks import TensorBoard\n",
    "from tensorflow.keras.callbacks import ModelCheckpoint\n",
    "from sklearn.metrics import roc_auc_score\n",
    "import datetime \n",
    "from tensorflow.keras.utils import to_categorical\n",
    "\n",
    "## TENSORBOARD callback\n",
    "log_dir=\"logs\\\\fit\\\\\" + datetime.datetime.now().strftime(\"%Y%m%d-%H%M%S\")\n",
    "tensorboard_callback = tensorflow.keras.callbacks.TensorBoard(log_dir=log_dir,histogram_freq=1, write_graph=True)\n",
    "\n",
    "## AUC score \n",
    "def aucroc(y_true, y_pred):\n",
    "    return tf.py_function(roc_auc_score, (y_true, y_pred), tf.double)\n",
    "\n",
    "Y_train_ohe = to_categorical(Y_train)  ## converting y_train and y_test to one hot encoded values\n",
    "Y_test_ohe = to_categorical(Y_test)\n",
    "\n",
    "optimizer = tensorflow.keras.optimizers.Adam(learning_rate=0.001)\n",
    "\n",
    "model.compile(optimizer=optimizer,loss='categorical_crossentropy' ,metrics=['accuracy',aucroc])\n",
    "\n",
    "model.fit(X_train_pooled_output,Y_train_ohe,epochs=12,batch_size=128,\n",
    "          validation_data=(X_test_pooled_output,Y_test_ohe),callbacks = [tensorboard_callback] )"
   ]
  },
  {
   "cell_type": "code",
   "execution_count": 76,
   "metadata": {
    "scrolled": false
   },
   "outputs": [
    {
     "data": {
      "image/png": "[encoded data removed]",
      "text/plain": [
       "<IPython.core.display.Image object>"
      ]
     },
     "execution_count": 76,
     "metadata": {
      "image/png": {
       "height": 80,
       "width": 400
      }
     },
     "output_type": "execute_result"
    }
   ],
   "source": [
    "from IPython.display import Image\n",
    "PATH = \"D:/APPLIED AI/Assignments/Assignment 23 - NLP with transfer learning/result_images/\"\n",
    "\n",
    "Image(filename = PATH + \"aucroc_vs_epoch.png\", width=400, height=80)"
   ]
  },
  {
   "cell_type": "markdown",
   "metadata": {},
   "source": [
    "In all the 3 images the orange line represents the training curve and blue line represents the validation curve\n",
    "\n",
    "The AUC score increases with epochs\n",
    "\n",
    "The maximum train and validation AUC score obtained are 0.9501and 0.9512 respectively"
   ]
  },
  {
   "cell_type": "code",
   "execution_count": 77,
   "metadata": {
    "scrolled": true
   },
   "outputs": [
    {
     "data": {
      "image/png": "[encoded data removed]",
      "text/plain": [
       "<IPython.core.display.Image object>"
      ]
     },
     "execution_count": 77,
     "metadata": {
      "image/png": {
       "height": 80,
       "width": 400
      }
     },
     "output_type": "execute_result"
    }
   ],
   "source": [
    "Image(filename = PATH + \"acc_vs_epoch.png\", width=400, height=80)"
   ]
  },
  {
   "cell_type": "markdown",
   "metadata": {},
   "source": [
    "Accuracy increases with epochs\n",
    "\n",
    "The maximum train and validation accuracy observed are 0.9204 and 0.9287 respectively"
   ]
  },
  {
   "cell_type": "code",
   "execution_count": 79,
   "metadata": {
    "scrolled": true
   },
   "outputs": [
    {
     "data": {
      "image/png": "[encoded data removed]",
      "text/plain": [
       "<IPython.core.display.Image object>"
      ]
     },
     "execution_count": 79,
     "metadata": {
      "image/png": {
       "height": 80,
       "width": 400
      }
     },
     "output_type": "execute_result"
    }
   ],
   "source": [
    "Image(filename = PATH + \"loss_vs_epoch.png\", width=400, height=80)"
   ]
  },
  {
   "cell_type": "markdown",
   "metadata": {},
   "source": [
    "Loss decreases with each epoch\n",
    "\n",
    "The minimum loss observed are : val_loss: 0.2304 and train_loss: 0.2492"
   ]
  },
  {
   "cell_type": "code",
   "execution_count": 74,
   "metadata": {},
   "outputs": [],
   "source": [
    "%load_ext tensorboard"
   ]
  },
  {
   "cell_type": "markdown",
   "metadata": {
    "id": "kcILeYZI9pxm"
   },
   "source": [
    "<Pre><font size=6>Part-6: Creating a Data pipeline for BERT Model</font> \n",
    "1. Pipeline is a way to codify and automate the workflow.\n",
    "2. Download the test.csv file from here <a href=\"https://drive.google.com/file/d/1QwjqTsqTX2vdy7fTmeXjxP3dq8IAVLpo/view?usp=sharing\">here</a> </pre>\n"
   ]
  },
  {
   "cell_type": "code",
   "execution_count": 141,
   "metadata": {
    "id": "lQcoHbUKjgvF"
   },
   "outputs": [
    {
     "data": {
      "text/html": [
       "<div>\n",
       "<style scoped>\n",
       "    .dataframe tbody tr th:only-of-type {\n",
       "        vertical-align: middle;\n",
       "    }\n",
       "\n",
       "    .dataframe tbody tr th {\n",
       "        vertical-align: top;\n",
       "    }\n",
       "\n",
       "    .dataframe thead th {\n",
       "        text-align: right;\n",
       "    }\n",
       "</style>\n",
       "<table border=\"1\" class=\"dataframe\">\n",
       "  <thead>\n",
       "    <tr style=\"text-align: right;\">\n",
       "      <th></th>\n",
       "      <th>Text</th>\n",
       "    </tr>\n",
       "  </thead>\n",
       "  <tbody>\n",
       "    <tr>\n",
       "      <th>0</th>\n",
       "      <td>Just opened Greenies Joint Care (individually ...</td>\n",
       "    </tr>\n",
       "    <tr>\n",
       "      <th>1</th>\n",
       "      <td>This product rocks :) My mom was very happy w/...</td>\n",
       "    </tr>\n",
       "    <tr>\n",
       "      <th>2</th>\n",
       "      <td>The product was fine, but the cost of shipping...</td>\n",
       "    </tr>\n",
       "    <tr>\n",
       "      <th>3</th>\n",
       "      <td>I love this soup. It's great as part of a meal...</td>\n",
       "    </tr>\n",
       "    <tr>\n",
       "      <th>4</th>\n",
       "      <td>Getting ready to order again. These are great ...</td>\n",
       "    </tr>\n",
       "  </tbody>\n",
       "</table>\n",
       "</div>"
      ],
      "text/plain": [
       "                                                Text\n",
       "0  Just opened Greenies Joint Care (individually ...\n",
       "1  This product rocks :) My mom was very happy w/...\n",
       "2  The product was fine, but the cost of shipping...\n",
       "3  I love this soup. It's great as part of a meal...\n",
       "4  Getting ready to order again. These are great ..."
      ]
     },
     "execution_count": 141,
     "metadata": {},
     "output_type": "execute_result"
    }
   ],
   "source": [
    "#read the csv file\n",
    "\n",
    "test_df= pd.read_csv('test.csv')\n",
    "test_df.head(5)"
   ]
  },
  {
   "cell_type": "markdown",
   "metadata": {
    "id": "-zii6hgejdhQ"
   },
   "source": [
    "<Pre>1. You have to write a function that takes the test_df,trained model and the required parameters as input. \n",
    "2. Perform all the preproceesing steps inside the function.\n",
    "- Remove all the html tags\n",
    "- Now do tokenization [Part 3 as mentioned above]\n",
    "- Create tokens,mask array and segment array\n",
    "- Get Embeddings from BERT Model [Part 4 as mentioned above] , let it be X_test\n",
    "- Print the shape of output(X_test.shape).You should get (352,768)\n",
    "3. Predit the output of X_test with the neural network model which we trained earlier.\n",
    "\n",
    "4. Return the occurences of class labels from the function.\n",
    "The output should be the count of datapoints classified as 1 or 0.\n",
    "\n",
    "</pre>"
   ]
  },
  {
   "cell_type": "code",
   "execution_count": 119,
   "metadata": {
    "id": "g9g6C_kgjcan"
   },
   "outputs": [],
   "source": [
    "def Test_data_embedding(input_data, model, tokenizer):\n",
    "    \n",
    "    input_data.dropna(subset = [\"Text\"], inplace=True)                                  ## remove datapoints with Nan values\n",
    "    input_data['Text'] = input_data['Text'].str.replace(r'<[^<>]*>', '', regex=True)    ## remove HTML tags\n",
    "    \n",
    "    ### CREATING INPUTS FOR BERT ###    \n",
    "    tokens_array,mask_array,segment_array = Bert_inputs(input_data,tokenizer)\n",
    "    \n",
    "    ### Embedding using BERT model\n",
    "    X_test = model.predict([tokens_array,mask_array,segment_array])\n",
    "    print('Shape of X_test after embedding using BERT model :',X_test.shape)\n",
    "    \n",
    "    return X_test"
   ]
  },
  {
   "cell_type": "code",
   "execution_count": 120,
   "metadata": {},
   "outputs": [
    {
     "name": "stdout",
     "output_type": "stream",
     "text": [
      "Shape of X_test after embedding using BERT model : (352, 768)\n"
     ]
    }
   ],
   "source": [
    "X_test = Test_data_embedding(test_df, bert_model, tokenizer)"
   ]
  },
  {
   "cell_type": "code",
   "execution_count": 122,
   "metadata": {},
   "outputs": [],
   "source": [
    "### predicting class label from previously trained network ###\n",
    "\n",
    "prediction = model.predict(X_test)\n",
    "predicted_y = prediction.argmax(axis=-1)"
   ]
  },
  {
   "cell_type": "code",
   "execution_count": 149,
   "metadata": {},
   "outputs": [
    {
     "name": "stdout",
     "output_type": "stream",
     "text": [
      "The number of positively and negatively classified points are 314 and 38 respectively\n"
     ]
    }
   ],
   "source": [
    "scores = np.unique(predicted_y,return_counts=True)\n",
    "print('The number of positively and negatively classified points are',scores[1][1], 'and',scores[1][0] ,'respectively')"
   ]
  },
  {
   "cell_type": "code",
   "execution_count": 138,
   "metadata": {},
   "outputs": [
    {
     "data": {
      "text/html": [
       "<div>\n",
       "<style scoped>\n",
       "    .dataframe tbody tr th:only-of-type {\n",
       "        vertical-align: middle;\n",
       "    }\n",
       "\n",
       "    .dataframe tbody tr th {\n",
       "        vertical-align: top;\n",
       "    }\n",
       "\n",
       "    .dataframe thead th {\n",
       "        text-align: right;\n",
       "    }\n",
       "</style>\n",
       "<table border=\"1\" class=\"dataframe\">\n",
       "  <thead>\n",
       "    <tr style=\"text-align: right;\">\n",
       "      <th></th>\n",
       "      <th>Text</th>\n",
       "      <th>predicted_y</th>\n",
       "    </tr>\n",
       "  </thead>\n",
       "  <tbody>\n",
       "    <tr>\n",
       "      <th>0</th>\n",
       "      <td>Just opened Greenies Joint Care (individually ...</td>\n",
       "      <td>0</td>\n",
       "    </tr>\n",
       "    <tr>\n",
       "      <th>1</th>\n",
       "      <td>This product rocks :) My mom was very happy w/...</td>\n",
       "      <td>1</td>\n",
       "    </tr>\n",
       "    <tr>\n",
       "      <th>2</th>\n",
       "      <td>The product was fine, but the cost of shipping...</td>\n",
       "      <td>0</td>\n",
       "    </tr>\n",
       "    <tr>\n",
       "      <th>3</th>\n",
       "      <td>I love this soup. It's great as part of a meal...</td>\n",
       "      <td>1</td>\n",
       "    </tr>\n",
       "    <tr>\n",
       "      <th>4</th>\n",
       "      <td>Getting ready to order again. These are great ...</td>\n",
       "      <td>1</td>\n",
       "    </tr>\n",
       "    <tr>\n",
       "      <th>5</th>\n",
       "      <td>These were delicious, but not wrapped as well ...</td>\n",
       "      <td>1</td>\n",
       "    </tr>\n",
       "    <tr>\n",
       "      <th>6</th>\n",
       "      <td>I will never again even CONSIDER a dog food wi...</td>\n",
       "      <td>0</td>\n",
       "    </tr>\n",
       "    <tr>\n",
       "      <th>7</th>\n",
       "      <td>If you need something to take with you to keep...</td>\n",
       "      <td>1</td>\n",
       "    </tr>\n",
       "    <tr>\n",
       "      <th>8</th>\n",
       "      <td>My husband puts this on everything. It is very...</td>\n",
       "      <td>1</td>\n",
       "    </tr>\n",
       "    <tr>\n",
       "      <th>9</th>\n",
       "      <td>This is a movie the whole family can watch tog...</td>\n",
       "      <td>1</td>\n",
       "    </tr>\n",
       "    <tr>\n",
       "      <th>10</th>\n",
       "      <td>I bought this item in hopes of keeping some pe...</td>\n",
       "      <td>1</td>\n",
       "    </tr>\n",
       "    <tr>\n",
       "      <th>11</th>\n",
       "      <td>This tea is so smooth, better than Lipton or a...</td>\n",
       "      <td>1</td>\n",
       "    </tr>\n",
       "    <tr>\n",
       "      <th>12</th>\n",
       "      <td>I purchased this tea because I was told that i...</td>\n",
       "      <td>0</td>\n",
       "    </tr>\n",
       "    <tr>\n",
       "      <th>13</th>\n",
       "      <td>Hands down the best cocoa I've had in a long t...</td>\n",
       "      <td>1</td>\n",
       "    </tr>\n",
       "    <tr>\n",
       "      <th>14</th>\n",
       "      <td>so far so good the packaging was awesome the t...</td>\n",
       "      <td>1</td>\n",
       "    </tr>\n",
       "  </tbody>\n",
       "</table>\n",
       "</div>"
      ],
      "text/plain": [
       "                                                 Text  predicted_y\n",
       "0   Just opened Greenies Joint Care (individually ...            0\n",
       "1   This product rocks :) My mom was very happy w/...            1\n",
       "2   The product was fine, but the cost of shipping...            0\n",
       "3   I love this soup. It's great as part of a meal...            1\n",
       "4   Getting ready to order again. These are great ...            1\n",
       "5   These were delicious, but not wrapped as well ...            1\n",
       "6   I will never again even CONSIDER a dog food wi...            0\n",
       "7   If you need something to take with you to keep...            1\n",
       "8   My husband puts this on everything. It is very...            1\n",
       "9   This is a movie the whole family can watch tog...            1\n",
       "10  I bought this item in hopes of keeping some pe...            1\n",
       "11  This tea is so smooth, better than Lipton or a...            1\n",
       "12  I purchased this tea because I was told that i...            0\n",
       "13  Hands down the best cocoa I've had in a long t...            1\n",
       "14  so far so good the packaging was awesome the t...            1"
      ]
     },
     "execution_count": 138,
     "metadata": {},
     "output_type": "execute_result"
    }
   ],
   "source": [
    "test_df['predicted_y'] = predicted_y\n",
    "test_df.head(15)"
   ]
  },
  {
   "cell_type": "markdown",
   "metadata": {},
   "source": [
    "# OBSERVATOINS"
   ]
  },
  {
   "cell_type": "markdown",
   "metadata": {},
   "source": [
    "From the above dataframe, for each text review the corresponding class label/sentiment score is provided and from observing the above given 15 observations, we can say that the class labels have been predicted with significant accuracy.\n",
    "\n",
    "The prediction was made using the previously trained neural network model \n"
   ]
  },
  {
   "cell_type": "markdown",
   "metadata": {},
   "source": [
    "In this assignmet,the BERT uncased model model was used as Vectorization strategy\n",
    "\n",
    "The Steps used in predicting the class labels are :\n",
    "\n",
    "\n",
    "- Initially the Preprocessing of the input dataset was performed ,followed by splitting to train and test dataset.\n",
    "\n",
    "- Then the BERT uncased model was downloaded from tensorflow HUB and the model was createed.\n",
    "\n",
    "- The BERT model needs 3 inputs : word_ids/tokens, input mask and segment_ids.The maximum size allowed for all these 3 inputs is 55. If the length of input was less than 55 padding was performed and if the length of input was greater than 55 truncation was performed\n",
    "\n",
    "- The word_ids/tokens were created using the tokenizer module which has functions for converting words to tokens and for positional encoding. The mask input was created by filling 0s to the places that were padded(represented by 'PAD') and 1s to the other places. The segment_ids were made to all zeroes as here we are giving only one sentence at a time.\n",
    "\n",
    "- Then Embedding was obtained by giving these 3 inputs to the BERT model. The output was of 768 dimension.\n",
    "\n",
    "- Then a simple neural network was created with the embedding vector given as the input and it was trained for 12 epochs.\n",
    "\n",
    "- The model gave an a test accuracy of 0.9287  and test AUC score of 0.9512.\n",
    "\n",
    "- Then the test dataset 'test_df' was provided.\n",
    "\n",
    "- Here again the above steps were performed. It was preprocessed, inputs for BERT model were created and embedding was obtained. Now this was given to the previously trained neural network model to predict the sentiment scores for the reviews.\n",
    "\n",
    "\n",
    "\n"
   ]
  },
  {
   "cell_type": "code",
   "execution_count": null,
   "metadata": {},
   "outputs": [],
   "source": []
  }
 ],
 "metadata": {
  "colab": {
   "collapsed_sections": [],
   "name": " BERT- Assignment_modified.ipynb",
   "provenance": []
  },
  "kernelspec": {
   "display_name": "Python 3",
   "language": "python",
   "name": "python3"
  },
  "language_info": {
   "codemirror_mode": {
    "name": "ipython",
    "version": 3
   },
   "file_extension": ".py",
   "mimetype": "text/x-python",
   "name": "python",
   "nbconvert_exporter": "python",
   "pygments_lexer": "ipython3",
   "version": "3.8.5"
  }
 },
 "nbformat": 4,
 "nbformat_minor": 1
}
