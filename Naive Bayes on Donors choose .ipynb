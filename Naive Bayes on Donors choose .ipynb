{
 "cells": [
  {
   "cell_type": "markdown",
   "metadata": {
    "id": "Dnubs-Nnb3cw"
   },
   "source": [
    "# Assignment 6: Apply NB"
   ]
  },
  {
   "cell_type": "markdown",
   "metadata": {
    "id": "RW0zYHb5m_wI"
   },
   "source": [
    "<ol>\n",
    "    <li>Minimum data points need to be considered for people having 4GB RAM is <strong>50k</strong> and for 8GB RAM is <strong>100k</strong></li>\n",
    "    <li>When you are using ramdomsearchcv or gridsearchcv you need not split the data into X_train,X_cv,X_test. As the above methods use kfold. The model will learn better if train data is more so splitting to X_train,X_test will suffice.</li>\n",
    "    <li>If you are writing for loops to tune your model then you need split the data into X_train,X_cv,X_test.</li>\n",
    "    <li>While splitting the data explore stratify parameter. </li>\n",
    "    <li><strong>Apply Multinomial NB on these feature sets</strong></li>\n",
    "        <ul>\n",
    "            <li>Features that need to be considered</li> \n",
    "                <dl>\n",
    "                  <dt>essay</dt>\n",
    "                    <dd>while encoding essay, try to experiment with the max_features and n_grams parameter of vectorizers and see if it increases AUC score.</dd>\n",
    "                  <dt>categorical features</dt>\n",
    "                  <dd> - teacher_prefix</dd>\n",
    "                  <dd> - project_grade_category</dd>\n",
    "                  <dd> - school_state</dd>\n",
    "                  <dd> - clean_categories</dd>\n",
    "                  <dd> - clean_subcategories</dd>\n",
    "                  <dt>numerical features</dt>\n",
    "                  <dd> - price</dd>\n",
    "                  <dd> - teacher_number_of_previously_posted_projects</dd>\n",
    "                  <dd>while encoding the numerical features check <a href='https://imgur.com/ldZA1zg'>this</a> and <a href='https://ac-classroom-production.s3.amazonaws.com/public/COMMENT/Annotation_2020-05-21_225912_0lyZzN8.jpg'>this</a></dd>\n",
    "                </dl>    \n",
    "            <li><font color='red'>Set 1</font>: categorical, numerical features + preprocessed_eassay (BOW)</li>\n",
    "            <li><font color='red'>Set 2</font>: categorical, numerical features + preprocessed_eassay (TFIDF)</li>\n",
    "        </ul>\n",
    "    <li><strong>The hyper paramter tuning(find best alpha:smoothing parameter)</strong>\n",
    "        <ul>\n",
    "    <li>Consider alpha values in range: 10^-5 to 10^2 like [0.00001,0.0005, 0.0001,0.005,0.001,0.05,0.01,0.1,0.5,1,5,10,50,100]</li>\n",
    "    <li>Explore class_prior = [0.5, 0.5] parameter which can be present in MultinomialNB function(go through <a href='https://scikit-learn.org/stable/modules/generated/sklearn.naive_bayes.MultinomialNB.html'>this</a> ) then check how results might change.\n",
    "    <li>Find the best hyper parameter which will give the maximum <a href='https://www.appliedaicourse.com/course/applied-ai-course-online/lessons/receiver-operating-characteristic-curve-roc-curve-and-auc-1/'>AUC</a> value</li>\n",
    "    <li>For hyper parameter tuning using k-fold cross validation(use GridsearchCV or RandomsearchCV)/simple cross validation data (write for loop to iterate over hyper parameter values)</li>\n",
    "    <li>You need to plot the performance of model both on train data and cross validation data for each hyper parameter, like shown in the figure\n",
    "    <img src='https://i.imgur.com/hUv6aEy.jpg' width=300px><dd>-while plotting take log(alpha) on your X-axis so that it will be more readable</dd></li>\n",
    "    <li>Once after you found the best hyper parameter, you need to train your model with it, and find the AUC on test data and plot the ROC curve on both train and test.\n",
    "    <img src='https://imgur.com/q2P65L5.jpg' width=300px></li>\n",
    "    <li>Along with plotting ROC curve, you need to print the <a href='https://www.appliedaicourse.com/course/applied-ai-course-online/lessons/confusion-matrix-tpr-fpr-fnr-tnr-1/'>confusion matrix</a> with predicted and original labels of test data points\n",
    "        <img src='https://i.imgur.com/IdN5Ctv.png' width=300px><dd>-plot the confusion matrix in heatmaps, while plotting the confusion matrix go through the <a href='https://stackoverflow.com/questions/61748441/how-to-fix-the-values-displayed-in-a-confusion-matrix-in-exponential-form-to-nor'>link </a>\n",
    "</dd></li>\n",
    "        </ul>\n",
    "<li>find the top 20 features from either from feature <font color='red'>Set 1</font> or feature <font color='red'>Set 2</font> using values of `feature_log_prob_ ` parameter of `MultinomialNB` \n",
    "(https://scikit-learn.org/stable/modules/generated/sklearn.naive_bayes.MultinomialNB.html) and print <strong>BOTH</strong> positive as well as negative corresponding feature names. <dd> - go through the <a href='https://imgur.com/mWvE7gj'>link </a> </dd>\n",
    "    </li>\n",
    "    <li>You need to summarize the results at the end of the notebook, summarize it in the table format\n",
    "        <img src='http://i.imgur.com/YVpIGGE.jpg' width=400px>\n",
    "    </li>\n",
    "</ol>"
   ]
  },
  {
   "cell_type": "code",
   "execution_count": 4,
   "metadata": {
    "id": "chpSjDaXm9KG"
   },
   "outputs": [],
   "source": [
    "%matplotlib inline\n",
    "import warnings\n",
    "warnings.filterwarnings(\"ignore\")\n",
    "\n",
    "import pandas as pd\n",
    "import numpy as np\n",
    "import nltk\n",
    "import matplotlib.pyplot as plt\n",
    "import seaborn as sns\n",
    "from sklearn.feature_extraction.text import TfidfVectorizer\n",
    "from sklearn.feature_extraction.text import CountVectorizer\n",
    "from sklearn.metrics import confusion_matrix\n",
    "from sklearn import metrics\n",
    "from sklearn.metrics import roc_curve, auc\n",
    "\n",
    "import re\n",
    "\n",
    "\n",
    "import pickle\n",
    "from tqdm import tqdm\n",
    "import os\n",
    "\n",
    "from chart_studio import plotly\n",
    "import plotly.offline as offline\n",
    "import plotly.graph_objs as go\n",
    "offline.init_notebook_mode()\n",
    "from collections import Counter"
   ]
  },
  {
   "cell_type": "markdown",
   "metadata": {
    "id": "inzYCIaib3c3"
   },
   "source": [
    "<h1>2. Naive Bayes </h1>"
   ]
  },
  {
   "cell_type": "markdown",
   "metadata": {
    "id": "FYqCIxzFb3c5"
   },
   "source": [
    "## 1.1 Loading Data"
   ]
  },
  {
   "cell_type": "code",
   "execution_count": 5,
   "metadata": {
    "id": "dA1jknyqb3c_"
   },
   "outputs": [
    {
     "data": {
      "text/html": [
       "<div>\n",
       "<style scoped>\n",
       "    .dataframe tbody tr th:only-of-type {\n",
       "        vertical-align: middle;\n",
       "    }\n",
       "\n",
       "    .dataframe tbody tr th {\n",
       "        vertical-align: top;\n",
       "    }\n",
       "\n",
       "    .dataframe thead th {\n",
       "        text-align: right;\n",
       "    }\n",
       "</style>\n",
       "<table border=\"1\" class=\"dataframe\">\n",
       "  <thead>\n",
       "    <tr style=\"text-align: right;\">\n",
       "      <th></th>\n",
       "      <th>school_state</th>\n",
       "      <th>teacher_prefix</th>\n",
       "      <th>project_grade_category</th>\n",
       "      <th>teacher_number_of_previously_posted_projects</th>\n",
       "      <th>project_is_approved</th>\n",
       "      <th>clean_categories</th>\n",
       "      <th>clean_subcategories</th>\n",
       "      <th>essay</th>\n",
       "      <th>price</th>\n",
       "    </tr>\n",
       "  </thead>\n",
       "  <tbody>\n",
       "    <tr>\n",
       "      <th>0</th>\n",
       "      <td>ca</td>\n",
       "      <td>mrs</td>\n",
       "      <td>grades_prek_2</td>\n",
       "      <td>53</td>\n",
       "      <td>1</td>\n",
       "      <td>math_science</td>\n",
       "      <td>appliedsciences health_lifescience</td>\n",
       "      <td>i fortunate enough use fairy tale stem kits cl...</td>\n",
       "      <td>725.05</td>\n",
       "    </tr>\n",
       "    <tr>\n",
       "      <th>1</th>\n",
       "      <td>ut</td>\n",
       "      <td>ms</td>\n",
       "      <td>grades_3_5</td>\n",
       "      <td>4</td>\n",
       "      <td>1</td>\n",
       "      <td>specialneeds</td>\n",
       "      <td>specialneeds</td>\n",
       "      <td>imagine 8 9 years old you third grade classroo...</td>\n",
       "      <td>213.03</td>\n",
       "    </tr>\n",
       "    <tr>\n",
       "      <th>2</th>\n",
       "      <td>ca</td>\n",
       "      <td>mrs</td>\n",
       "      <td>grades_prek_2</td>\n",
       "      <td>10</td>\n",
       "      <td>1</td>\n",
       "      <td>literacy_language</td>\n",
       "      <td>literacy</td>\n",
       "      <td>having class 24 students comes diverse learner...</td>\n",
       "      <td>329.00</td>\n",
       "    </tr>\n",
       "    <tr>\n",
       "      <th>3</th>\n",
       "      <td>ga</td>\n",
       "      <td>mrs</td>\n",
       "      <td>grades_prek_2</td>\n",
       "      <td>2</td>\n",
       "      <td>1</td>\n",
       "      <td>appliedlearning</td>\n",
       "      <td>earlydevelopment</td>\n",
       "      <td>i recently read article giving students choice...</td>\n",
       "      <td>481.04</td>\n",
       "    </tr>\n",
       "    <tr>\n",
       "      <th>4</th>\n",
       "      <td>wa</td>\n",
       "      <td>mrs</td>\n",
       "      <td>grades_3_5</td>\n",
       "      <td>2</td>\n",
       "      <td>1</td>\n",
       "      <td>literacy_language</td>\n",
       "      <td>literacy</td>\n",
       "      <td>my students crave challenge eat obstacles brea...</td>\n",
       "      <td>17.74</td>\n",
       "    </tr>\n",
       "  </tbody>\n",
       "</table>\n",
       "</div>"
      ],
      "text/plain": [
       "  school_state teacher_prefix project_grade_category  \\\n",
       "0           ca            mrs          grades_prek_2   \n",
       "1           ut             ms             grades_3_5   \n",
       "2           ca            mrs          grades_prek_2   \n",
       "3           ga            mrs          grades_prek_2   \n",
       "4           wa            mrs             grades_3_5   \n",
       "\n",
       "   teacher_number_of_previously_posted_projects  project_is_approved  \\\n",
       "0                                            53                    1   \n",
       "1                                             4                    1   \n",
       "2                                            10                    1   \n",
       "3                                             2                    1   \n",
       "4                                             2                    1   \n",
       "\n",
       "    clean_categories                 clean_subcategories  \\\n",
       "0       math_science  appliedsciences health_lifescience   \n",
       "1       specialneeds                        specialneeds   \n",
       "2  literacy_language                            literacy   \n",
       "3    appliedlearning                    earlydevelopment   \n",
       "4  literacy_language                            literacy   \n",
       "\n",
       "                                               essay   price  \n",
       "0  i fortunate enough use fairy tale stem kits cl...  725.05  \n",
       "1  imagine 8 9 years old you third grade classroo...  213.03  \n",
       "2  having class 24 students comes diverse learner...  329.00  \n",
       "3  i recently read article giving students choice...  481.04  \n",
       "4  my students crave challenge eat obstacles brea...   17.74  "
      ]
     },
     "execution_count": 5,
     "metadata": {},
     "output_type": "execute_result"
    }
   ],
   "source": [
    "import pandas\n",
    "data = pandas.read_csv('preprocessed_data.csv',nrows=100000)\n",
    "data.head(5)"
   ]
  },
  {
   "cell_type": "markdown",
   "metadata": {
    "id": "WtVV13Fyb3dH"
   },
   "source": [
    "<h2>1.2 Splitting data into Train and cross validation(or test): Stratified Sampling</h2>"
   ]
  },
  {
   "cell_type": "code",
   "execution_count": 6,
   "metadata": {
    "id": "i-PyprDNb3dI"
   },
   "outputs": [
    {
     "name": "stdout",
     "output_type": "stream",
     "text": [
      "no.of train -  44890\n",
      "no. of test -  33000\n",
      "no. of cross_val -  22110\n"
     ]
    }
   ],
   "source": [
    "# please write all the code with proper documentation, and proper titles for each subsection\n",
    "# go through documentations and blogs before you start coding\n",
    "# first figure out what to do, and then think about how to do.\n",
    "# reading and understanding error messages will be very much helpfull in debugging your code\n",
    "# when you plot any graph make sure you use \n",
    "    # a. Title, that describes your plot, this will be very helpful to the reader\n",
    "    # b. Legends if needed\n",
    "    # c. X-axis label\n",
    "    # d. Y-axis label    \n",
    "X = data.drop('project_is_approved',axis=1)     \n",
    "Y = data['project_is_approved'].values\n",
    "\n",
    "from sklearn.model_selection import train_test_split\n",
    "X_train,X_test,Y_train,Y_test = train_test_split(X,Y,test_size=0.33,stratify=Y)\n",
    "X_train,X_cv,Y_train,Y_cv = train_test_split(X_train,Y_train,test_size=0.33,stratify=Y_train)\n",
    "print(\"no.of train - \",len(X_train))   \n",
    "print(\"no. of test - \",len(X_test))\n",
    "print(\"no. of cross_val - \",len(X_cv))"
   ]
  },
  {
   "cell_type": "markdown",
   "metadata": {
    "id": "EnZwVNULb3dO"
   },
   "source": [
    "<h2>1.3 Make Data Model Ready: encoding eassay, and project_title</h2>"
   ]
  },
  {
   "cell_type": "markdown",
   "metadata": {},
   "source": [
    "<h3> SET 1 - ESSAY using BOW </h3>"
   ]
  },
  {
   "cell_type": "code",
   "execution_count": 102,
   "metadata": {
    "id": "-SczZKiab3dR"
   },
   "outputs": [
    {
     "name": "stdout",
     "output_type": "stream",
     "text": [
      "before vectorization\n",
      "train - (44890, 8)\n",
      "test - (33000, 8)\n",
      "C_V - (22110, 8)\n",
      "After vectorization\n",
      "(44890, 10000) (44890,)\n",
      "(22110, 10000) (22110,)\n",
      "(33000, 10000) (33000,)\n"
     ]
    }
   ],
   "source": [
    "print('before vectorization')\n",
    "print(\"train -\",X_train.shape)\n",
    "print(\"test -\",X_test.shape)\n",
    "print(\"C_V -\",X_cv.shape)\n",
    "\n",
    "vectorizer_ess = CountVectorizer(min_df=10,ngram_range=(1,4),max_features=10000)\n",
    "vectorizer_ess.fit(X_train['essay'].values)\n",
    "X_train_essay_BOW = vectorizer_ess.transform(X_train['essay'].values)\n",
    "X_test_essay_BOW = vectorizer_ess.transform(X_test['essay'].values)\n",
    "X_cv_essay_BOW = vectorizer_ess.transform(X_cv['essay'].values)\n",
    "\n",
    "print(\"After vectorization\")\n",
    "print(X_train_essay_BOW.shape, Y_train.shape)\n",
    "print(X_cv_essay_BOW.shape, Y_cv.shape)\n",
    "print(X_test_essay_BOW.shape, Y_test.shape)"
   ]
  },
  {
   "cell_type": "markdown",
   "metadata": {},
   "source": [
    "<h3> SET 2 - ESSAY using TFIDF </h3>"
   ]
  },
  {
   "cell_type": "code",
   "execution_count": 103,
   "metadata": {},
   "outputs": [
    {
     "name": "stdout",
     "output_type": "stream",
     "text": [
      "before vectorization\n",
      "train - (44890, 8)\n",
      "test - (33000, 8)\n",
      "C_V - (22110, 8)\n",
      "After vectorization\n",
      "(44890, 10000) (44890,)\n",
      "(22110, 10000) (22110,)\n",
      "(33000, 10000) (33000,)\n"
     ]
    }
   ],
   "source": [
    "from sklearn.feature_extraction.text import TfidfVectorizer\n",
    "\n",
    "\n",
    "print('before vectorization')\n",
    "print(\"train -\",X_train.shape)\n",
    "print(\"test -\",X_test.shape)\n",
    "print(\"C_V -\",X_cv.shape)\n",
    "\n",
    "vectorizer_ess_2 = TfidfVectorizer(min_df=10,ngram_range=(1,4),max_features=10000)\n",
    "vectorizer_ess_2.fit(X_train['essay'].values)\n",
    "X_train_essay_TFIDF = vectorizer_ess_2.transform(X_train['essay'].values)\n",
    "X_test_essay_TFIDF = vectorizer_ess_2.transform(X_test['essay'].values)\n",
    "X_cv_essay_TFIDF = vectorizer_ess_2.transform(X_cv['essay'].values)\n",
    "\n",
    "print(\"After vectorization\")\n",
    "print(X_train_essay_TFIDF.shape, Y_train.shape)\n",
    "print(X_cv_essay_TFIDF.shape, Y_cv.shape)\n",
    "print(X_test_essay_TFIDF.shape, Y_test.shape)"
   ]
  },
  {
   "cell_type": "markdown",
   "metadata": {
    "id": "bGy86kgHb3dX"
   },
   "source": [
    "<h2>1.4 Make Data Model Ready: encoding numerical, categorical features</h2>"
   ]
  },
  {
   "cell_type": "markdown",
   "metadata": {},
   "source": [
    "<h4>encoding categorical features: School State</h4>"
   ]
  },
  {
   "cell_type": "code",
   "execution_count": 8,
   "metadata": {},
   "outputs": [
    {
     "name": "stdout",
     "output_type": "stream",
     "text": [
      "After vectorization\n",
      "(44890, 51) (44890,)\n",
      "(22110, 51) (22110,)\n",
      "(33000, 51) (33000,)\n",
      "['ak', 'al', 'ar', 'az', 'ca', 'co', 'ct', 'dc', 'de', 'fl', 'ga', 'hi', 'ia', 'id', 'il', 'in', 'ks', 'ky', 'la', 'ma', 'md', 'me', 'mi', 'mn', 'mo', 'ms', 'mt', 'nc', 'nd', 'ne', 'nh', 'nj', 'nm', 'nv', 'ny', 'oh', 'ok', 'or', 'pa', 'ri', 'sc', 'sd', 'tn', 'tx', 'ut', 'va', 'vt', 'wa', 'wi', 'wv', 'wy']\n"
     ]
    }
   ],
   "source": [
    "vectorizer_st = CountVectorizer()\n",
    "vectorizer_st.fit(X_train['school_state'].values) \n",
    "\n",
    "X_train_state_ohe = vectorizer_st.transform(X_train['school_state'].values)\n",
    "X_cv_state_ohe = vectorizer_st.transform(X_cv['school_state'].values)\n",
    "X_test_state_ohe = vectorizer_st.transform(X_test['school_state'].values)\n",
    "\n",
    "print(\"After vectorization\")\n",
    "print(X_train_state_ohe.shape, Y_train.shape)\n",
    "print(X_cv_state_ohe.shape, Y_cv.shape)\n",
    "print(X_test_state_ohe.shape, Y_test.shape)\n",
    "print(vectorizer_st.get_feature_names())\n"
   ]
  },
  {
   "cell_type": "markdown",
   "metadata": {},
   "source": [
    "<h4>encoding categorical features: teacher_prefix</h4>"
   ]
  },
  {
   "cell_type": "code",
   "execution_count": 9,
   "metadata": {},
   "outputs": [
    {
     "name": "stdout",
     "output_type": "stream",
     "text": [
      "After vectorization\n",
      "(44890, 5) (44890,)\n",
      "(22110, 5) (22110,)\n",
      "(33000, 5) (33000,)\n",
      "['dr', 'mr', 'mrs', 'ms', 'teacher']\n"
     ]
    }
   ],
   "source": [
    "vectorizer_tp = CountVectorizer()\n",
    "vectorizer_tp.fit(X_train['teacher_prefix'].values)\n",
    "\n",
    "# we use the fitted CountVectorizer to convert the text to vector\n",
    "X_train_teacher_ohe = vectorizer_tp.transform(X_train['teacher_prefix'].values)\n",
    "X_cv_teacher_ohe = vectorizer_tp.transform(X_cv['teacher_prefix'].values)\n",
    "X_test_teacher_ohe = vectorizer_tp.transform(X_test['teacher_prefix'].values)\n",
    "\n",
    "print(\"After vectorization\")\n",
    "print(X_train_teacher_ohe.shape, Y_train.shape)\n",
    "print(X_cv_teacher_ohe.shape, Y_cv.shape)\n",
    "print(X_test_teacher_ohe.shape, Y_test.shape)\n",
    "print(vectorizer_tp.get_feature_names())\n"
   ]
  },
  {
   "cell_type": "markdown",
   "metadata": {},
   "source": [
    "<h4>encoding categorical features: project_grade_category</h4>"
   ]
  },
  {
   "cell_type": "code",
   "execution_count": 10,
   "metadata": {},
   "outputs": [
    {
     "name": "stdout",
     "output_type": "stream",
     "text": [
      "After vectorization\n",
      "(44890, 4) (44890,)\n",
      "(22110, 4) (22110,)\n",
      "(33000, 4) (33000,)\n",
      "['grades_3_5', 'grades_6_8', 'grades_9_12', 'grades_prek_2']\n"
     ]
    }
   ],
   "source": [
    "vectorizer_gc = CountVectorizer()\n",
    "vectorizer_gc.fit(X_train['project_grade_category'].values) \n",
    "\n",
    "X_train_grade_ohe = vectorizer_gc.transform(X_train['project_grade_category'].values)\n",
    "X_cv_grade_ohe = vectorizer_gc.transform(X_cv['project_grade_category'].values)\n",
    "X_test_grade_ohe = vectorizer_gc.transform(X_test['project_grade_category'].values)\n",
    "\n",
    "print(\"After vectorization\")\n",
    "print(X_train_grade_ohe.shape, Y_train.shape)\n",
    "print(X_cv_grade_ohe.shape, Y_cv.shape)\n",
    "print(X_test_grade_ohe.shape, Y_test.shape)\n",
    "print(vectorizer_gc.get_feature_names())\n"
   ]
  },
  {
   "cell_type": "markdown",
   "metadata": {},
   "source": [
    "<h4>encoding categorical features: clean_categories</h4>"
   ]
  },
  {
   "cell_type": "code",
   "execution_count": 11,
   "metadata": {},
   "outputs": [
    {
     "name": "stdout",
     "output_type": "stream",
     "text": [
      "After vectorization\n",
      "(44890, 9) (44890,)\n",
      "(22110, 9) (22110,)\n",
      "(33000, 9) (33000,)\n",
      "['appliedlearning', 'care_hunger', 'health_sports', 'history_civics', 'literacy_language', 'math_science', 'music_arts', 'specialneeds', 'warmth']\n"
     ]
    }
   ],
   "source": [
    "vectorizer_cc = CountVectorizer()\n",
    "vectorizer_cc.fit(X_train['clean_categories'].values) \n",
    "\n",
    "X_train_categories_ohe = vectorizer_cc.transform(X_train['clean_categories'].values)\n",
    "X_cv_categories_ohe = vectorizer_cc.transform(X_cv['clean_categories'].values)\n",
    "X_test_categories_ohe = vectorizer_cc.transform(X_test['clean_categories'].values)\n",
    "\n",
    "print(\"After vectorization\")\n",
    "print(X_train_categories_ohe.shape, Y_train.shape)\n",
    "print(X_cv_categories_ohe.shape, Y_cv.shape)\n",
    "print(X_test_categories_ohe.shape, Y_test.shape)\n",
    "print(vectorizer_cc.get_feature_names())\n"
   ]
  },
  {
   "cell_type": "markdown",
   "metadata": {},
   "source": [
    "<h4>encoding categorical features: clean_subcategories</h4>"
   ]
  },
  {
   "cell_type": "code",
   "execution_count": 12,
   "metadata": {},
   "outputs": [
    {
     "name": "stdout",
     "output_type": "stream",
     "text": [
      "After vectorization\n",
      "(44890, 30) (44890,)\n",
      "(22110, 30) (22110,)\n",
      "(33000, 30) (33000,)\n",
      "['appliedsciences', 'care_hunger', 'charactereducation', 'civics_government', 'college_careerprep', 'communityservice', 'earlydevelopment', 'economics', 'environmentalscience', 'esl', 'extracurricular', 'financialliteracy', 'foreignlanguages', 'gym_fitness', 'health_lifescience', 'health_wellness', 'history_geography', 'literacy', 'literature_writing', 'mathematics', 'music', 'nutritioneducation', 'other', 'parentinvolvement', 'performingarts', 'socialsciences', 'specialneeds', 'teamsports', 'visualarts', 'warmth']\n"
     ]
    }
   ],
   "source": [
    "vectorizer_csc = CountVectorizer()\n",
    "vectorizer_csc.fit(X_train['clean_subcategories'].values) \n",
    "\n",
    "X_train_subcategories_ohe = vectorizer_csc.transform(X_train['clean_subcategories'].values)\n",
    "X_cv_subcategories_ohe = vectorizer_csc.transform(X_cv['clean_subcategories'].values)\n",
    "X_test_subcategories_ohe = vectorizer_csc.transform(X_test['clean_subcategories'].values)\n",
    "\n",
    "print(\"After vectorization\")\n",
    "print(X_train_subcategories_ohe.shape, Y_train.shape)\n",
    "print(X_cv_subcategories_ohe.shape, Y_cv.shape)\n",
    "print(X_test_subcategories_ohe.shape, Y_test.shape)\n",
    "print(vectorizer_csc.get_feature_names())\n"
   ]
  },
  {
   "cell_type": "markdown",
   "metadata": {},
   "source": [
    "<h4>encoding numerical features: Price</h4>"
   ]
  },
  {
   "cell_type": "code",
   "execution_count": 13,
   "metadata": {},
   "outputs": [
    {
     "ename": "ValueError",
     "evalue": "X has 22110 features, but Normalizer is expecting 44890 features as input.",
     "output_type": "error",
     "traceback": [
      "\u001b[1;31m---------------------------------------------------------------------------\u001b[0m",
      "\u001b[1;31mValueError\u001b[0m                                Traceback (most recent call last)",
      "\u001b[1;32m<ipython-input-13-96a732d0341f>\u001b[0m in \u001b[0;36m<module>\u001b[1;34m\u001b[0m\n\u001b[0;32m      4\u001b[0m \u001b[1;33m\u001b[0m\u001b[0m\n\u001b[0;32m      5\u001b[0m \u001b[0mX_train_price_norm\u001b[0m \u001b[1;33m=\u001b[0m \u001b[0mnormalizer\u001b[0m\u001b[1;33m.\u001b[0m\u001b[0mtransform\u001b[0m\u001b[1;33m(\u001b[0m\u001b[0mX_train\u001b[0m\u001b[1;33m[\u001b[0m\u001b[1;34m'price'\u001b[0m\u001b[1;33m]\u001b[0m\u001b[1;33m.\u001b[0m\u001b[0mvalues\u001b[0m\u001b[1;33m.\u001b[0m\u001b[0mreshape\u001b[0m\u001b[1;33m(\u001b[0m\u001b[1;36m1\u001b[0m\u001b[1;33m,\u001b[0m\u001b[1;33m-\u001b[0m\u001b[1;36m1\u001b[0m\u001b[1;33m)\u001b[0m\u001b[1;33m)\u001b[0m   \u001b[1;31m# array shape changed to 1 row many columns\u001b[0m\u001b[1;33m\u001b[0m\u001b[1;33m\u001b[0m\u001b[0m\n\u001b[1;32m----> 6\u001b[1;33m \u001b[0mX_cv_price_norm\u001b[0m \u001b[1;33m=\u001b[0m \u001b[0mnormalizer\u001b[0m\u001b[1;33m.\u001b[0m\u001b[0mtransform\u001b[0m\u001b[1;33m(\u001b[0m\u001b[0mX_cv\u001b[0m\u001b[1;33m[\u001b[0m\u001b[1;34m'price'\u001b[0m\u001b[1;33m]\u001b[0m\u001b[1;33m.\u001b[0m\u001b[0mvalues\u001b[0m\u001b[1;33m.\u001b[0m\u001b[0mreshape\u001b[0m\u001b[1;33m(\u001b[0m\u001b[1;36m1\u001b[0m\u001b[1;33m,\u001b[0m\u001b[1;33m-\u001b[0m\u001b[1;36m1\u001b[0m\u001b[1;33m)\u001b[0m\u001b[1;33m)\u001b[0m\u001b[1;33m\u001b[0m\u001b[1;33m\u001b[0m\u001b[0m\n\u001b[0m\u001b[0;32m      7\u001b[0m \u001b[0mX_test_price_norm\u001b[0m \u001b[1;33m=\u001b[0m \u001b[0mnormalizer\u001b[0m\u001b[1;33m.\u001b[0m\u001b[0mtransform\u001b[0m\u001b[1;33m(\u001b[0m\u001b[0mX_test\u001b[0m\u001b[1;33m[\u001b[0m\u001b[1;34m'price'\u001b[0m\u001b[1;33m]\u001b[0m\u001b[1;33m.\u001b[0m\u001b[0mvalues\u001b[0m\u001b[1;33m.\u001b[0m\u001b[0mreshape\u001b[0m\u001b[1;33m(\u001b[0m\u001b[1;36m1\u001b[0m\u001b[1;33m,\u001b[0m\u001b[1;33m-\u001b[0m\u001b[1;36m1\u001b[0m\u001b[1;33m)\u001b[0m\u001b[1;33m)\u001b[0m\u001b[1;33m\u001b[0m\u001b[1;33m\u001b[0m\u001b[0m\n\u001b[0;32m      8\u001b[0m \u001b[1;33m\u001b[0m\u001b[0m\n",
      "\u001b[1;32m~\\anaconda3\\envs\\gpu2\\lib\\site-packages\\sklearn\\preprocessing\\_data.py\u001b[0m in \u001b[0;36mtransform\u001b[1;34m(self, X, copy)\u001b[0m\n\u001b[0;32m   2045\u001b[0m         \"\"\"\n\u001b[0;32m   2046\u001b[0m         \u001b[0mcopy\u001b[0m \u001b[1;33m=\u001b[0m \u001b[0mcopy\u001b[0m \u001b[1;32mif\u001b[0m \u001b[0mcopy\u001b[0m \u001b[1;32mis\u001b[0m \u001b[1;32mnot\u001b[0m \u001b[1;32mNone\u001b[0m \u001b[1;32melse\u001b[0m \u001b[0mself\u001b[0m\u001b[1;33m.\u001b[0m\u001b[0mcopy\u001b[0m\u001b[1;33m\u001b[0m\u001b[1;33m\u001b[0m\u001b[0m\n\u001b[1;32m-> 2047\u001b[1;33m         \u001b[0mX\u001b[0m \u001b[1;33m=\u001b[0m \u001b[0mself\u001b[0m\u001b[1;33m.\u001b[0m\u001b[0m_validate_data\u001b[0m\u001b[1;33m(\u001b[0m\u001b[0mX\u001b[0m\u001b[1;33m,\u001b[0m \u001b[0maccept_sparse\u001b[0m\u001b[1;33m=\u001b[0m\u001b[1;34m'csr'\u001b[0m\u001b[1;33m,\u001b[0m \u001b[0mreset\u001b[0m\u001b[1;33m=\u001b[0m\u001b[1;32mFalse\u001b[0m\u001b[1;33m)\u001b[0m\u001b[1;33m\u001b[0m\u001b[1;33m\u001b[0m\u001b[0m\n\u001b[0m\u001b[0;32m   2048\u001b[0m         \u001b[1;32mreturn\u001b[0m \u001b[0mnormalize\u001b[0m\u001b[1;33m(\u001b[0m\u001b[0mX\u001b[0m\u001b[1;33m,\u001b[0m \u001b[0mnorm\u001b[0m\u001b[1;33m=\u001b[0m\u001b[0mself\u001b[0m\u001b[1;33m.\u001b[0m\u001b[0mnorm\u001b[0m\u001b[1;33m,\u001b[0m \u001b[0maxis\u001b[0m\u001b[1;33m=\u001b[0m\u001b[1;36m1\u001b[0m\u001b[1;33m,\u001b[0m \u001b[0mcopy\u001b[0m\u001b[1;33m=\u001b[0m\u001b[0mcopy\u001b[0m\u001b[1;33m)\u001b[0m\u001b[1;33m\u001b[0m\u001b[1;33m\u001b[0m\u001b[0m\n\u001b[0;32m   2049\u001b[0m \u001b[1;33m\u001b[0m\u001b[0m\n",
      "\u001b[1;32m~\\anaconda3\\envs\\gpu2\\lib\\site-packages\\sklearn\\base.py\u001b[0m in \u001b[0;36m_validate_data\u001b[1;34m(self, X, y, reset, validate_separately, **check_params)\u001b[0m\n\u001b[0;32m    435\u001b[0m \u001b[1;33m\u001b[0m\u001b[0m\n\u001b[0;32m    436\u001b[0m         \u001b[1;32mif\u001b[0m \u001b[0mcheck_params\u001b[0m\u001b[1;33m.\u001b[0m\u001b[0mget\u001b[0m\u001b[1;33m(\u001b[0m\u001b[1;34m'ensure_2d'\u001b[0m\u001b[1;33m,\u001b[0m \u001b[1;32mTrue\u001b[0m\u001b[1;33m)\u001b[0m\u001b[1;33m:\u001b[0m\u001b[1;33m\u001b[0m\u001b[1;33m\u001b[0m\u001b[0m\n\u001b[1;32m--> 437\u001b[1;33m             \u001b[0mself\u001b[0m\u001b[1;33m.\u001b[0m\u001b[0m_check_n_features\u001b[0m\u001b[1;33m(\u001b[0m\u001b[0mX\u001b[0m\u001b[1;33m,\u001b[0m \u001b[0mreset\u001b[0m\u001b[1;33m=\u001b[0m\u001b[0mreset\u001b[0m\u001b[1;33m)\u001b[0m\u001b[1;33m\u001b[0m\u001b[1;33m\u001b[0m\u001b[0m\n\u001b[0m\u001b[0;32m    438\u001b[0m \u001b[1;33m\u001b[0m\u001b[0m\n\u001b[0;32m    439\u001b[0m         \u001b[1;32mreturn\u001b[0m \u001b[0mout\u001b[0m\u001b[1;33m\u001b[0m\u001b[1;33m\u001b[0m\u001b[0m\n",
      "\u001b[1;32m~\\anaconda3\\envs\\gpu2\\lib\\site-packages\\sklearn\\base.py\u001b[0m in \u001b[0;36m_check_n_features\u001b[1;34m(self, X, reset)\u001b[0m\n\u001b[0;32m    364\u001b[0m         \u001b[1;32mif\u001b[0m \u001b[0mn_features\u001b[0m \u001b[1;33m!=\u001b[0m \u001b[0mself\u001b[0m\u001b[1;33m.\u001b[0m\u001b[0mn_features_in_\u001b[0m\u001b[1;33m:\u001b[0m\u001b[1;33m\u001b[0m\u001b[1;33m\u001b[0m\u001b[0m\n\u001b[0;32m    365\u001b[0m             raise ValueError(\n\u001b[1;32m--> 366\u001b[1;33m                 \u001b[1;34mf\"X has {n_features} features, but {self.__class__.__name__} \"\u001b[0m\u001b[1;33m\u001b[0m\u001b[1;33m\u001b[0m\u001b[0m\n\u001b[0m\u001b[0;32m    367\u001b[0m                 f\"is expecting {self.n_features_in_} features as input.\")\n\u001b[0;32m    368\u001b[0m \u001b[1;33m\u001b[0m\u001b[0m\n",
      "\u001b[1;31mValueError\u001b[0m: X has 22110 features, but Normalizer is expecting 44890 features as input."
     ]
    }
   ],
   "source": [
    "from sklearn.preprocessing import Normalizer\n",
    "normalizer = Normalizer()\n",
    "normalizer.fit(X_train['price'].values.reshape(1,-1))  ## edited when lstm assignemnt do reshape(-1,1)\n",
    "\n",
    "X_train_price_norm = normalizer.transform(X_train['price'].values.reshape(1,-1))   # array shape changed to 1 row many columns\n",
    "X_cv_price_norm = normalizer.transform(X_cv['price'].values.reshape(1,-1))\n",
    "X_test_price_norm = normalizer.transform(X_test['price'].values.reshape(1,-1))\n",
    "\n",
    "X_train_price_std = X_train_price_norm.reshape(-1,1)   # reshaping array to many rows and 1 column\n",
    "X_cv_price_std    = X_cv_price_norm.reshape(-1,1)\n",
    "X_test_price_std  = X_test_price_norm.reshape(-1,1)\n",
    "print(\"After vectorization, shape of X and Y data - train,cv,test in order\")\n",
    "print(X_train_price_std.shape, Y_train.shape)\n",
    "print(X_cv_price_std.shape, Y_cv.shape)\n",
    "print(X_test_price_std.shape, Y_test.shape)"
   ]
  },
  {
   "cell_type": "markdown",
   "metadata": {},
   "source": [
    "<h4>encoding numerical features: teacher_number_of_previously_posted_projects</h4>"
   ]
  },
  {
   "cell_type": "code",
   "execution_count": 110,
   "metadata": {},
   "outputs": [
    {
     "name": "stdout",
     "output_type": "stream",
     "text": [
      "After vectorization, shape of X and Y data - train,cv,test in order\n",
      "(44890, 1) (44890,)\n",
      "(22110, 1) (22110,)\n",
      "(33000, 1) (33000,)\n"
     ]
    }
   ],
   "source": [
    "normalizer = Normalizer()\n",
    "normalizer.fit(X_train['teacher_number_of_previously_posted_projects'].values.reshape(1,-1))\n",
    "\n",
    "X_train_prev_posted_norm = normalizer.transform(X_train['teacher_number_of_previously_posted_projects'].values.reshape(1,-1))   # array shape changed to 1 row many columns\n",
    "X_cv_prev_posted_norm = normalizer.transform(X_cv['teacher_number_of_previously_posted_projects'].values.reshape(1,-1))\n",
    "X_test_prev_posted_norm = normalizer.transform(X_test['teacher_number_of_previously_posted_projects'].values.reshape(1,-1))\n",
    "\n",
    "X_train_prev_posted_std = X_train_prev_posted_norm.reshape(-1,1)   # reshaping array to many rows and 1 column\n",
    "X_cv_prev_posted_std    = X_cv_prev_posted_norm.reshape(-1,1)\n",
    "X_test_prev_posted_std  = X_test_prev_posted_norm.reshape(-1,1)\n",
    "\n",
    "print(\"After vectorization, shape of X and Y data - train,cv,test in order\")\n",
    "print(X_train_prev_posted_std.shape, Y_train.shape)\n",
    "print(X_cv_prev_posted_std.shape, Y_cv.shape)\n",
    "print(X_test_prev_posted_std.shape, Y_test.shape)\n"
   ]
  },
  {
   "cell_type": "markdown",
   "metadata": {},
   "source": [
    " <h2>Concatinating all the features</h2>"
   ]
  },
  {
   "cell_type": "markdown",
   "metadata": {},
   "source": [
    "<h3>Set 1: categorical, numerical features + preprocessed_eassay (BOW)</h3>"
   ]
  },
  {
   "cell_type": "code",
   "execution_count": 111,
   "metadata": {},
   "outputs": [
    {
     "name": "stdout",
     "output_type": "stream",
     "text": [
      "Final Data matrix\n",
      "(44890, 10101) (44890,)\n",
      "(22110, 10101) (22110,)\n",
      "(33000, 10101) (33000,)\n"
     ]
    }
   ],
   "source": [
    "from scipy.sparse import hstack\n",
    "\n",
    "X_tr_set_1 = hstack((X_train_essay_BOW, X_train_state_ohe, X_train_teacher_ohe, X_train_grade_ohe,X_train_categories_ohe,X_train_subcategories_ohe, X_train_price_std,X_train_prev_posted_std)).tocsr()\n",
    "X_cr_set_1 = hstack((X_cv_essay_BOW, X_cv_state_ohe, X_cv_teacher_ohe, X_cv_grade_ohe,X_cv_categories_ohe,X_cv_subcategories_ohe, X_cv_price_std,X_cv_prev_posted_std)).tocsr()\n",
    "X_te_set_1 = hstack((X_test_essay_BOW, X_test_state_ohe, X_test_teacher_ohe, X_test_grade_ohe,X_test_categories_ohe,X_test_subcategories_ohe, X_test_price_std,X_test_prev_posted_std)).tocsr()\n",
    "\n",
    "print(\"Final Data matrix\")\n",
    "print(X_tr_set_1.shape, Y_train.shape)\n",
    "print(X_cr_set_1.shape, Y_cv.shape)\n",
    "print(X_te_set_1.shape, Y_test.shape)\n"
   ]
  },
  {
   "cell_type": "markdown",
   "metadata": {},
   "source": [
    "<h3> Set 2: categorical, numerical features + preprocessed_eassay (TFIDF)</h3>"
   ]
  },
  {
   "cell_type": "code",
   "execution_count": 112,
   "metadata": {},
   "outputs": [
    {
     "name": "stdout",
     "output_type": "stream",
     "text": [
      "Final Data matrix\n",
      "(44890, 10101) (44890,)\n",
      "(22110, 10101) (22110,)\n",
      "(33000, 10101) (33000,)\n"
     ]
    }
   ],
   "source": [
    "X_tr_set_2 = hstack((X_train_essay_TFIDF, X_train_state_ohe, X_train_teacher_ohe, X_train_grade_ohe,X_train_categories_ohe,X_train_subcategories_ohe, X_train_price_std,X_train_prev_posted_std)).tocsr()\n",
    "X_cr_set_2 = hstack((X_cv_essay_TFIDF, X_cv_state_ohe, X_cv_teacher_ohe, X_cv_grade_ohe,X_cv_categories_ohe,X_cv_subcategories_ohe, X_cv_price_std,X_cv_prev_posted_std)).tocsr()\n",
    "X_te_set_2 = hstack((X_test_essay_TFIDF, X_test_state_ohe, X_test_teacher_ohe, X_test_grade_ohe,X_test_categories_ohe,X_test_subcategories_ohe, X_test_price_std,X_test_prev_posted_std)).tocsr()\n",
    "\n",
    "print(\"Final Data matrix\")\n",
    "print(X_tr_set_2.shape, Y_train.shape)\n",
    "print(X_cr_set_2.shape, Y_cv.shape)\n",
    "print(X_te_set_2.shape, Y_test.shape)\n"
   ]
  },
  {
   "cell_type": "markdown",
   "metadata": {},
   "source": [
    "<h2>1.5 Appling NB on different kind of featurization as mentioned in the instructions</h2>\n",
    "<h3>SET-1</h3>\n"
   ]
  },
  {
   "cell_type": "markdown",
   "metadata": {},
   "source": [
    "####  Hyper parameter Tuning "
   ]
  },
  {
   "cell_type": "code",
   "execution_count": 113,
   "metadata": {
    "id": "DNwqilFxb3di"
   },
   "outputs": [
    {
     "data": {
      "image/png": "[encoded data removed]",
      "text/plain": [
       "<Figure size 432x288 with 1 Axes>"
      ]
     },
     "metadata": {
      "needs_background": "light"
     },
     "output_type": "display_data"
    },
    {
     "data": {
      "text/html": [
       "<div>\n",
       "<style scoped>\n",
       "    .dataframe tbody tr th:only-of-type {\n",
       "        vertical-align: middle;\n",
       "    }\n",
       "\n",
       "    .dataframe tbody tr th {\n",
       "        vertical-align: top;\n",
       "    }\n",
       "\n",
       "    .dataframe thead th {\n",
       "        text-align: right;\n",
       "    }\n",
       "</style>\n",
       "<table border=\"1\" class=\"dataframe\">\n",
       "  <thead>\n",
       "    <tr style=\"text-align: right;\">\n",
       "      <th></th>\n",
       "      <th>mean_fit_time</th>\n",
       "      <th>std_fit_time</th>\n",
       "      <th>mean_score_time</th>\n",
       "      <th>std_score_time</th>\n",
       "      <th>param_alpha</th>\n",
       "      <th>params</th>\n",
       "      <th>split0_test_score</th>\n",
       "      <th>split1_test_score</th>\n",
       "      <th>split2_test_score</th>\n",
       "      <th>mean_test_score</th>\n",
       "      <th>std_test_score</th>\n",
       "      <th>rank_test_score</th>\n",
       "      <th>split0_train_score</th>\n",
       "      <th>split1_train_score</th>\n",
       "      <th>split2_train_score</th>\n",
       "      <th>mean_train_score</th>\n",
       "      <th>std_train_score</th>\n",
       "    </tr>\n",
       "  </thead>\n",
       "  <tbody>\n",
       "    <tr>\n",
       "      <th>7</th>\n",
       "      <td>0.053189</td>\n",
       "      <td>0.000857</td>\n",
       "      <td>0.015728</td>\n",
       "      <td>5.199170e-04</td>\n",
       "      <td>1e-05</td>\n",
       "      <td>{'alpha': 1e-05}</td>\n",
       "      <td>0.690211</td>\n",
       "      <td>0.697682</td>\n",
       "      <td>0.670087</td>\n",
       "      <td>0.685993</td>\n",
       "      <td>0.011654</td>\n",
       "      <td>6</td>\n",
       "      <td>0.772039</td>\n",
       "      <td>0.776684</td>\n",
       "      <td>0.772601</td>\n",
       "      <td>0.773775</td>\n",
       "      <td>0.002070</td>\n",
       "    </tr>\n",
       "    <tr>\n",
       "      <th>3</th>\n",
       "      <td>0.051353</td>\n",
       "      <td>0.000468</td>\n",
       "      <td>0.015328</td>\n",
       "      <td>4.662004e-04</td>\n",
       "      <td>0.0001</td>\n",
       "      <td>{'alpha': 0.0001}</td>\n",
       "      <td>0.690270</td>\n",
       "      <td>0.697815</td>\n",
       "      <td>0.670086</td>\n",
       "      <td>0.686057</td>\n",
       "      <td>0.011706</td>\n",
       "      <td>5</td>\n",
       "      <td>0.772020</td>\n",
       "      <td>0.776655</td>\n",
       "      <td>0.772601</td>\n",
       "      <td>0.773759</td>\n",
       "      <td>0.002061</td>\n",
       "    </tr>\n",
       "    <tr>\n",
       "      <th>5</th>\n",
       "      <td>0.052015</td>\n",
       "      <td>0.000001</td>\n",
       "      <td>0.015000</td>\n",
       "      <td>1.348699e-06</td>\n",
       "      <td>0.001</td>\n",
       "      <td>{'alpha': 0.001}</td>\n",
       "      <td>0.690333</td>\n",
       "      <td>0.697996</td>\n",
       "      <td>0.670086</td>\n",
       "      <td>0.686138</td>\n",
       "      <td>0.011774</td>\n",
       "      <td>4</td>\n",
       "      <td>0.771988</td>\n",
       "      <td>0.776605</td>\n",
       "      <td>0.772599</td>\n",
       "      <td>0.773731</td>\n",
       "      <td>0.002047</td>\n",
       "    </tr>\n",
       "    <tr>\n",
       "      <th>1</th>\n",
       "      <td>0.052681</td>\n",
       "      <td>0.001248</td>\n",
       "      <td>0.015336</td>\n",
       "      <td>4.706964e-04</td>\n",
       "      <td>0.01</td>\n",
       "      <td>{'alpha': 0.01}</td>\n",
       "      <td>0.690399</td>\n",
       "      <td>0.698224</td>\n",
       "      <td>0.670074</td>\n",
       "      <td>0.686233</td>\n",
       "      <td>0.011864</td>\n",
       "      <td>3</td>\n",
       "      <td>0.771921</td>\n",
       "      <td>0.776505</td>\n",
       "      <td>0.772573</td>\n",
       "      <td>0.773666</td>\n",
       "      <td>0.002025</td>\n",
       "    </tr>\n",
       "    <tr>\n",
       "      <th>4</th>\n",
       "      <td>0.052347</td>\n",
       "      <td>0.000472</td>\n",
       "      <td>0.015170</td>\n",
       "      <td>2.401248e-04</td>\n",
       "      <td>0.05</td>\n",
       "      <td>{'alpha': 0.05}</td>\n",
       "      <td>0.690436</td>\n",
       "      <td>0.698362</td>\n",
       "      <td>0.670016</td>\n",
       "      <td>0.686271</td>\n",
       "      <td>0.011941</td>\n",
       "      <td>1</td>\n",
       "      <td>0.771766</td>\n",
       "      <td>0.776317</td>\n",
       "      <td>0.772463</td>\n",
       "      <td>0.773515</td>\n",
       "      <td>0.002001</td>\n",
       "    </tr>\n",
       "    <tr>\n",
       "      <th>8</th>\n",
       "      <td>0.052679</td>\n",
       "      <td>0.000471</td>\n",
       "      <td>0.015002</td>\n",
       "      <td>7.370010e-07</td>\n",
       "      <td>0.1</td>\n",
       "      <td>{'alpha': 0.1}</td>\n",
       "      <td>0.690437</td>\n",
       "      <td>0.698381</td>\n",
       "      <td>0.669939</td>\n",
       "      <td>0.686252</td>\n",
       "      <td>0.011983</td>\n",
       "      <td>2</td>\n",
       "      <td>0.771603</td>\n",
       "      <td>0.776132</td>\n",
       "      <td>0.772322</td>\n",
       "      <td>0.773352</td>\n",
       "      <td>0.001987</td>\n",
       "    </tr>\n",
       "    <tr>\n",
       "      <th>0</th>\n",
       "      <td>0.055642</td>\n",
       "      <td>0.003680</td>\n",
       "      <td>0.017632</td>\n",
       "      <td>3.719712e-03</td>\n",
       "      <td>1</td>\n",
       "      <td>{'alpha': 1}</td>\n",
       "      <td>0.690307</td>\n",
       "      <td>0.697465</td>\n",
       "      <td>0.668583</td>\n",
       "      <td>0.685452</td>\n",
       "      <td>0.012281</td>\n",
       "      <td>7</td>\n",
       "      <td>0.769042</td>\n",
       "      <td>0.773415</td>\n",
       "      <td>0.769937</td>\n",
       "      <td>0.770798</td>\n",
       "      <td>0.001886</td>\n",
       "    </tr>\n",
       "    <tr>\n",
       "      <th>2</th>\n",
       "      <td>0.052680</td>\n",
       "      <td>0.000943</td>\n",
       "      <td>0.015002</td>\n",
       "      <td>1.123916e-07</td>\n",
       "      <td>10</td>\n",
       "      <td>{'alpha': 10}</td>\n",
       "      <td>0.686063</td>\n",
       "      <td>0.685867</td>\n",
       "      <td>0.657068</td>\n",
       "      <td>0.676333</td>\n",
       "      <td>0.013623</td>\n",
       "      <td>8</td>\n",
       "      <td>0.747384</td>\n",
       "      <td>0.751998</td>\n",
       "      <td>0.750694</td>\n",
       "      <td>0.750025</td>\n",
       "      <td>0.001942</td>\n",
       "    </tr>\n",
       "    <tr>\n",
       "      <th>6</th>\n",
       "      <td>0.052852</td>\n",
       "      <td>0.000628</td>\n",
       "      <td>0.015334</td>\n",
       "      <td>4.718761e-04</td>\n",
       "      <td>50</td>\n",
       "      <td>{'alpha': 50}</td>\n",
       "      <td>0.653712</td>\n",
       "      <td>0.642556</td>\n",
       "      <td>0.624806</td>\n",
       "      <td>0.640358</td>\n",
       "      <td>0.011903</td>\n",
       "      <td>9</td>\n",
       "      <td>0.677090</td>\n",
       "      <td>0.682489</td>\n",
       "      <td>0.688799</td>\n",
       "      <td>0.682793</td>\n",
       "      <td>0.004785</td>\n",
       "    </tr>\n",
       "    <tr>\n",
       "      <th>9</th>\n",
       "      <td>0.053349</td>\n",
       "      <td>0.000945</td>\n",
       "      <td>0.014235</td>\n",
       "      <td>3.188983e-04</td>\n",
       "      <td>100</td>\n",
       "      <td>{'alpha': 100}</td>\n",
       "      <td>0.555294</td>\n",
       "      <td>0.547263</td>\n",
       "      <td>0.549658</td>\n",
       "      <td>0.550738</td>\n",
       "      <td>0.003367</td>\n",
       "      <td>10</td>\n",
       "      <td>0.562668</td>\n",
       "      <td>0.562614</td>\n",
       "      <td>0.569011</td>\n",
       "      <td>0.564764</td>\n",
       "      <td>0.003003</td>\n",
       "    </tr>\n",
       "  </tbody>\n",
       "</table>\n",
       "</div>"
      ],
      "text/plain": [
       "   mean_fit_time  std_fit_time  mean_score_time  std_score_time param_alpha  \\\n",
       "7       0.053189      0.000857         0.015728    5.199170e-04       1e-05   \n",
       "3       0.051353      0.000468         0.015328    4.662004e-04      0.0001   \n",
       "5       0.052015      0.000001         0.015000    1.348699e-06       0.001   \n",
       "1       0.052681      0.001248         0.015336    4.706964e-04        0.01   \n",
       "4       0.052347      0.000472         0.015170    2.401248e-04        0.05   \n",
       "8       0.052679      0.000471         0.015002    7.370010e-07         0.1   \n",
       "0       0.055642      0.003680         0.017632    3.719712e-03           1   \n",
       "2       0.052680      0.000943         0.015002    1.123916e-07          10   \n",
       "6       0.052852      0.000628         0.015334    4.718761e-04          50   \n",
       "9       0.053349      0.000945         0.014235    3.188983e-04         100   \n",
       "\n",
       "              params  split0_test_score  split1_test_score  split2_test_score  \\\n",
       "7   {'alpha': 1e-05}           0.690211           0.697682           0.670087   \n",
       "3  {'alpha': 0.0001}           0.690270           0.697815           0.670086   \n",
       "5   {'alpha': 0.001}           0.690333           0.697996           0.670086   \n",
       "1    {'alpha': 0.01}           0.690399           0.698224           0.670074   \n",
       "4    {'alpha': 0.05}           0.690436           0.698362           0.670016   \n",
       "8     {'alpha': 0.1}           0.690437           0.698381           0.669939   \n",
       "0       {'alpha': 1}           0.690307           0.697465           0.668583   \n",
       "2      {'alpha': 10}           0.686063           0.685867           0.657068   \n",
       "6      {'alpha': 50}           0.653712           0.642556           0.624806   \n",
       "9     {'alpha': 100}           0.555294           0.547263           0.549658   \n",
       "\n",
       "   mean_test_score  std_test_score  rank_test_score  split0_train_score  \\\n",
       "7         0.685993        0.011654                6            0.772039   \n",
       "3         0.686057        0.011706                5            0.772020   \n",
       "5         0.686138        0.011774                4            0.771988   \n",
       "1         0.686233        0.011864                3            0.771921   \n",
       "4         0.686271        0.011941                1            0.771766   \n",
       "8         0.686252        0.011983                2            0.771603   \n",
       "0         0.685452        0.012281                7            0.769042   \n",
       "2         0.676333        0.013623                8            0.747384   \n",
       "6         0.640358        0.011903                9            0.677090   \n",
       "9         0.550738        0.003367               10            0.562668   \n",
       "\n",
       "   split1_train_score  split2_train_score  mean_train_score  std_train_score  \n",
       "7            0.776684            0.772601          0.773775         0.002070  \n",
       "3            0.776655            0.772601          0.773759         0.002061  \n",
       "5            0.776605            0.772599          0.773731         0.002047  \n",
       "1            0.776505            0.772573          0.773666         0.002025  \n",
       "4            0.776317            0.772463          0.773515         0.002001  \n",
       "8            0.776132            0.772322          0.773352         0.001987  \n",
       "0            0.773415            0.769937          0.770798         0.001886  \n",
       "2            0.751998            0.750694          0.750025         0.001942  \n",
       "6            0.682489            0.688799          0.682793         0.004785  \n",
       "9            0.562614            0.569011          0.564764         0.003003  "
      ]
     },
     "execution_count": 113,
     "metadata": {},
     "output_type": "execute_result"
    }
   ],
   "source": [
    "from sklearn.naive_bayes import MultinomialNB\n",
    "from sklearn.model_selection import RandomizedSearchCV\n",
    "from math import log\n",
    "MNB = MultinomialNB(class_prior=[0.5, 0.5])\n",
    "parameters = {'alpha': [0.00001, 0.0001,0.001,0.05,0.01,0.1,1,5,10,50,100] }        # giving alpha values between 10^-5 to 10^2\n",
    "clf= RandomizedSearchCV(MNB,parameters,cv=3,scoring='roc_auc',return_train_score=True)   \n",
    "clf.fit(X_tr_set_1,Y_train)\n",
    "\n",
    "results = pd.DataFrame.from_dict(clf.cv_results_)\n",
    "\n",
    "results = results.sort_values(['param_alpha'])\n",
    "\n",
    "\n",
    "train_auc= results['mean_train_score']\n",
    "train_auc_std= results['std_train_score']\n",
    "cv_auc = results['mean_test_score'] \n",
    "cv_auc_std= results['std_test_score']\n",
    "a =  results['param_alpha']\n",
    "a=[log(y,10) for y in a]\n",
    "plt.plot(a, train_auc, label='Train AUC')\n",
    "plt.plot(a, cv_auc, label='CV AUC')\n",
    "plt.scatter(a, train_auc, label='Train AUC points')\n",
    "plt.scatter(a, cv_auc, label='CV AUC points')\n",
    "\n",
    "plt.legend()\n",
    "plt.xlabel(\"log(alpha): hyperparameter\")\n",
    "plt.ylabel(\"AUC\")\n",
    "plt.title(\"Hyper parameter Vs AUC plot\")\n",
    "plt.grid()\n",
    "plt.show()\n",
    "\n",
    "results"
   ]
  },
  {
   "cell_type": "code",
   "execution_count": 114,
   "metadata": {},
   "outputs": [
    {
     "data": {
      "text/plain": [
       "{'alpha': 0.05}"
      ]
     },
     "execution_count": 114,
     "metadata": {},
     "output_type": "execute_result"
    }
   ],
   "source": [
    "clf.best_params_    # BEST alpha VALUE"
   ]
  },
  {
   "cell_type": "code",
   "execution_count": 115,
   "metadata": {},
   "outputs": [],
   "source": [
    "best_alpha = 0.05"
   ]
  },
  {
   "cell_type": "markdown",
   "metadata": {},
   "source": [
    "####  Testing the performance of the model on test data, plotting ROC Curves"
   ]
  },
  {
   "cell_type": "code",
   "execution_count": 116,
   "metadata": {},
   "outputs": [],
   "source": [
    "def batch_predict(clf, data):\n",
    "\n",
    "\n",
    "    y_data_pred = []\n",
    "    tr_loop = data.shape[0] - data.shape[0]%1000\n",
    "\n",
    "    for i in range(0, tr_loop, 1000):\n",
    "        y_data_pred.extend(clf.predict_proba(data[i:i+1000])[:,1])\n",
    "\n",
    "    if data.shape[0]%1000 !=0:\n",
    "        y_data_pred.extend(clf.predict_proba(data[tr_loop:])[:,1]) \n",
    "    \n",
    "    return y_data_pred"
   ]
  },
  {
   "cell_type": "code",
   "execution_count": 117,
   "metadata": {},
   "outputs": [
    {
     "data": {
      "image/png": "[encoded data removed]",
      "text/plain": [
       "<Figure size 432x288 with 1 Axes>"
      ]
     },
     "metadata": {
      "needs_background": "light"
     },
     "output_type": "display_data"
    }
   ],
   "source": [
    "#  PERFORM Multinomial Naive Bayes with Best alpha value\n",
    "\n",
    "from sklearn.metrics import roc_curve, auc\n",
    "\n",
    "MNB = MultinomialNB(alpha=best_alpha,class_prior=[0.5, 0.5])\n",
    "MNB.fit(X_tr_set_1,Y_train)\n",
    "\n",
    "y_train_pred = batch_predict(MNB,X_tr_set_1)\n",
    "y_test_pred = batch_predict(MNB,X_te_set_1)\n",
    "\n",
    "train_fpr, train_tpr, tr_thresholds = roc_curve(Y_train, y_train_pred)\n",
    "test_fpr, test_tpr, te_thresholds = roc_curve(Y_test, y_test_pred)\n",
    "\n",
    "plt.plot(train_fpr, train_tpr, label=\"train AUC =\"+str(auc(train_fpr, train_tpr)))\n",
    "plt.plot(test_fpr, test_tpr, label=\"test AUC =\"+str(auc(test_fpr, test_tpr)))\n",
    "plt.legend()\n",
    "plt.xlabel(\"FPR\")\n",
    "plt.ylabel(\"TPR\")\n",
    "plt.title(\"AUC -ROC CURVE\")\n",
    "plt.grid()\n",
    "plt.show()"
   ]
  },
  {
   "cell_type": "code",
   "execution_count": 118,
   "metadata": {},
   "outputs": [],
   "source": [
    "def find_best_threshold(threshould, fpr, tpr):\n",
    "    t = threshould[np.argmax(tpr*(1-fpr))]\n",
    "    # (tpr*(1-fpr)) will be maximum if your fpr is very low and tpr is very high\n",
    "    print(\"the maximum value of tpr*(1-fpr)\", max(tpr*(1-fpr)), \"for threshold\", np.round(t,3))\n",
    "    return t\n",
    "\n",
    "def predict_with_best_t(proba, threshould):\n",
    "    predictions = []\n",
    "    for i in proba:\n",
    "        if i>=threshould:\n",
    "            predictions.append(1)\n",
    "        else:\n",
    "            predictions.append(0)\n",
    "    return predictions"
   ]
  },
  {
   "cell_type": "code",
   "execution_count": 120,
   "metadata": {},
   "outputs": [
    {
     "name": "stdout",
     "output_type": "stream",
     "text": [
      "the maximum value of tpr*(1-fpr) 0.4760774961706644 for threshold 0.564\n",
      "Train confusion matrix\n",
      "[[ 4838  1978]\n",
      " [12537 25537]]\n",
      "Test confusion matrix\n",
      "[[ 3218  1792]\n",
      " [ 9493 18497]]\n"
     ]
    }
   ],
   "source": [
    "from sklearn.metrics import confusion_matrix\n",
    "\n",
    "best_t = find_best_threshold(tr_thresholds, train_fpr, train_tpr)\n",
    "\n",
    "print(\"Train confusion matrix\")\n",
    "conf_mat_train = confusion_matrix(Y_train, predict_with_best_t(y_train_pred, best_t))\n",
    "print(conf_mat_train)\n",
    "print(\"Test confusion matrix\")\n",
    "conf_mat_test = confusion_matrix(Y_test, predict_with_best_t(y_test_pred, best_t))\n",
    "print(conf_mat_test)"
   ]
  },
  {
   "cell_type": "code",
   "execution_count": 121,
   "metadata": {},
   "outputs": [
    {
     "data": {
      "text/plain": [
       "<AxesSubplot:>"
      ]
     },
     "execution_count": 121,
     "metadata": {},
     "output_type": "execute_result"
    },
    {
     "data": {
      "image/png": "[encoded data removed]",
      "text/plain": [
       "<Figure size 432x288 with 2 Axes>"
      ]
     },
     "metadata": {
      "needs_background": "light"
     },
     "output_type": "display_data"
    }
   ],
   "source": [
    "import seaborn as sns\n",
    "import matplotlib.pyplot as plt     \n",
    "\n",
    "sns.heatmap(conf_mat_train, annot=True,fmt=\"d\",cmap='Blues')"
   ]
  },
  {
   "cell_type": "code",
   "execution_count": 122,
   "metadata": {},
   "outputs": [
    {
     "data": {
      "text/plain": [
       "<AxesSubplot:>"
      ]
     },
     "execution_count": 122,
     "metadata": {},
     "output_type": "execute_result"
    },
    {
     "data": {
      "image/png": "[encoded data removed]",
      "text/plain": [
       "<Figure size 432x288 with 2 Axes>"
      ]
     },
     "metadata": {
      "needs_background": "light"
     },
     "output_type": "display_data"
    }
   ],
   "source": [
    "sns.heatmap(conf_mat_test , annot=True ,fmt='d' ,cmap='Reds')"
   ]
  },
  {
   "cell_type": "markdown",
   "metadata": {},
   "source": [
    "<h3>SET-2 </h3>"
   ]
  },
  {
   "cell_type": "markdown",
   "metadata": {},
   "source": [
    "####  Hyper parameter Tuning "
   ]
  },
  {
   "cell_type": "code",
   "execution_count": 123,
   "metadata": {},
   "outputs": [
    {
     "data": {
      "image/png": "[encoded data removed]",
      "text/plain": [
       "<Figure size 432x288 with 1 Axes>"
      ]
     },
     "metadata": {
      "needs_background": "light"
     },
     "output_type": "display_data"
    },
    {
     "data": {
      "text/html": [
       "<div>\n",
       "<style scoped>\n",
       "    .dataframe tbody tr th:only-of-type {\n",
       "        vertical-align: middle;\n",
       "    }\n",
       "\n",
       "    .dataframe tbody tr th {\n",
       "        vertical-align: top;\n",
       "    }\n",
       "\n",
       "    .dataframe thead th {\n",
       "        text-align: right;\n",
       "    }\n",
       "</style>\n",
       "<table border=\"1\" class=\"dataframe\">\n",
       "  <thead>\n",
       "    <tr style=\"text-align: right;\">\n",
       "      <th></th>\n",
       "      <th>mean_fit_time</th>\n",
       "      <th>std_fit_time</th>\n",
       "      <th>mean_score_time</th>\n",
       "      <th>std_score_time</th>\n",
       "      <th>param_alpha</th>\n",
       "      <th>params</th>\n",
       "      <th>split0_test_score</th>\n",
       "      <th>split1_test_score</th>\n",
       "      <th>split2_test_score</th>\n",
       "      <th>mean_test_score</th>\n",
       "      <th>std_test_score</th>\n",
       "      <th>rank_test_score</th>\n",
       "      <th>split0_train_score</th>\n",
       "      <th>split1_train_score</th>\n",
       "      <th>split2_train_score</th>\n",
       "      <th>mean_train_score</th>\n",
       "      <th>std_train_score</th>\n",
       "    </tr>\n",
       "  </thead>\n",
       "  <tbody>\n",
       "    <tr>\n",
       "      <th>9</th>\n",
       "      <td>0.046878</td>\n",
       "      <td>0.000002</td>\n",
       "      <td>0.020557</td>\n",
       "      <td>6.864999e-03</td>\n",
       "      <td>1e-05</td>\n",
       "      <td>{'alpha': 1e-05}</td>\n",
       "      <td>0.676232</td>\n",
       "      <td>0.680037</td>\n",
       "      <td>0.656508</td>\n",
       "      <td>0.670926</td>\n",
       "      <td>0.010312</td>\n",
       "      <td>4</td>\n",
       "      <td>0.762037</td>\n",
       "      <td>0.765595</td>\n",
       "      <td>0.759577</td>\n",
       "      <td>0.762403</td>\n",
       "      <td>0.002470</td>\n",
       "    </tr>\n",
       "    <tr>\n",
       "      <th>4</th>\n",
       "      <td>12.642128</td>\n",
       "      <td>17.812364</td>\n",
       "      <td>0.020828</td>\n",
       "      <td>7.357210e-03</td>\n",
       "      <td>0.0001</td>\n",
       "      <td>{'alpha': 0.0001}</td>\n",
       "      <td>0.676269</td>\n",
       "      <td>0.680210</td>\n",
       "      <td>0.656506</td>\n",
       "      <td>0.670995</td>\n",
       "      <td>0.010371</td>\n",
       "      <td>3</td>\n",
       "      <td>0.762005</td>\n",
       "      <td>0.765553</td>\n",
       "      <td>0.759574</td>\n",
       "      <td>0.762377</td>\n",
       "      <td>0.002455</td>\n",
       "    </tr>\n",
       "    <tr>\n",
       "      <th>1</th>\n",
       "      <td>0.048817</td>\n",
       "      <td>0.002609</td>\n",
       "      <td>0.013420</td>\n",
       "      <td>3.161949e-03</td>\n",
       "      <td>0.001</td>\n",
       "      <td>{'alpha': 0.001}</td>\n",
       "      <td>0.676304</td>\n",
       "      <td>0.680412</td>\n",
       "      <td>0.656487</td>\n",
       "      <td>0.671068</td>\n",
       "      <td>0.010445</td>\n",
       "      <td>1</td>\n",
       "      <td>0.761924</td>\n",
       "      <td>0.765456</td>\n",
       "      <td>0.759540</td>\n",
       "      <td>0.762307</td>\n",
       "      <td>0.002430</td>\n",
       "    </tr>\n",
       "    <tr>\n",
       "      <th>5</th>\n",
       "      <td>0.047374</td>\n",
       "      <td>0.000701</td>\n",
       "      <td>0.015626</td>\n",
       "      <td>3.893359e-07</td>\n",
       "      <td>0.01</td>\n",
       "      <td>{'alpha': 0.01}</td>\n",
       "      <td>0.676270</td>\n",
       "      <td>0.680502</td>\n",
       "      <td>0.656289</td>\n",
       "      <td>0.671020</td>\n",
       "      <td>0.010559</td>\n",
       "      <td>2</td>\n",
       "      <td>0.761519</td>\n",
       "      <td>0.765004</td>\n",
       "      <td>0.759197</td>\n",
       "      <td>0.761907</td>\n",
       "      <td>0.002386</td>\n",
       "    </tr>\n",
       "    <tr>\n",
       "      <th>2</th>\n",
       "      <td>0.051112</td>\n",
       "      <td>0.002987</td>\n",
       "      <td>0.015880</td>\n",
       "      <td>1.045579e-02</td>\n",
       "      <td>0.05</td>\n",
       "      <td>{'alpha': 0.05}</td>\n",
       "      <td>0.675920</td>\n",
       "      <td>0.679872</td>\n",
       "      <td>0.655403</td>\n",
       "      <td>0.670399</td>\n",
       "      <td>0.010725</td>\n",
       "      <td>5</td>\n",
       "      <td>0.759979</td>\n",
       "      <td>0.763370</td>\n",
       "      <td>0.757702</td>\n",
       "      <td>0.760351</td>\n",
       "      <td>0.002329</td>\n",
       "    </tr>\n",
       "    <tr>\n",
       "      <th>6</th>\n",
       "      <td>0.046872</td>\n",
       "      <td>0.000008</td>\n",
       "      <td>0.017001</td>\n",
       "      <td>1.944318e-03</td>\n",
       "      <td>0.1</td>\n",
       "      <td>{'alpha': 0.1}</td>\n",
       "      <td>0.675411</td>\n",
       "      <td>0.678889</td>\n",
       "      <td>0.654306</td>\n",
       "      <td>0.669536</td>\n",
       "      <td>0.010862</td>\n",
       "      <td>6</td>\n",
       "      <td>0.758146</td>\n",
       "      <td>0.761438</td>\n",
       "      <td>0.755878</td>\n",
       "      <td>0.758487</td>\n",
       "      <td>0.002283</td>\n",
       "    </tr>\n",
       "    <tr>\n",
       "      <th>8</th>\n",
       "      <td>0.057292</td>\n",
       "      <td>0.007363</td>\n",
       "      <td>0.010417</td>\n",
       "      <td>7.366145e-03</td>\n",
       "      <td>5</td>\n",
       "      <td>{'alpha': 5}</td>\n",
       "      <td>0.615059</td>\n",
       "      <td>0.604104</td>\n",
       "      <td>0.589651</td>\n",
       "      <td>0.602938</td>\n",
       "      <td>0.010405</td>\n",
       "      <td>7</td>\n",
       "      <td>0.642626</td>\n",
       "      <td>0.649091</td>\n",
       "      <td>0.653590</td>\n",
       "      <td>0.648435</td>\n",
       "      <td>0.004500</td>\n",
       "    </tr>\n",
       "    <tr>\n",
       "      <th>7</th>\n",
       "      <td>0.052584</td>\n",
       "      <td>0.007042</td>\n",
       "      <td>0.015627</td>\n",
       "      <td>1.215701e-06</td>\n",
       "      <td>10</td>\n",
       "      <td>{'alpha': 10}</td>\n",
       "      <td>0.585519</td>\n",
       "      <td>0.573645</td>\n",
       "      <td>0.565434</td>\n",
       "      <td>0.574866</td>\n",
       "      <td>0.008245</td>\n",
       "      <td>8</td>\n",
       "      <td>0.597443</td>\n",
       "      <td>0.603981</td>\n",
       "      <td>0.610702</td>\n",
       "      <td>0.604042</td>\n",
       "      <td>0.005413</td>\n",
       "    </tr>\n",
       "    <tr>\n",
       "      <th>0</th>\n",
       "      <td>0.052320</td>\n",
       "      <td>0.003871</td>\n",
       "      <td>0.015146</td>\n",
       "      <td>8.129606e-04</td>\n",
       "      <td>50</td>\n",
       "      <td>{'alpha': 50}</td>\n",
       "      <td>0.545462</td>\n",
       "      <td>0.537945</td>\n",
       "      <td>0.532850</td>\n",
       "      <td>0.538752</td>\n",
       "      <td>0.005180</td>\n",
       "      <td>9</td>\n",
       "      <td>0.542315</td>\n",
       "      <td>0.547166</td>\n",
       "      <td>0.551960</td>\n",
       "      <td>0.547147</td>\n",
       "      <td>0.003937</td>\n",
       "    </tr>\n",
       "    <tr>\n",
       "      <th>3</th>\n",
       "      <td>0.048258</td>\n",
       "      <td>0.006225</td>\n",
       "      <td>0.014657</td>\n",
       "      <td>1.159201e-02</td>\n",
       "      <td>100</td>\n",
       "      <td>{'alpha': 100}</td>\n",
       "      <td>0.538389</td>\n",
       "      <td>0.532282</td>\n",
       "      <td>0.526233</td>\n",
       "      <td>0.532301</td>\n",
       "      <td>0.004963</td>\n",
       "      <td>10</td>\n",
       "      <td>0.533057</td>\n",
       "      <td>0.537048</td>\n",
       "      <td>0.542003</td>\n",
       "      <td>0.537369</td>\n",
       "      <td>0.003659</td>\n",
       "    </tr>\n",
       "  </tbody>\n",
       "</table>\n",
       "</div>"
      ],
      "text/plain": [
       "   mean_fit_time  std_fit_time  mean_score_time  std_score_time param_alpha  \\\n",
       "9       0.046878      0.000002         0.020557    6.864999e-03       1e-05   \n",
       "4      12.642128     17.812364         0.020828    7.357210e-03      0.0001   \n",
       "1       0.048817      0.002609         0.013420    3.161949e-03       0.001   \n",
       "5       0.047374      0.000701         0.015626    3.893359e-07        0.01   \n",
       "2       0.051112      0.002987         0.015880    1.045579e-02        0.05   \n",
       "6       0.046872      0.000008         0.017001    1.944318e-03         0.1   \n",
       "8       0.057292      0.007363         0.010417    7.366145e-03           5   \n",
       "7       0.052584      0.007042         0.015627    1.215701e-06          10   \n",
       "0       0.052320      0.003871         0.015146    8.129606e-04          50   \n",
       "3       0.048258      0.006225         0.014657    1.159201e-02         100   \n",
       "\n",
       "              params  split0_test_score  split1_test_score  split2_test_score  \\\n",
       "9   {'alpha': 1e-05}           0.676232           0.680037           0.656508   \n",
       "4  {'alpha': 0.0001}           0.676269           0.680210           0.656506   \n",
       "1   {'alpha': 0.001}           0.676304           0.680412           0.656487   \n",
       "5    {'alpha': 0.01}           0.676270           0.680502           0.656289   \n",
       "2    {'alpha': 0.05}           0.675920           0.679872           0.655403   \n",
       "6     {'alpha': 0.1}           0.675411           0.678889           0.654306   \n",
       "8       {'alpha': 5}           0.615059           0.604104           0.589651   \n",
       "7      {'alpha': 10}           0.585519           0.573645           0.565434   \n",
       "0      {'alpha': 50}           0.545462           0.537945           0.532850   \n",
       "3     {'alpha': 100}           0.538389           0.532282           0.526233   \n",
       "\n",
       "   mean_test_score  std_test_score  rank_test_score  split0_train_score  \\\n",
       "9         0.670926        0.010312                4            0.762037   \n",
       "4         0.670995        0.010371                3            0.762005   \n",
       "1         0.671068        0.010445                1            0.761924   \n",
       "5         0.671020        0.010559                2            0.761519   \n",
       "2         0.670399        0.010725                5            0.759979   \n",
       "6         0.669536        0.010862                6            0.758146   \n",
       "8         0.602938        0.010405                7            0.642626   \n",
       "7         0.574866        0.008245                8            0.597443   \n",
       "0         0.538752        0.005180                9            0.542315   \n",
       "3         0.532301        0.004963               10            0.533057   \n",
       "\n",
       "   split1_train_score  split2_train_score  mean_train_score  std_train_score  \n",
       "9            0.765595            0.759577          0.762403         0.002470  \n",
       "4            0.765553            0.759574          0.762377         0.002455  \n",
       "1            0.765456            0.759540          0.762307         0.002430  \n",
       "5            0.765004            0.759197          0.761907         0.002386  \n",
       "2            0.763370            0.757702          0.760351         0.002329  \n",
       "6            0.761438            0.755878          0.758487         0.002283  \n",
       "8            0.649091            0.653590          0.648435         0.004500  \n",
       "7            0.603981            0.610702          0.604042         0.005413  \n",
       "0            0.547166            0.551960          0.547147         0.003937  \n",
       "3            0.537048            0.542003          0.537369         0.003659  "
      ]
     },
     "execution_count": 123,
     "metadata": {},
     "output_type": "execute_result"
    }
   ],
   "source": [
    "from sklearn.naive_bayes import MultinomialNB\n",
    "from sklearn.model_selection import RandomizedSearchCV\n",
    "from math import log\n",
    "MNB = MultinomialNB(class_prior=[0.5, 0.5])\n",
    "parameters = {'alpha': [0.00001, 0.0001,0.001,0.05,0.01,0.1,1,5,10,50,100] }\n",
    "clf_2= RandomizedSearchCV(MNB,parameters,cv=3,scoring='roc_auc',return_train_score=True)\n",
    "clf_2.fit(X_tr_set_2,Y_train)\n",
    "\n",
    "results_2 = pd.DataFrame.from_dict(clf_2.cv_results_)\n",
    "\n",
    "results_2 = results_2.sort_values(['param_alpha'])\n",
    "\n",
    "\n",
    "train_auc_2= results_2['mean_train_score']\n",
    "train_auc_std_2= results_2['std_train_score']\n",
    "cv_auc_2 = results_2['mean_test_score'] \n",
    "cv_auc_std_2= results_2['std_test_score']\n",
    "a_2 =  results_2['param_alpha']\n",
    "a_2=[log(y,10) for y in a_2]\n",
    "plt.plot(a_2, train_auc_2, label='Train AUC')\n",
    "plt.plot(a_2, cv_auc_2, label='CV AUC')\n",
    "plt.scatter(a_2, train_auc_2, label='Train AUC points')\n",
    "plt.scatter(a_2, cv_auc_2, label='CV AUC points')\n",
    "\n",
    "plt.legend()\n",
    "plt.xlabel(\"log(alpha): hyperparameter\")\n",
    "plt.ylabel(\"AUC\")\n",
    "plt.title(\"Hyper parameter Vs AUC plot\")\n",
    "plt.grid()\n",
    "plt.show()\n",
    "\n",
    "results_2"
   ]
  },
  {
   "cell_type": "code",
   "execution_count": 124,
   "metadata": {},
   "outputs": [
    {
     "data": {
      "text/plain": [
       "{'alpha': 0.001}"
      ]
     },
     "execution_count": 124,
     "metadata": {},
     "output_type": "execute_result"
    }
   ],
   "source": [
    "clf_2.best_params_"
   ]
  },
  {
   "cell_type": "code",
   "execution_count": 125,
   "metadata": {},
   "outputs": [],
   "source": [
    "best_alpha_2 = 0.001"
   ]
  },
  {
   "cell_type": "code",
   "execution_count": 126,
   "metadata": {},
   "outputs": [
    {
     "data": {
      "image/png": "[encoded data removed]",
      "text/plain": [
       "<Figure size 432x288 with 1 Axes>"
      ]
     },
     "metadata": {
      "needs_background": "light"
     },
     "output_type": "display_data"
    }
   ],
   "source": [
    "from sklearn.metrics import roc_curve, auc\n",
    "\n",
    "MNB = MultinomialNB(alpha=best_alpha_2,class_prior=[0.5, 0.5])\n",
    "MNB.fit(X_tr_set_2,Y_train)\n",
    "\n",
    "y_train_pred_2 = batch_predict(MNB,X_tr_set_2)\n",
    "y_test_pred_2 = batch_predict(MNB,X_te_set_2)\n",
    "\n",
    "train_fpr_2, train_tpr_2, tr_thresholds_2 = roc_curve(Y_train, y_train_pred_2)\n",
    "test_fpr_2, test_tpr_2, te_thresholds_2 = roc_curve(Y_test, y_test_pred_2)\n",
    "\n",
    "plt.plot(train_fpr_2, train_tpr_2, label=\"train AUC =\"+str(auc(train_fpr_2, train_tpr_2)))\n",
    "plt.plot(test_fpr_2, test_tpr_2, label=\"test AUC =\"+str(auc(test_fpr_2, test_tpr_2)))\n",
    "plt.legend()\n",
    "plt.xlabel(\"FPR\")\n",
    "plt.ylabel(\"TPR\")\n",
    "plt.title(\"AUC -ROC CURVE\")\n",
    "plt.grid()\n",
    "plt.show()"
   ]
  },
  {
   "cell_type": "markdown",
   "metadata": {},
   "source": [
    "Confusion Matrix"
   ]
  },
  {
   "cell_type": "code",
   "execution_count": 127,
   "metadata": {},
   "outputs": [
    {
     "name": "stdout",
     "output_type": "stream",
     "text": [
      "the maximum value of tpr*(1-fpr) 0.4760774961706644 for threshold 0.564\n",
      "Train confusion matrix\n",
      "[[ 5367  1449]\n",
      " [17103 20971]]\n",
      "Test confusion matrix\n",
      "[[ 3641  1369]\n",
      " [12898 15092]]\n"
     ]
    }
   ],
   "source": [
    "from sklearn.metrics import confusion_matrix\n",
    "\n",
    "best_t_2 = find_best_threshold(tr_thresholds, train_fpr, train_tpr)\n",
    "\n",
    "print(\"Train confusion matrix\")\n",
    "conf_mat_train_2 = confusion_matrix(Y_train, predict_with_best_t(y_train_pred_2, best_t_2))\n",
    "print(conf_mat_train_2)\n",
    "print(\"Test confusion matrix\")\n",
    "conf_mat_test_2 = confusion_matrix(Y_test, predict_with_best_t(y_test_pred_2, best_t_2))\n",
    "print(conf_mat_test_2)"
   ]
  },
  {
   "cell_type": "code",
   "execution_count": 128,
   "metadata": {},
   "outputs": [
    {
     "data": {
      "text/plain": [
       "<AxesSubplot:>"
      ]
     },
     "execution_count": 128,
     "metadata": {},
     "output_type": "execute_result"
    },
    {
     "data": {
      "image/png": "[encoded data removed]",
      "text/plain": [
       "<Figure size 432x288 with 2 Axes>"
      ]
     },
     "metadata": {
      "needs_background": "light"
     },
     "output_type": "display_data"
    }
   ],
   "source": [
    "import seaborn as sns\n",
    "import matplotlib.pyplot as plt     \n",
    "\n",
    "sns.heatmap(conf_mat_train_2, annot=True,fmt=\"d\",cmap='Oranges')"
   ]
  },
  {
   "cell_type": "code",
   "execution_count": 129,
   "metadata": {},
   "outputs": [
    {
     "data": {
      "text/plain": [
       "<AxesSubplot:>"
      ]
     },
     "execution_count": 129,
     "metadata": {},
     "output_type": "execute_result"
    },
    {
     "data": {
      "image/png": "[encoded data removed]",
      "text/plain": [
       "<Figure size 432x288 with 2 Axes>"
      ]
     },
     "metadata": {
      "needs_background": "light"
     },
     "output_type": "display_data"
    }
   ],
   "source": [
    "sns.heatmap(conf_mat_test_2, annot=True,fmt=\"d\",cmap='Greens')"
   ]
  },
  {
   "cell_type": "markdown",
   "metadata": {},
   "source": [
    "<h3>TOP 20 FEATURES</h3>"
   ]
  },
  {
   "cell_type": "code",
   "execution_count": 130,
   "metadata": {},
   "outputs": [
    {
     "data": {
      "text/plain": [
       "10101"
      ]
     },
     "execution_count": 130,
     "metadata": {},
     "output_type": "execute_result"
    }
   ],
   "source": [
    "feature_names=[]\n",
    "feature_names.extend(vectorizer_st.get_feature_names())\n",
    "feature_names.extend(vectorizer_tp.get_feature_names())\n",
    "feature_names.extend(vectorizer_gc.get_feature_names())\n",
    "feature_names.extend(vectorizer_cc.get_feature_names())\n",
    "feature_names.extend(vectorizer_csc.get_feature_names())\n",
    "feature_names.extend(vectorizer_ess.get_feature_names())\n",
    "feature_names.append('Price')\n",
    "feature_names.append('teacher_number_of_previously_posted_projects')\n",
    "len(feature_names)"
   ]
  },
  {
   "cell_type": "code",
   "execution_count": 131,
   "metadata": {},
   "outputs": [
    {
     "name": "stdout",
     "output_type": "stream",
     "text": [
      "Indices of TOP 20 featues for negative class :  [10053 10064 10059 10065 10054 10056 10088 10086 10087 10057 10004 10062\n",
      " 10095 10067 10060 10069  7826 10058 10052]\n",
      "\n",
      "Indices of Top 20 features for positive class :  [10053 10064 10059 10065 10054 10056 10086 10088 10087 10057 10004 10062\n",
      " 10095 10067  7826 10060 10084 10058 10052]\n"
     ]
    }
   ],
   "source": [
    "proba_neg = MNB.feature_log_prob_[0]\n",
    "#print(proba_neg)\n",
    "proba_pos = MNB.feature_log_prob_[1]\n",
    "#print(proba_pos)\n",
    "\n",
    "sorted_proba_neg = np.argsort(proba_neg)\n",
    "sorted_proba_neg = np.flipud(sorted_proba_neg)\n",
    "top_20_neg = sorted_proba_neg[0:19]\n",
    "print(\"Indices of TOP 20 featues for negative class : \",top_20_neg)\n",
    "\n",
    "sorted_proba_pos = np.argsort(proba_pos)\n",
    "sorted_proba_pos = np.flipud(sorted_proba_pos)\n",
    "top_20_pos = sorted_proba_pos[0:19]\n",
    "print(\"\\nIndices of Top 20 features for positive class : \",top_20_pos)"
   ]
  },
  {
   "cell_type": "code",
   "execution_count": 132,
   "metadata": {},
   "outputs": [
    {
     "name": "stdout",
     "output_type": "stream",
     "text": [
      "TOP 20 featues for negative class : \n",
      "year would\n",
      "yes\n",
      "years come\n",
      "yet\n",
      "year would like\n",
      "yearbook\n",
      "your donation\n",
      "youngest\n",
      "your\n",
      "years\n",
      "would provide\n",
      "years students\n",
      "your support\n",
      "yoga ball\n",
      "years come nannan\n",
      "yoga mats\n",
      "stem science technology\n",
      "years ago\n",
      "year we\n",
      "\n",
      "Top 20 features for positive class : \n",
      "year would\n",
      "yes\n",
      "years come\n",
      "yet\n",
      "year would like\n",
      "yearbook\n",
      "youngest\n",
      "your donation\n",
      "your\n",
      "years\n",
      "would provide\n",
      "years students\n",
      "your support\n",
      "yoga ball\n",
      "stem science technology\n",
      "years come nannan\n",
      "younger siblings\n",
      "years ago\n",
      "year we\n"
     ]
    }
   ],
   "source": [
    "print(\"TOP 20 featues for negative class : \")\n",
    "for i in top_20_neg:\n",
    "    print(feature_names[i])\n",
    "print(\"\\nTop 20 features for positive class : \")\n",
    "for j in top_20_pos:\n",
    "    print(feature_names[j])"
   ]
  },
  {
   "cell_type": "markdown",
   "metadata": {
    "id": "lS9hIHdib3dp"
   },
   "source": [
    "<h1>3. Summary</h1>\n",
    "\n",
    "<br> as mentioned in the step 5 of instructions"
   ]
  },
  {
   "cell_type": "code",
   "execution_count": 133,
   "metadata": {},
   "outputs": [
    {
     "name": "stdout",
     "output_type": "stream",
     "text": [
      "+------------+-------------+----------------+--------------------+\n",
      "| Vectorizer |    Model    | Hyperparameter |        AUC         |\n",
      "+------------+-------------+----------------+--------------------+\n",
      "|    BOW     | Naive Bayes |      0.05      | 0.700916687525271  |\n",
      "|   TFIDF    | Naive Bayes |     0.001      | 0.6816031566734341 |\n",
      "+------------+-------------+----------------+--------------------+\n"
     ]
    }
   ],
   "source": [
    "from prettytable import PrettyTable \n",
    "\n",
    "myTable = PrettyTable([\"Vectorizer\", \"Model\", \"Hyperparameter\", \"AUC\"])\n",
    "myTable.add_row([\"BOW\", \"Naive Bayes\", best_alpha, auc(test_fpr, test_tpr)]) \n",
    "myTable.add_row([\"TFIDF\", \"Naive Bayes\", best_alpha_2, auc(test_fpr_2, test_tpr_2)]) \n",
    "print(myTable)"
   ]
  },
  {
   "cell_type": "code",
   "execution_count": null,
   "metadata": {},
   "outputs": [],
   "source": []
  },
  {
   "cell_type": "code",
   "execution_count": null,
   "metadata": {},
   "outputs": [],
   "source": []
  }
 ],
 "metadata": {
  "colab": {
   "collapsed_sections": [],
   "name": "6_Assignment_NB_Instructions.ipynb",
   "provenance": []
  },
  "kernelspec": {
   "display_name": "Python 3",
   "language": "python",
   "name": "python3"
  },
  "language_info": {
   "codemirror_mode": {
    "name": "ipython",
    "version": 3
   },
   "file_extension": ".py",
   "mimetype": "text/x-python",
   "name": "python",
   "nbconvert_exporter": "python",
   "pygments_lexer": "ipython3",
   "version": "3.6.13"
  }
 },
 "nbformat": 4,
 "nbformat_minor": 1
}
